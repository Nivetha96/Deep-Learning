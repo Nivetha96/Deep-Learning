{
 "cells": [
  {
   "cell_type": "markdown",
   "metadata": {},
   "source": [
    "# NUMPY"
   ]
  },
  {
   "cell_type": "markdown",
   "metadata": {},
   "source": [
    "NumPy’s main object is the homogeneous multidimensional array. It is a table of elements (usually numbers), all of the same type, indexed by a tuple of positive integers. In NumPy dimensions are called axes.\n",
    "\n",
    "For example, the coordinates of a point in 3D space [1, 2, 1] has one axis. That axis has 3 elements in it, so we say it has a length of 3. "
   ]
  },
  {
   "cell_type": "markdown",
   "metadata": {},
   "source": [
    "### numpy.array(object, dtype = None, copy = True, order = None, subok = False, ndmin = 0)\n"
   ]
  },
  {
   "cell_type": "markdown",
   "metadata": {},
   "source": [
    "dtype-> datatype;\n",
    "copy-> 'true' b default;\n",
    "order-> 'C' for row major, 'F' for column major, 'A' for any(default);\n",
    "ndmin-> dimensionality;"
   ]
  },
  {
   "cell_type": "code",
   "execution_count": 27,
   "metadata": {},
   "outputs": [
    {
     "name": "stdout",
     "output_type": "stream",
     "text": [
      "arr1=  [1 2 3]\n",
      "arr2=  [[1 2 3]\n",
      " [4 5 6]]\n",
      "arr3=  [[1 2]\n",
      " [3 4]\n",
      " [7 8]]\n",
      "arr4=  ['1' '2' '3']\n"
     ]
    }
   ],
   "source": [
    "import numpy as np\n",
    "arr1=np.array([1,2,3])#one-dimensional\n",
    "print(\"arr1= \",arr1)\n",
    "arr2=np.array([[1,2,3],[4,5,6]])\n",
    "print(\"arr2= \",arr2)\n",
    "arr3=np.array([[1,2],[3,4],[7,8]])\n",
    "print(\"arr3= \",arr3)\n",
    "arr4=np.array([1,2,3],dtype=str)\n",
    "print(\"arr4= \",arr4)"
   ]
  },
  {
   "cell_type": "code",
   "execution_count": 33,
   "metadata": {},
   "outputs": [
    {
     "name": "stdout",
     "output_type": "stream",
     "text": [
      "2\n",
      "(3, 2)\n",
      "6\n",
      "int32\n",
      "4\n",
      "<memory at 0x000001814EA447E0>\n",
      "<class 'numpy.ndarray'>\n"
     ]
    }
   ],
   "source": [
    "print(arr3.ndim) #number of axes of the array\n",
    "print(arr3.shape) #row by column dimensionality\n",
    "print(arr3.size) #arra length\n",
    "print(arr3.dtype) #datatype\n",
    "print(arr3.itemsize) #size in bytes, 32/8=4\n",
    "print(arr3.data) #buffer address\n",
    "print(type(arr3))"
   ]
  },
  {
   "cell_type": "markdown",
   "metadata": {},
   "source": [
    "## Creating arrays of 1s/ 0s"
   ]
  },
  {
   "cell_type": "code",
   "execution_count": 34,
   "metadata": {},
   "outputs": [
    {
     "data": {
      "text/plain": [
       "array([[ 0.,  0.,  0.,  0.],\n",
       "       [ 0.,  0.,  0.,  0.],\n",
       "       [ 0.,  0.,  0.,  0.]])"
      ]
     },
     "execution_count": 34,
     "metadata": {},
     "output_type": "execute_result"
    }
   ],
   "source": [
    "np.zeros((3,4))"
   ]
  },
  {
   "cell_type": "code",
   "execution_count": 37,
   "metadata": {},
   "outputs": [
    {
     "data": {
      "text/plain": [
       "array([[ 1.+0.j,  1.+0.j],\n",
       "       [ 1.+0.j,  1.+0.j]])"
      ]
     },
     "execution_count": 37,
     "metadata": {},
     "output_type": "execute_result"
    }
   ],
   "source": [
    "np.ones((2,2), dtype=complex)"
   ]
  },
  {
   "cell_type": "code",
   "execution_count": 38,
   "metadata": {},
   "outputs": [
    {
     "data": {
      "text/plain": [
       "array([[  0.00000000e+000,   2.45056560e-321,   2.47032823e-323],\n",
       "       [  8.17604177e-312,   0.00000000e+000,   6.47616308e-319],\n",
       "       [  8.17603304e-312,   0.00000000e+000,   2.47032823e-323]])"
      ]
     },
     "execution_count": 38,
     "metadata": {},
     "output_type": "execute_result"
    }
   ],
   "source": [
    "np.empty((3,3)) #the function empty creates an array whose initial content is random and depends on the state of the memory"
   ]
  },
  {
   "cell_type": "markdown",
   "metadata": {},
   "source": [
    "## To create a sequence of numbers as array"
   ]
  },
  {
   "cell_type": "code",
   "execution_count": 42,
   "metadata": {},
   "outputs": [
    {
     "data": {
      "text/plain": [
       "array([10, 15, 20, 25])"
      ]
     },
     "execution_count": 42,
     "metadata": {},
     "output_type": "execute_result"
    }
   ],
   "source": [
    "np.arange(10,30,5) #range from 10 till 30 stepped up by 5"
   ]
  },
  {
   "cell_type": "code",
   "execution_count": 43,
   "metadata": {},
   "outputs": [
    {
     "data": {
      "text/plain": [
       "array([ 0.2,  0.4,  0.6,  0.8])"
      ]
     },
     "execution_count": 43,
     "metadata": {},
     "output_type": "execute_result"
    }
   ],
   "source": [
    "np.arange(0.2,1.0,0.2)"
   ]
  },
  {
   "cell_type": "code",
   "execution_count": 44,
   "metadata": {},
   "outputs": [
    {
     "data": {
      "text/plain": [
       "array([ 1. ,  1.1,  1.2,  1.3,  1.4,  1.5,  1.6,  1.7,  1.8,  1.9])"
      ]
     },
     "execution_count": 44,
     "metadata": {},
     "output_type": "execute_result"
    }
   ],
   "source": [
    "np.arange(1,2,0.1)"
   ]
  },
  {
   "cell_type": "code",
   "execution_count": 45,
   "metadata": {},
   "outputs": [
    {
     "data": {
      "text/plain": [
       "array([ 0.  ,  0.25,  0.5 ,  0.75,  1.  ,  1.25,  1.5 ,  1.75,  2.  ])"
      ]
     },
     "execution_count": 45,
     "metadata": {},
     "output_type": "execute_result"
    }
   ],
   "source": [
    "np.linspace(0,2,9) #equally divides the range and outputs(3rd param), number of values as mentioned"
   ]
  },
  {
   "cell_type": "code",
   "execution_count": 46,
   "metadata": {},
   "outputs": [
    {
     "data": {
      "text/plain": [
       "array([0, 1, 2, 3, 4, 5])"
      ]
     },
     "execution_count": 46,
     "metadata": {},
     "output_type": "execute_result"
    }
   ],
   "source": [
    "np.arange(6)"
   ]
  },
  {
   "cell_type": "code",
   "execution_count": 47,
   "metadata": {},
   "outputs": [
    {
     "data": {
      "text/plain": [
       "array([[0, 1, 2, 3, 4],\n",
       "       [5, 6, 7, 8, 9]])"
      ]
     },
     "execution_count": 47,
     "metadata": {},
     "output_type": "execute_result"
    }
   ],
   "source": [
    "np.arange(10).reshape(2,5)"
   ]
  },
  {
   "cell_type": "code",
   "execution_count": 49,
   "metadata": {},
   "outputs": [
    {
     "name": "stdout",
     "output_type": "stream",
     "text": [
      "[[[0 1]\n",
      "  [2 3]]\n",
      "\n",
      " [[4 5]\n",
      "  [6 7]]]\n",
      "3\n"
     ]
    }
   ],
   "source": [
    "arr=np.arange(8).reshape(2,2,2)\n",
    "print(arr)\n",
    "print(arr.ndim)"
   ]
  },
  {
   "cell_type": "markdown",
   "metadata": {},
   "source": [
    "## Basic Operations"
   ]
  },
  {
   "cell_type": "code",
   "execution_count": 55,
   "metadata": {},
   "outputs": [
    {
     "name": "stdout",
     "output_type": "stream",
     "text": [
      "[10 19 28 37]\n",
      "[ 100  361  784 1369]\n",
      "[20 40 60 80]\n",
      "[ 0.          0.05        0.06666667  0.075     ]\n",
      "[-54.40211109  91.29452507 -98.80316241  74.51131605]\n",
      "[ True  True False False]\n"
     ]
    }
   ],
   "source": [
    "a=np.array([10,20,30,40])\n",
    "b=np.arange(4)\n",
    "c=a-b\n",
    "print(c)\n",
    "print(c**2)\n",
    "print(2*a)\n",
    "print(b/a)\n",
    "print(100*np.sin(a))\n",
    "print(a<30)"
   ]
  },
  {
   "cell_type": "code",
   "execution_count": 57,
   "metadata": {},
   "outputs": [
    {
     "name": "stdout",
     "output_type": "stream",
     "text": [
      "[[1 2]\n",
      " [2 6]]\n",
      "[[3 5]\n",
      " [5 8]]\n",
      "[[3 5]\n",
      " [5 8]]\n"
     ]
    }
   ],
   "source": [
    "a=np.array([[1,1],[1,2]])\n",
    "b=np.array([[1,2],[2,3]])\n",
    "print(a*b)#elementwise product\n",
    "print(a@b)#matrix multiplication product\n",
    "print(a.dot(b))#matrix multiplication product"
   ]
  },
  {
   "cell_type": "code",
   "execution_count": 64,
   "metadata": {},
   "outputs": [
    {
     "name": "stdout",
     "output_type": "stream",
     "text": [
      "[[ 0.90185177  0.76381107  0.74161751]\n",
      " [ 0.78208764  0.50052447  0.09588772]\n",
      " [ 0.65412001  0.47828381  0.13267988]]\n",
      "[[ 1.  1.  1.]\n",
      " [ 1.  1.  1.]\n",
      " [ 1.  1.  1.]]\n"
     ]
    }
   ],
   "source": [
    "a=np.random.random((3,3))\n",
    "print(a)\n",
    "b=np.ones((3,3))\n",
    "print(b)"
   ]
  },
  {
   "cell_type": "code",
   "execution_count": 73,
   "metadata": {},
   "outputs": [
    {
     "name": "stdout",
     "output_type": "stream",
     "text": [
      "[[ 9.90185177  9.76381107  9.74161751]\n",
      " [ 9.78208764  9.50052447  9.09588772]\n",
      " [ 9.65412001  9.47828381  9.13267988]]\n",
      "86.0508638902\n",
      "9.0958877152\n",
      "9.90185177138\n",
      "[ 29.33805943  28.74261935  27.97018511]\n",
      "[ 29.40728035  28.37849983  28.26508371]\n",
      "[ 9.74161751  9.09588772  9.13267988]\n",
      "[[  9.90185177  19.66566284  29.40728035]\n",
      " [  9.78208764  19.28261212  28.37849983]\n",
      " [  9.65412001  19.13240382  28.26508371]]\n",
      "[  9.90185177  19.66566284  29.40728035  39.18936799  48.68989247\n",
      "  57.78578018  67.43990019  76.91818401  86.05086389]\n"
     ]
    }
   ],
   "source": [
    "a+=b\n",
    "print(a)\n",
    "#b+=a -> causes error as int has to be upcasted to float explicitly\n",
    "print(a.sum())\n",
    "print(a.min())\n",
    "print(a.max())\n",
    "print(a.sum(axis=0))#sum of each column\n",
    "print(a.sum(axis=1))#sum of each row\n",
    "print(a.min(axis=1))#minimum of each row\n",
    "print(a.cumsum(axis=1))#cumulative sum o each row\n",
    "print(a.cumsum())"
   ]
  },
  {
   "cell_type": "markdown",
   "metadata": {},
   "source": [
    "## Universal Functions"
   ]
  },
  {
   "cell_type": "code",
   "execution_count": 80,
   "metadata": {},
   "outputs": [
    {
     "name": "stdout",
     "output_type": "stream",
     "text": [
      "[ 1.  2.  3.]\n",
      "[  3.55975281e+00   5.38413475e+01   8.10349605e+03]\n"
     ]
    }
   ],
   "source": [
    "a=np.array([1,4,9])\n",
    "print(np.sqrt(a))\n",
    "print(np.add(np.exp(a),np.sin(a)))"
   ]
  },
  {
   "cell_type": "markdown",
   "metadata": {},
   "source": [
    "## Indexing,Slicing,Iterating"
   ]
  },
  {
   "cell_type": "code",
   "execution_count": 90,
   "metadata": {},
   "outputs": [
    {
     "name": "stdout",
     "output_type": "stream",
     "text": [
      "[  0   1   8  27  64 125 216 343 512 729]\n",
      "[  8  27  64 125 216]\n",
      "[729 512 343 216 125  64  27   8   1   0]\n",
      "[ 0  8 64]\n",
      "[512 343 216 125  64  27   8   1   0]\n"
     ]
    }
   ],
   "source": [
    "a=np.arange(10)**3\n",
    "print(a)\n",
    "print(a[2:7])\n",
    "print(a[::-1])\n",
    "print(a[:6:2])\n",
    "print(a[8::-1])"
   ]
  },
  {
   "cell_type": "code",
   "execution_count": 91,
   "metadata": {},
   "outputs": [
    {
     "name": "stdout",
     "output_type": "stream",
     "text": [
      "0.0\n",
      "1.0\n",
      "2.0\n",
      "3.0\n",
      "4.0\n",
      "5.0\n",
      "6.0\n",
      "7.0\n",
      "8.0\n",
      "9.0\n"
     ]
    }
   ],
   "source": [
    "for i in a:\n",
    "    print(i**(1/3.)) #taking cuberoot"
   ]
  },
  {
   "cell_type": "code",
   "execution_count": 102,
   "metadata": {},
   "outputs": [
    {
     "name": "stdout",
     "output_type": "stream",
     "text": [
      "[[ 0  1]\n",
      " [10 11]]\n",
      "1\n",
      "1\n",
      "[ 1 11]\n",
      "[[ 0  1]\n",
      " [10 11]]\n",
      "[10 11]\n"
     ]
    }
   ],
   "source": [
    "def f(x,y):\n",
    "    return 10*x+y\n",
    "\n",
    "b=np.fromfunction(f,(2,2),dtype=int)\n",
    "print(b)\n",
    "print(b[0][1])\n",
    "print(b[0,1])\n",
    "print(b[0:2,1])#printing all the elements in 2nd column\n",
    "print(b[0:2,:])#printing each column in the 1st and 2nd row\n",
    "print(b[-1])#printing last row"
   ]
  },
  {
   "cell_type": "markdown",
   "metadata": {},
   "source": [
    "The expression within brackets in b[i] is treated as an i followed by as many instances of : as needed to represent the remaining axes. NumPy also allows you to write this using dots as b[i,...].\n",
    "\n",
    "The dots (...) represent as many colons as needed to produce a complete indexing tuple. For example, if x is an array with 5 axes, then\n",
    "\n",
    "x[1,2,...] is equivalent to x[1,2,:,:,:],\n",
    "x[...,3] to x[:,:,:,:,3] and\n",
    "x[4,...,5,:] to x[4,:,:,5,:]."
   ]
  },
  {
   "cell_type": "code",
   "execution_count": null,
   "metadata": {
    "collapsed": true
   },
   "outputs": [],
   "source": []
  }
 ],
 "metadata": {
  "kernelspec": {
   "display_name": "Python [conda root]",
   "language": "python",
   "name": "conda-root-py"
  },
  "language_info": {
   "codemirror_mode": {
    "name": "ipython",
    "version": 3
   },
   "file_extension": ".py",
   "mimetype": "text/x-python",
   "name": "python",
   "nbconvert_exporter": "python",
   "pygments_lexer": "ipython3",
   "version": "3.6.3"
  }
 },
 "nbformat": 4,
 "nbformat_minor": 2
}
