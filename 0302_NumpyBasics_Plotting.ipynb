{
  "nbformat": 4,
  "nbformat_minor": 0,
  "metadata": {
    "colab": {
      "name": "0302_NumpyBasics_Plotting.ipynb",
      "version": "0.3.2",
      "provenance": []
    },
    "kernelspec": {
      "display_name": "Python [conda root]",
      "language": "python",
      "name": "conda-root-py"
    }
  },
  "cells": [
    {
      "metadata": {
        "id": "J7gDyJCHh8Br",
        "colab_type": "text"
      },
      "cell_type": "markdown",
      "source": [
        "# NUMPY"
      ]
    },
    {
      "metadata": {
        "id": "ZfZHV9Vuh8Bu",
        "colab_type": "text"
      },
      "cell_type": "markdown",
      "source": [
        "NumPy’s main object is the homogeneous multidimensional array. It is a table of elements (usually numbers), all of the same type, indexed by a tuple of positive integers. In NumPy dimensions are called axes.\n",
        "\n",
        "For example, the coordinates of a point in 3D space [1, 2, 1] has one axis. That axis has 3 elements in it, so we say it has a length of 3. "
      ]
    },
    {
      "metadata": {
        "id": "NPi9xr8ih8By",
        "colab_type": "text"
      },
      "cell_type": "markdown",
      "source": [
        "### numpy.array(object, dtype = None, copy = True, order = None, subok = False, ndmin = 0)\n"
      ]
    },
    {
      "metadata": {
        "id": "2iJBs4n9h8B0",
        "colab_type": "text"
      },
      "cell_type": "markdown",
      "source": [
        "dtype-> datatype;\n",
        "copy-> 'true' b default;\n",
        "order-> 'C' for row major, 'F' for column major, 'A' for any(default);\n",
        "ndmin-> dimensionality;"
      ]
    },
    {
      "metadata": {
        "id": "HbtuU0X2h8B2",
        "colab_type": "code",
        "colab": {
          "base_uri": "https://localhost:8080/",
          "height": 153
        },
        "outputId": "96e6dbc1-2c51-4f83-bd77-8e6fe0a5fb5a"
      },
      "cell_type": "code",
      "source": [
        "import numpy as np\n",
        "arr1=np.array([1,2,3])#one-dimensional\n",
        "print(\"arr1= \",arr1)\n",
        "arr2=np.array([[1,2,3],[4,5,6]])\n",
        "print(\"arr2= \",arr2)\n",
        "arr3=np.array([[1,2],[3,4],[7,8]])\n",
        "print(\"arr3= \",arr3)\n",
        "arr4=np.array([1,2,3],dtype=str)\n",
        "print(\"arr4= \",arr4)\n",
        "arr5=np.asarray(arr1,float)\n",
        "print(\"arr5= \",arr5)"
      ],
      "execution_count": 37,
      "outputs": [
        {
          "output_type": "stream",
          "text": [
            "('arr1= ', array([1, 2, 3]))\n",
            "('arr2= ', array([[1, 2, 3],\n",
            "       [4, 5, 6]]))\n",
            "('arr3= ', array([[1, 2],\n",
            "       [3, 4],\n",
            "       [7, 8]]))\n",
            "('arr4= ', array(['1', '2', '3'], dtype='|S1'))\n",
            "('arr5= ', array([1., 2., 3.]))\n"
          ],
          "name": "stdout"
        }
      ]
    },
    {
      "metadata": {
        "id": "PgLwcdZqh8CE",
        "colab_type": "code",
        "colab": {
          "base_uri": "https://localhost:8080/",
          "height": 136
        },
        "outputId": "8535a308-2f7a-4649-cca7-e1ca4d148cc8"
      },
      "cell_type": "code",
      "source": [
        "print(arr3.ndim) #number of axes of the array\n",
        "print(arr3.shape) #row by column dimensionality\n",
        "print(arr3.size) #arra length\n",
        "print(arr3.dtype) #datatype\n",
        "print(arr3.itemsize) #size in bytes, 32/8=4\n",
        "print(arr3.data) #buffer address\n",
        "print(type(arr3))"
      ],
      "execution_count": 17,
      "outputs": [
        {
          "output_type": "stream",
          "text": [
            "2\n",
            "(3, 2)\n",
            "6\n",
            "int64\n",
            "8\n",
            "\u0001\u0000\u0000\u0000\u0000\u0000\u0000\u0000\u0002\u0000\u0000\u0000\u0000\u0000\u0000\u0000\u0003\u0000\u0000\u0000\u0000\u0000\u0000\u0000\u0004\u0000\u0000\u0000\u0000\u0000\u0000\u0000\u0007\u0000\u0000\u0000\u0000\u0000\u0000\u0000\b\u0000\u0000\u0000\u0000\u0000\u0000\u0000\n",
            "<type 'numpy.ndarray'>\n"
          ],
          "name": "stdout"
        }
      ]
    },
    {
      "metadata": {
        "id": "uqftcl4yh8CM",
        "colab_type": "text"
      },
      "cell_type": "markdown",
      "source": [
        "## Creating arrays of 1s/ 0s"
      ]
    },
    {
      "metadata": {
        "id": "aePI026nh8CO",
        "colab_type": "code",
        "colab": {
          "base_uri": "https://localhost:8080/",
          "height": 68
        },
        "outputId": "6a27d237-2299-4cc6-b146-8a7517a16777"
      },
      "cell_type": "code",
      "source": [
        "np.zeros((3,4))"
      ],
      "execution_count": 18,
      "outputs": [
        {
          "output_type": "execute_result",
          "data": {
            "text/plain": [
              "array([[0., 0., 0., 0.],\n",
              "       [0., 0., 0., 0.],\n",
              "       [0., 0., 0., 0.]])"
            ]
          },
          "metadata": {
            "tags": []
          },
          "execution_count": 18
        }
      ]
    },
    {
      "metadata": {
        "id": "oIHh0uX4h8CV",
        "colab_type": "code",
        "colab": {
          "base_uri": "https://localhost:8080/",
          "height": 51
        },
        "outputId": "8dabc9a1-3732-4ccf-a780-18f23305273f"
      },
      "cell_type": "code",
      "source": [
        "np.ones((2,2), dtype=complex)"
      ],
      "execution_count": 19,
      "outputs": [
        {
          "output_type": "execute_result",
          "data": {
            "text/plain": [
              "array([[1.+0.j, 1.+0.j],\n",
              "       [1.+0.j, 1.+0.j]])"
            ]
          },
          "metadata": {
            "tags": []
          },
          "execution_count": 19
        }
      ]
    },
    {
      "metadata": {
        "id": "3cDi6ZkYh8Cd",
        "colab_type": "code",
        "colab": {
          "base_uri": "https://localhost:8080/",
          "height": 68
        },
        "outputId": "d4e409a0-7c29-49ff-cda4-eec495a35b08"
      },
      "cell_type": "code",
      "source": [
        "np.empty((3,3)) #the function empty creates an array whose initial content is random and depends on the state of the memory"
      ],
      "execution_count": 20,
      "outputs": [
        {
          "output_type": "execute_result",
          "data": {
            "text/plain": [
              "array([[0.  , 0.25, 0.5 ],\n",
              "       [0.75, 1.  , 1.25],\n",
              "       [1.5 , 1.75, 2.  ]])"
            ]
          },
          "metadata": {
            "tags": []
          },
          "execution_count": 20
        }
      ]
    },
    {
      "metadata": {
        "id": "bhhUAqy8h8Ck",
        "colab_type": "text"
      },
      "cell_type": "markdown",
      "source": [
        "## To create a sequence of numbers as array"
      ]
    },
    {
      "metadata": {
        "id": "3qbNi-Q4h8Cm",
        "colab_type": "code",
        "colab": {
          "base_uri": "https://localhost:8080/",
          "height": 34
        },
        "outputId": "1d1ff6a0-99ad-4216-b948-00548a9c954e"
      },
      "cell_type": "code",
      "source": [
        "np.arange(10,30,5) #range from 10 till 30 stepped up by 5"
      ],
      "execution_count": 21,
      "outputs": [
        {
          "output_type": "execute_result",
          "data": {
            "text/plain": [
              "array([10, 15, 20, 25])"
            ]
          },
          "metadata": {
            "tags": []
          },
          "execution_count": 21
        }
      ]
    },
    {
      "metadata": {
        "id": "FI4YHqywh8Cv",
        "colab_type": "code",
        "colab": {
          "base_uri": "https://localhost:8080/",
          "height": 34
        },
        "outputId": "d3fc96e3-65f5-411c-bafa-89bd8f5c85b5"
      },
      "cell_type": "code",
      "source": [
        "np.arange(0.2,1.0,0.2)"
      ],
      "execution_count": 22,
      "outputs": [
        {
          "output_type": "execute_result",
          "data": {
            "text/plain": [
              "array([0.2, 0.4, 0.6, 0.8])"
            ]
          },
          "metadata": {
            "tags": []
          },
          "execution_count": 22
        }
      ]
    },
    {
      "metadata": {
        "id": "BiVdjelOh8C1",
        "colab_type": "code",
        "colab": {
          "base_uri": "https://localhost:8080/",
          "height": 34
        },
        "outputId": "15140e62-69b4-444e-e847-955e41d882be"
      },
      "cell_type": "code",
      "source": [
        "np.arange(1,2,0.1)"
      ],
      "execution_count": 23,
      "outputs": [
        {
          "output_type": "execute_result",
          "data": {
            "text/plain": [
              "array([1. , 1.1, 1.2, 1.3, 1.4, 1.5, 1.6, 1.7, 1.8, 1.9])"
            ]
          },
          "metadata": {
            "tags": []
          },
          "execution_count": 23
        }
      ]
    },
    {
      "metadata": {
        "id": "3frstLYJh8C8",
        "colab_type": "code",
        "colab": {
          "base_uri": "https://localhost:8080/",
          "height": 34
        },
        "outputId": "52e773d7-c26d-41b7-c05e-d7c046b12058"
      },
      "cell_type": "code",
      "source": [
        "np.linspace(0,2,9) #equally divides the range and outputs(3rd param), number of values as mentioned"
      ],
      "execution_count": 24,
      "outputs": [
        {
          "output_type": "execute_result",
          "data": {
            "text/plain": [
              "array([0.  , 0.25, 0.5 , 0.75, 1.  , 1.25, 1.5 , 1.75, 2.  ])"
            ]
          },
          "metadata": {
            "tags": []
          },
          "execution_count": 24
        }
      ]
    },
    {
      "metadata": {
        "id": "73KqiFRNh8DD",
        "colab_type": "code",
        "colab": {
          "base_uri": "https://localhost:8080/",
          "height": 34
        },
        "outputId": "dc1cb31f-fdfc-4b7c-d268-5420141a62fa"
      },
      "cell_type": "code",
      "source": [
        "np.arange(6)"
      ],
      "execution_count": 25,
      "outputs": [
        {
          "output_type": "execute_result",
          "data": {
            "text/plain": [
              "array([0, 1, 2, 3, 4, 5])"
            ]
          },
          "metadata": {
            "tags": []
          },
          "execution_count": 25
        }
      ]
    },
    {
      "metadata": {
        "id": "wxlA_kM0h8DK",
        "colab_type": "code",
        "colab": {
          "base_uri": "https://localhost:8080/",
          "height": 51
        },
        "outputId": "126c548a-bd8d-4b91-e842-1fd388d5d2d0"
      },
      "cell_type": "code",
      "source": [
        "np.arange(10).reshape(2,5)"
      ],
      "execution_count": 26,
      "outputs": [
        {
          "output_type": "execute_result",
          "data": {
            "text/plain": [
              "array([[0, 1, 2, 3, 4],\n",
              "       [5, 6, 7, 8, 9]])"
            ]
          },
          "metadata": {
            "tags": []
          },
          "execution_count": 26
        }
      ]
    },
    {
      "metadata": {
        "id": "KUHrKWS6h8DU",
        "colab_type": "code",
        "colab": {
          "base_uri": "https://localhost:8080/",
          "height": 119
        },
        "outputId": "b5d04a92-038b-44dc-e636-6a91e99d389b"
      },
      "cell_type": "code",
      "source": [
        "arr=np.arange(8).reshape(2,2,2)\n",
        "print(arr)\n",
        "print(arr.ndim)"
      ],
      "execution_count": 27,
      "outputs": [
        {
          "output_type": "stream",
          "text": [
            "[[[0 1]\n",
            "  [2 3]]\n",
            "\n",
            " [[4 5]\n",
            "  [6 7]]]\n",
            "3\n"
          ],
          "name": "stdout"
        }
      ]
    },
    {
      "metadata": {
        "id": "8myZBWfgh8Db",
        "colab_type": "text"
      },
      "cell_type": "markdown",
      "source": [
        "## Basic Operations"
      ]
    },
    {
      "metadata": {
        "id": "yXLsU0Xih8De",
        "colab_type": "code",
        "colab": {
          "base_uri": "https://localhost:8080/",
          "height": 119
        },
        "outputId": "cbb63a02-1dfc-467d-dd69-f90235852c29"
      },
      "cell_type": "code",
      "source": [
        "a=np.array([10,20,30,40])\n",
        "b=np.arange(4)\n",
        "c=a-b\n",
        "print(c)\n",
        "print(c**2)\n",
        "print(2*a)\n",
        "print(b/a)\n",
        "print(100*np.sin(a))\n",
        "print(a<30)"
      ],
      "execution_count": 28,
      "outputs": [
        {
          "output_type": "stream",
          "text": [
            "[10 19 28 37]\n",
            "[ 100  361  784 1369]\n",
            "[20 40 60 80]\n",
            "[0 0 0 0]\n",
            "[-54.40211109  91.29452507 -98.80316241  74.51131605]\n",
            "[ True  True False False]\n"
          ],
          "name": "stdout"
        }
      ]
    },
    {
      "metadata": {
        "id": "unAykfJWh8Dk",
        "colab_type": "code",
        "colab": {
          "base_uri": "https://localhost:8080/",
          "height": 85
        },
        "outputId": "3f880fe8-0a69-4af1-d4ec-6a209c95286c"
      },
      "cell_type": "code",
      "source": [
        "a=np.array([[1,1],[1,2]])\n",
        "b=np.array([[1,2],[2,3]])\n",
        "print(a*b)#elementwise product\n",
        "#print(a@b)#matrix multiplication product\n",
        "print(a.dot(b))#matrix multiplication product"
      ],
      "execution_count": 29,
      "outputs": [
        {
          "output_type": "stream",
          "text": [
            "[[1 2]\n",
            " [2 6]]\n",
            "[[3 5]\n",
            " [5 8]]\n"
          ],
          "name": "stdout"
        }
      ]
    },
    {
      "metadata": {
        "id": "Tex0CAKwh8Dv",
        "colab_type": "code",
        "colab": {
          "base_uri": "https://localhost:8080/",
          "height": 119
        },
        "outputId": "98a2081f-be7b-493a-bd22-79587b2626ca"
      },
      "cell_type": "code",
      "source": [
        "a=np.random.random((3,3))\n",
        "print(a)\n",
        "b=np.ones((3,3))\n",
        "print(b)"
      ],
      "execution_count": 30,
      "outputs": [
        {
          "output_type": "stream",
          "text": [
            "[[0.73537131 0.18621237 0.00172191]\n",
            " [0.47568902 0.83920231 0.316869  ]\n",
            " [0.55099743 0.05411592 0.5248182 ]]\n",
            "[[1. 1. 1.]\n",
            " [1. 1. 1.]\n",
            " [1. 1. 1.]]\n"
          ],
          "name": "stdout"
        }
      ]
    },
    {
      "metadata": {
        "id": "Jhm55a_ch8D4",
        "colab_type": "code",
        "colab": {
          "base_uri": "https://localhost:8080/",
          "height": 255
        },
        "outputId": "8a3074ee-ce4e-4af3-b68f-97e2f3835610"
      },
      "cell_type": "code",
      "source": [
        "a+=b\n",
        "print(a)\n",
        "#b+=a -> causes error as int has to be upcasted to float explicitly\n",
        "print(a.sum())\n",
        "print(a.min())\n",
        "print(a.max())\n",
        "print(a.sum(axis=0))#sum of each column\n",
        "print(a.sum(axis=1))#sum of each row\n",
        "print(a.min(axis=1))#minimum of each row\n",
        "print(a.cumsum(axis=1))#cumulative sum o each row\n",
        "print(a.cumsum())"
      ],
      "execution_count": 31,
      "outputs": [
        {
          "output_type": "stream",
          "text": [
            "[[1.73537131 1.18621237 1.00172191]\n",
            " [1.47568902 1.83920231 1.316869  ]\n",
            " [1.55099743 1.05411592 1.5248182 ]]\n",
            "12.684997471852597\n",
            "1.0017219114667042\n",
            "1.8392023079194662\n",
            "[4.76205776 4.0795306  3.84340912]\n",
            "[3.9233056  4.63176032 4.12993155]\n",
            "[1.00172191 1.316869   1.05411592]\n",
            "[[1.73537131 2.92158368 3.9233056 ]\n",
            " [1.47568902 3.31489132 4.63176032]\n",
            " [1.55099743 2.60511335 4.12993155]]\n",
            "[ 1.73537131  2.92158368  3.9233056   5.39899461  7.23819692  8.55506592\n",
            " 10.10606335 11.16017927 12.68499747]\n"
          ],
          "name": "stdout"
        }
      ]
    },
    {
      "metadata": {
        "id": "J2nD6SmUh8D-",
        "colab_type": "text"
      },
      "cell_type": "markdown",
      "source": [
        "## Universal Functions"
      ]
    },
    {
      "metadata": {
        "id": "BThGnzJKh8D_",
        "colab_type": "code",
        "colab": {
          "base_uri": "https://localhost:8080/",
          "height": 51
        },
        "outputId": "1adf5aa8-9dbd-4767-97c4-f5b205509feb"
      },
      "cell_type": "code",
      "source": [
        "a=np.array([1,4,9])\n",
        "print(np.sqrt(a))\n",
        "print(np.add(np.exp(a),np.sin(a)))"
      ],
      "execution_count": 32,
      "outputs": [
        {
          "output_type": "stream",
          "text": [
            "[1. 2. 3.]\n",
            "[3.55975281e+00 5.38413475e+01 8.10349605e+03]\n"
          ],
          "name": "stdout"
        }
      ]
    },
    {
      "metadata": {
        "id": "Ltp4eYIMh8EG",
        "colab_type": "text"
      },
      "cell_type": "markdown",
      "source": [
        "## Indexing,Slicing,Iterating"
      ]
    },
    {
      "metadata": {
        "id": "aEAP6EcBh8EH",
        "colab_type": "code",
        "colab": {
          "base_uri": "https://localhost:8080/",
          "height": 102
        },
        "outputId": "c2b8119f-0210-445a-f8c7-9517d58784fc"
      },
      "cell_type": "code",
      "source": [
        "a=np.arange(10)**3\n",
        "print(a)\n",
        "print(a[2:7])\n",
        "print(a[::-1])\n",
        "print(a[:6:2])\n",
        "print(a[8::-1])"
      ],
      "execution_count": 33,
      "outputs": [
        {
          "output_type": "stream",
          "text": [
            "[  0   1   8  27  64 125 216 343 512 729]\n",
            "[  8  27  64 125 216]\n",
            "[729 512 343 216 125  64  27   8   1   0]\n",
            "[ 0  8 64]\n",
            "[512 343 216 125  64  27   8   1   0]\n"
          ],
          "name": "stdout"
        }
      ]
    },
    {
      "metadata": {
        "id": "wJ-ZJE8Eh8EM",
        "colab_type": "code",
        "colab": {
          "base_uri": "https://localhost:8080/",
          "height": 187
        },
        "outputId": "92a00879-e9d1-472c-a33a-2d8b1673ed01"
      },
      "cell_type": "code",
      "source": [
        "for i in a:\n",
        "    print(i**(1/3.)) #taking cuberoot"
      ],
      "execution_count": 34,
      "outputs": [
        {
          "output_type": "stream",
          "text": [
            "0.0\n",
            "1.0\n",
            "2.0\n",
            "3.0\n",
            "3.9999999999999996\n",
            "4.999999999999999\n",
            "5.999999999999999\n",
            "6.999999999999999\n",
            "7.999999999999999\n",
            "8.999999999999998\n"
          ],
          "name": "stdout"
        }
      ]
    },
    {
      "metadata": {
        "id": "1bIbe27zh8EU",
        "colab_type": "code",
        "colab": {
          "base_uri": "https://localhost:8080/",
          "height": 153
        },
        "outputId": "a7003479-a756-4fa4-a99c-63de508b5bb5"
      },
      "cell_type": "code",
      "source": [
        "def f(x,y):\n",
        "    return 10*x+y\n",
        "\n",
        "b=np.fromfunction(f,(2,2),dtype=int)\n",
        "print(b)\n",
        "print(b[0][1])\n",
        "print(b[0,1])\n",
        "print(b[0:2,1])#printing all the elements in 2nd column\n",
        "print(b[0:2,:])#printing each column in the 1st and 2nd row\n",
        "print(b[-1])#printing last row"
      ],
      "execution_count": 35,
      "outputs": [
        {
          "output_type": "stream",
          "text": [
            "[[ 0  1]\n",
            " [10 11]]\n",
            "1\n",
            "1\n",
            "[ 1 11]\n",
            "[[ 0  1]\n",
            " [10 11]]\n",
            "[10 11]\n"
          ],
          "name": "stdout"
        }
      ]
    },
    {
      "metadata": {
        "id": "qUYm2YHYh8Eb",
        "colab_type": "text"
      },
      "cell_type": "markdown",
      "source": [
        "The expression within brackets in b[i] is treated as an i followed by as many instances of : as needed to represent the remaining axes. NumPy also allows you to write this using dots as b[i,...].\n",
        "\n",
        "The dots (...) represent as many colons as needed to produce a complete indexing tuple. For example, if x is an array with 5 axes, then\n",
        "\n",
        "x[1,2,...] is equivalent to x[1,2,:,:,:],\n",
        "x[...,3] to x[:,:,:,:,3] and\n",
        "x[4,...,5,:] to x[4,:,:,5,:]."
      ]
    },
    {
      "metadata": {
        "id": "WYvkkXQZh8Ec",
        "colab_type": "code",
        "colab": {
          "base_uri": "https://localhost:8080/",
          "height": 1802
        },
        "outputId": "14bf9f15-d238-4288-bc3a-20541dd8e97a"
      },
      "cell_type": "code",
      "source": [
        "help(np.array)"
      ],
      "execution_count": 40,
      "outputs": [
        {
          "output_type": "stream",
          "text": [
            "Help on built-in function array in module numpy.core.multiarray:\n",
            "\n",
            "array(...)\n",
            "    array(object, dtype=None, copy=True, order='K', subok=False, ndmin=0)\n",
            "    \n",
            "    Create an array.\n",
            "    \n",
            "    Parameters\n",
            "    ----------\n",
            "    object : array_like\n",
            "        An array, any object exposing the array interface, an object whose\n",
            "        __array__ method returns an array, or any (nested) sequence.\n",
            "    dtype : data-type, optional\n",
            "        The desired data-type for the array.  If not given, then the type will\n",
            "        be determined as the minimum type required to hold the objects in the\n",
            "        sequence.  This argument can only be used to 'upcast' the array.  For\n",
            "        downcasting, use the .astype(t) method.\n",
            "    copy : bool, optional\n",
            "        If true (default), then the object is copied.  Otherwise, a copy will\n",
            "        only be made if __array__ returns a copy, if obj is a nested sequence,\n",
            "        or if a copy is needed to satisfy any of the other requirements\n",
            "        (`dtype`, `order`, etc.).\n",
            "    order : {'K', 'A', 'C', 'F'}, optional\n",
            "        Specify the memory layout of the array. If object is not an array, the\n",
            "        newly created array will be in C order (row major) unless 'F' is\n",
            "        specified, in which case it will be in Fortran order (column major).\n",
            "        If object is an array the following holds.\n",
            "    \n",
            "        ===== ========= ===================================================\n",
            "        order  no copy                     copy=True\n",
            "        ===== ========= ===================================================\n",
            "        'K'   unchanged F & C order preserved, otherwise most similar order\n",
            "        'A'   unchanged F order if input is F and not C, otherwise C order\n",
            "        'C'   C order   C order\n",
            "        'F'   F order   F order\n",
            "        ===== ========= ===================================================\n",
            "    \n",
            "        When ``copy=False`` and a copy is made for other reasons, the result is\n",
            "        the same as if ``copy=True``, with some exceptions for `A`, see the\n",
            "        Notes section. The default order is 'K'.\n",
            "    subok : bool, optional\n",
            "        If True, then sub-classes will be passed-through, otherwise\n",
            "        the returned array will be forced to be a base-class array (default).\n",
            "    ndmin : int, optional\n",
            "        Specifies the minimum number of dimensions that the resulting\n",
            "        array should have.  Ones will be pre-pended to the shape as\n",
            "        needed to meet this requirement.\n",
            "    \n",
            "    Returns\n",
            "    -------\n",
            "    out : ndarray\n",
            "        An array object satisfying the specified requirements.\n",
            "    \n",
            "    See Also\n",
            "    --------\n",
            "    empty, empty_like, zeros, zeros_like, ones, ones_like, full, full_like\n",
            "    \n",
            "    Notes\n",
            "    -----\n",
            "    When order is 'A' and `object` is an array in neither 'C' nor 'F' order,\n",
            "    and a copy is forced by a change in dtype, then the order of the result is\n",
            "    not necessarily 'C' as expected. This is likely a bug.\n",
            "    \n",
            "    Examples\n",
            "    --------\n",
            "    >>> np.array([1, 2, 3])\n",
            "    array([1, 2, 3])\n",
            "    \n",
            "    Upcasting:\n",
            "    \n",
            "    >>> np.array([1, 2, 3.0])\n",
            "    array([ 1.,  2.,  3.])\n",
            "    \n",
            "    More than one dimension:\n",
            "    \n",
            "    >>> np.array([[1, 2], [3, 4]])\n",
            "    array([[1, 2],\n",
            "           [3, 4]])\n",
            "    \n",
            "    Minimum dimensions 2:\n",
            "    \n",
            "    >>> np.array([1, 2, 3], ndmin=2)\n",
            "    array([[1, 2, 3]])\n",
            "    \n",
            "    Type provided:\n",
            "    \n",
            "    >>> np.array([1, 2, 3], dtype=complex)\n",
            "    array([ 1.+0.j,  2.+0.j,  3.+0.j])\n",
            "    \n",
            "    Data-type consisting of more than one element:\n",
            "    \n",
            "    >>> x = np.array([(1,2),(3,4)],dtype=[('a','<i4'),('b','<i4')])\n",
            "    >>> x['a']\n",
            "    array([1, 3])\n",
            "    \n",
            "    Creating an array from sub-classes:\n",
            "    \n",
            "    >>> np.array(np.mat('1 2; 3 4'))\n",
            "    array([[1, 2],\n",
            "           [3, 4]])\n",
            "    \n",
            "    >>> np.array(np.mat('1 2; 3 4'), subok=True)\n",
            "    matrix([[1, 2],\n",
            "            [3, 4]])\n",
            "\n"
          ],
          "name": "stdout"
        }
      ]
    }
  ]
}