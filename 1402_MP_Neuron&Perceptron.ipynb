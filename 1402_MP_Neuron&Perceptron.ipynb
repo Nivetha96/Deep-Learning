{
  "nbformat": 4,
  "nbformat_minor": 0,
  "metadata": {
    "colab": {
      "name": "1402_MP-Neuron&Perceptron.ipynb",
      "version": "0.3.2",
      "provenance": [],
      "collapsed_sections": [
        "Gs7novwN740q",
        "JLiiNkhc7_kd",
        "U_YuQSM6EQKX",
        "kDhQrz-uONoo"
      ]
    },
    "kernelspec": {
      "name": "python3",
      "display_name": "Python 3"
    }
  },
  "cells": [
    {
      "metadata": {
        "id": "Gs7novwN740q",
        "colab_type": "text"
      },
      "cell_type": "markdown",
      "source": [
        "# Loading dataset"
      ]
    },
    {
      "metadata": {
        "id": "bMGIDJIM5eTY",
        "colab_type": "code",
        "colab": {}
      },
      "cell_type": "code",
      "source": [
        "import sklearn.datasets\n",
        "import numpy as np\n",
        "breast_cancer=sklearn.datasets.load_breast_cancer()"
      ],
      "execution_count": 0,
      "outputs": []
    },
    {
      "metadata": {
        "id": "LaRoG9Q-52Vs",
        "colab_type": "code",
        "outputId": "616fe963-2c2a-437e-fa9b-c12de779fc80",
        "colab": {
          "base_uri": "https://localhost:8080/",
          "height": 408
        }
      },
      "cell_type": "code",
      "source": [
        "X=breast_cancer.data\n",
        "Y=breast_cancer.target\n",
        "print(X)\n",
        "print(Y)"
      ],
      "execution_count": 0,
      "outputs": [
        {
          "output_type": "stream",
          "text": [
            "[[1.799e+01 1.038e+01 1.228e+02 ... 2.654e-01 4.601e-01 1.189e-01]\n",
            " [2.057e+01 1.777e+01 1.329e+02 ... 1.860e-01 2.750e-01 8.902e-02]\n",
            " [1.969e+01 2.125e+01 1.300e+02 ... 2.430e-01 3.613e-01 8.758e-02]\n",
            " ...\n",
            " [1.660e+01 2.808e+01 1.083e+02 ... 1.418e-01 2.218e-01 7.820e-02]\n",
            " [2.060e+01 2.933e+01 1.401e+02 ... 2.650e-01 4.087e-01 1.240e-01]\n",
            " [7.760e+00 2.454e+01 4.792e+01 ... 0.000e+00 2.871e-01 7.039e-02]]\n",
            "[0 0 0 0 0 0 0 0 0 0 0 0 0 0 0 0 0 0 0 1 1 1 0 0 0 0 0 0 0 0 0 0 0 0 0 0 0\n",
            " 1 0 0 0 0 0 0 0 0 1 0 1 1 1 1 1 0 0 1 0 0 1 1 1 1 0 1 0 0 1 1 1 1 0 1 0 0\n",
            " 1 0 1 0 0 1 1 1 0 0 1 0 0 0 1 1 1 0 1 1 0 0 1 1 1 0 0 1 1 1 1 0 1 1 0 1 1\n",
            " 1 1 1 1 1 1 0 0 0 1 0 0 1 1 1 0 0 1 0 1 0 0 1 0 0 1 1 0 1 1 0 1 1 1 1 0 1\n",
            " 1 1 1 1 1 1 1 1 0 1 1 1 1 0 0 1 0 1 1 0 0 1 1 0 0 1 1 1 1 0 1 1 0 0 0 1 0\n",
            " 1 0 1 1 1 0 1 1 0 0 1 0 0 0 0 1 0 0 0 1 0 1 0 1 1 0 1 0 0 0 0 1 1 0 0 1 1\n",
            " 1 0 1 1 1 1 1 0 0 1 1 0 1 1 0 0 1 0 1 1 1 1 0 1 1 1 1 1 0 1 0 0 0 0 0 0 0\n",
            " 0 0 0 0 0 0 0 1 1 1 1 1 1 0 1 0 1 1 0 1 1 0 1 0 0 1 1 1 1 1 1 1 1 1 1 1 1\n",
            " 1 0 1 1 0 1 0 1 1 1 1 1 1 1 1 1 1 1 1 1 1 0 1 1 1 0 1 0 1 1 1 1 0 0 0 1 1\n",
            " 1 1 0 1 0 1 0 1 1 1 0 1 1 1 1 1 1 1 0 0 0 1 1 1 1 1 1 1 1 1 1 1 0 0 1 0 0\n",
            " 0 1 0 0 1 1 1 1 1 0 1 1 1 1 1 0 1 1 1 0 1 1 0 0 1 1 1 1 1 1 0 1 1 1 1 1 1\n",
            " 1 0 1 1 1 1 1 0 1 1 0 1 1 1 1 1 1 1 1 1 1 1 1 0 1 0 0 1 0 1 1 1 1 1 0 1 1\n",
            " 0 1 0 1 1 0 1 0 1 1 1 1 1 1 1 1 0 0 1 1 1 1 1 1 0 1 1 1 1 1 1 1 1 1 1 0 1\n",
            " 1 1 1 1 1 1 0 1 0 1 1 0 1 1 1 1 1 0 0 1 0 1 0 1 1 1 1 1 0 1 1 0 1 0 1 0 0\n",
            " 1 1 1 0 1 1 1 1 1 1 1 1 1 1 1 0 1 0 0 1 1 1 1 1 1 1 1 1 1 1 1 1 1 1 1 1 1\n",
            " 1 1 1 1 1 1 1 0 0 0 0 0 0 1]\n"
          ],
          "name": "stdout"
        }
      ]
    },
    {
      "metadata": {
        "id": "9sR267Hq6U_w",
        "colab_type": "code",
        "outputId": "7f67675d-6529-4d7e-bf71-c1c92161e4dd",
        "colab": {
          "base_uri": "https://localhost:8080/",
          "height": 51
        }
      },
      "cell_type": "code",
      "source": [
        "print(X.shape)\n",
        "print(Y.shape)"
      ],
      "execution_count": 0,
      "outputs": [
        {
          "output_type": "stream",
          "text": [
            "(569, 30)\n",
            "(569,)\n"
          ],
          "name": "stdout"
        }
      ]
    },
    {
      "metadata": {
        "id": "NX6DKgfA6Yvj",
        "colab_type": "code",
        "colab": {}
      },
      "cell_type": "code",
      "source": [
        "import pandas as pd\n",
        "data=pd.DataFrame(breast_cancer.data,columns=breast_cancer.feature_names)"
      ],
      "execution_count": 0,
      "outputs": []
    },
    {
      "metadata": {
        "id": "RY6kFo1-6tMY",
        "colab_type": "code",
        "colab": {}
      },
      "cell_type": "code",
      "source": [
        "data['class']=breast_cancer.target "
      ],
      "execution_count": 0,
      "outputs": []
    },
    {
      "metadata": {
        "id": "Hd4XklzU6075",
        "colab_type": "code",
        "outputId": "55987d0c-088c-4033-a390-8425f5252436",
        "colab": {
          "base_uri": "https://localhost:8080/",
          "height": 287
        }
      },
      "cell_type": "code",
      "source": [
        "data.head()"
      ],
      "execution_count": 0,
      "outputs": [
        {
          "output_type": "execute_result",
          "data": {
            "text/html": [
              "<div>\n",
              "<style scoped>\n",
              "    .dataframe tbody tr th:only-of-type {\n",
              "        vertical-align: middle;\n",
              "    }\n",
              "\n",
              "    .dataframe tbody tr th {\n",
              "        vertical-align: top;\n",
              "    }\n",
              "\n",
              "    .dataframe thead th {\n",
              "        text-align: right;\n",
              "    }\n",
              "</style>\n",
              "<table border=\"1\" class=\"dataframe\">\n",
              "  <thead>\n",
              "    <tr style=\"text-align: right;\">\n",
              "      <th></th>\n",
              "      <th>mean radius</th>\n",
              "      <th>mean texture</th>\n",
              "      <th>mean perimeter</th>\n",
              "      <th>mean area</th>\n",
              "      <th>mean smoothness</th>\n",
              "      <th>mean compactness</th>\n",
              "      <th>mean concavity</th>\n",
              "      <th>mean concave points</th>\n",
              "      <th>mean symmetry</th>\n",
              "      <th>mean fractal dimension</th>\n",
              "      <th>...</th>\n",
              "      <th>worst texture</th>\n",
              "      <th>worst perimeter</th>\n",
              "      <th>worst area</th>\n",
              "      <th>worst smoothness</th>\n",
              "      <th>worst compactness</th>\n",
              "      <th>worst concavity</th>\n",
              "      <th>worst concave points</th>\n",
              "      <th>worst symmetry</th>\n",
              "      <th>worst fractal dimension</th>\n",
              "      <th>class</th>\n",
              "    </tr>\n",
              "  </thead>\n",
              "  <tbody>\n",
              "    <tr>\n",
              "      <th>0</th>\n",
              "      <td>17.99</td>\n",
              "      <td>10.38</td>\n",
              "      <td>122.80</td>\n",
              "      <td>1001.0</td>\n",
              "      <td>0.11840</td>\n",
              "      <td>0.27760</td>\n",
              "      <td>0.3001</td>\n",
              "      <td>0.14710</td>\n",
              "      <td>0.2419</td>\n",
              "      <td>0.07871</td>\n",
              "      <td>...</td>\n",
              "      <td>17.33</td>\n",
              "      <td>184.60</td>\n",
              "      <td>2019.0</td>\n",
              "      <td>0.1622</td>\n",
              "      <td>0.6656</td>\n",
              "      <td>0.7119</td>\n",
              "      <td>0.2654</td>\n",
              "      <td>0.4601</td>\n",
              "      <td>0.11890</td>\n",
              "      <td>0</td>\n",
              "    </tr>\n",
              "    <tr>\n",
              "      <th>1</th>\n",
              "      <td>20.57</td>\n",
              "      <td>17.77</td>\n",
              "      <td>132.90</td>\n",
              "      <td>1326.0</td>\n",
              "      <td>0.08474</td>\n",
              "      <td>0.07864</td>\n",
              "      <td>0.0869</td>\n",
              "      <td>0.07017</td>\n",
              "      <td>0.1812</td>\n",
              "      <td>0.05667</td>\n",
              "      <td>...</td>\n",
              "      <td>23.41</td>\n",
              "      <td>158.80</td>\n",
              "      <td>1956.0</td>\n",
              "      <td>0.1238</td>\n",
              "      <td>0.1866</td>\n",
              "      <td>0.2416</td>\n",
              "      <td>0.1860</td>\n",
              "      <td>0.2750</td>\n",
              "      <td>0.08902</td>\n",
              "      <td>0</td>\n",
              "    </tr>\n",
              "    <tr>\n",
              "      <th>2</th>\n",
              "      <td>19.69</td>\n",
              "      <td>21.25</td>\n",
              "      <td>130.00</td>\n",
              "      <td>1203.0</td>\n",
              "      <td>0.10960</td>\n",
              "      <td>0.15990</td>\n",
              "      <td>0.1974</td>\n",
              "      <td>0.12790</td>\n",
              "      <td>0.2069</td>\n",
              "      <td>0.05999</td>\n",
              "      <td>...</td>\n",
              "      <td>25.53</td>\n",
              "      <td>152.50</td>\n",
              "      <td>1709.0</td>\n",
              "      <td>0.1444</td>\n",
              "      <td>0.4245</td>\n",
              "      <td>0.4504</td>\n",
              "      <td>0.2430</td>\n",
              "      <td>0.3613</td>\n",
              "      <td>0.08758</td>\n",
              "      <td>0</td>\n",
              "    </tr>\n",
              "    <tr>\n",
              "      <th>3</th>\n",
              "      <td>11.42</td>\n",
              "      <td>20.38</td>\n",
              "      <td>77.58</td>\n",
              "      <td>386.1</td>\n",
              "      <td>0.14250</td>\n",
              "      <td>0.28390</td>\n",
              "      <td>0.2414</td>\n",
              "      <td>0.10520</td>\n",
              "      <td>0.2597</td>\n",
              "      <td>0.09744</td>\n",
              "      <td>...</td>\n",
              "      <td>26.50</td>\n",
              "      <td>98.87</td>\n",
              "      <td>567.7</td>\n",
              "      <td>0.2098</td>\n",
              "      <td>0.8663</td>\n",
              "      <td>0.6869</td>\n",
              "      <td>0.2575</td>\n",
              "      <td>0.6638</td>\n",
              "      <td>0.17300</td>\n",
              "      <td>0</td>\n",
              "    </tr>\n",
              "    <tr>\n",
              "      <th>4</th>\n",
              "      <td>20.29</td>\n",
              "      <td>14.34</td>\n",
              "      <td>135.10</td>\n",
              "      <td>1297.0</td>\n",
              "      <td>0.10030</td>\n",
              "      <td>0.13280</td>\n",
              "      <td>0.1980</td>\n",
              "      <td>0.10430</td>\n",
              "      <td>0.1809</td>\n",
              "      <td>0.05883</td>\n",
              "      <td>...</td>\n",
              "      <td>16.67</td>\n",
              "      <td>152.20</td>\n",
              "      <td>1575.0</td>\n",
              "      <td>0.1374</td>\n",
              "      <td>0.2050</td>\n",
              "      <td>0.4000</td>\n",
              "      <td>0.1625</td>\n",
              "      <td>0.2364</td>\n",
              "      <td>0.07678</td>\n",
              "      <td>0</td>\n",
              "    </tr>\n",
              "  </tbody>\n",
              "</table>\n",
              "<p>5 rows × 31 columns</p>\n",
              "</div>"
            ],
            "text/plain": [
              "   mean radius  mean texture  mean perimeter  mean area  mean smoothness  \\\n",
              "0        17.99         10.38          122.80     1001.0          0.11840   \n",
              "1        20.57         17.77          132.90     1326.0          0.08474   \n",
              "2        19.69         21.25          130.00     1203.0          0.10960   \n",
              "3        11.42         20.38           77.58      386.1          0.14250   \n",
              "4        20.29         14.34          135.10     1297.0          0.10030   \n",
              "\n",
              "   mean compactness  mean concavity  mean concave points  mean symmetry  \\\n",
              "0           0.27760          0.3001              0.14710         0.2419   \n",
              "1           0.07864          0.0869              0.07017         0.1812   \n",
              "2           0.15990          0.1974              0.12790         0.2069   \n",
              "3           0.28390          0.2414              0.10520         0.2597   \n",
              "4           0.13280          0.1980              0.10430         0.1809   \n",
              "\n",
              "   mean fractal dimension  ...    worst texture  worst perimeter  worst area  \\\n",
              "0                 0.07871  ...            17.33           184.60      2019.0   \n",
              "1                 0.05667  ...            23.41           158.80      1956.0   \n",
              "2                 0.05999  ...            25.53           152.50      1709.0   \n",
              "3                 0.09744  ...            26.50            98.87       567.7   \n",
              "4                 0.05883  ...            16.67           152.20      1575.0   \n",
              "\n",
              "   worst smoothness  worst compactness  worst concavity  worst concave points  \\\n",
              "0            0.1622             0.6656           0.7119                0.2654   \n",
              "1            0.1238             0.1866           0.2416                0.1860   \n",
              "2            0.1444             0.4245           0.4504                0.2430   \n",
              "3            0.2098             0.8663           0.6869                0.2575   \n",
              "4            0.1374             0.2050           0.4000                0.1625   \n",
              "\n",
              "   worst symmetry  worst fractal dimension  class  \n",
              "0          0.4601                  0.11890      0  \n",
              "1          0.2750                  0.08902      0  \n",
              "2          0.3613                  0.08758      0  \n",
              "3          0.6638                  0.17300      0  \n",
              "4          0.2364                  0.07678      0  \n",
              "\n",
              "[5 rows x 31 columns]"
            ]
          },
          "metadata": {
            "tags": []
          },
          "execution_count": 37
        }
      ]
    },
    {
      "metadata": {
        "id": "UccRQHQ363qR",
        "colab_type": "code",
        "outputId": "f31c781a-73ac-445b-d37a-0faf32b1c24e",
        "colab": {
          "base_uri": "https://localhost:8080/",
          "height": 380
        }
      },
      "cell_type": "code",
      "source": [
        "data.describe()"
      ],
      "execution_count": 0,
      "outputs": [
        {
          "output_type": "execute_result",
          "data": {
            "text/html": [
              "<div>\n",
              "<style scoped>\n",
              "    .dataframe tbody tr th:only-of-type {\n",
              "        vertical-align: middle;\n",
              "    }\n",
              "\n",
              "    .dataframe tbody tr th {\n",
              "        vertical-align: top;\n",
              "    }\n",
              "\n",
              "    .dataframe thead th {\n",
              "        text-align: right;\n",
              "    }\n",
              "</style>\n",
              "<table border=\"1\" class=\"dataframe\">\n",
              "  <thead>\n",
              "    <tr style=\"text-align: right;\">\n",
              "      <th></th>\n",
              "      <th>mean radius</th>\n",
              "      <th>mean texture</th>\n",
              "      <th>mean perimeter</th>\n",
              "      <th>mean area</th>\n",
              "      <th>mean smoothness</th>\n",
              "      <th>mean compactness</th>\n",
              "      <th>mean concavity</th>\n",
              "      <th>mean concave points</th>\n",
              "      <th>mean symmetry</th>\n",
              "      <th>mean fractal dimension</th>\n",
              "      <th>...</th>\n",
              "      <th>worst texture</th>\n",
              "      <th>worst perimeter</th>\n",
              "      <th>worst area</th>\n",
              "      <th>worst smoothness</th>\n",
              "      <th>worst compactness</th>\n",
              "      <th>worst concavity</th>\n",
              "      <th>worst concave points</th>\n",
              "      <th>worst symmetry</th>\n",
              "      <th>worst fractal dimension</th>\n",
              "      <th>class</th>\n",
              "    </tr>\n",
              "  </thead>\n",
              "  <tbody>\n",
              "    <tr>\n",
              "      <th>count</th>\n",
              "      <td>569.000000</td>\n",
              "      <td>569.000000</td>\n",
              "      <td>569.000000</td>\n",
              "      <td>569.000000</td>\n",
              "      <td>569.000000</td>\n",
              "      <td>569.000000</td>\n",
              "      <td>569.000000</td>\n",
              "      <td>569.000000</td>\n",
              "      <td>569.000000</td>\n",
              "      <td>569.000000</td>\n",
              "      <td>...</td>\n",
              "      <td>569.000000</td>\n",
              "      <td>569.000000</td>\n",
              "      <td>569.000000</td>\n",
              "      <td>569.000000</td>\n",
              "      <td>569.000000</td>\n",
              "      <td>569.000000</td>\n",
              "      <td>569.000000</td>\n",
              "      <td>569.000000</td>\n",
              "      <td>569.000000</td>\n",
              "      <td>569.000000</td>\n",
              "    </tr>\n",
              "    <tr>\n",
              "      <th>mean</th>\n",
              "      <td>14.127292</td>\n",
              "      <td>19.289649</td>\n",
              "      <td>91.969033</td>\n",
              "      <td>654.889104</td>\n",
              "      <td>0.096360</td>\n",
              "      <td>0.104341</td>\n",
              "      <td>0.088799</td>\n",
              "      <td>0.048919</td>\n",
              "      <td>0.181162</td>\n",
              "      <td>0.062798</td>\n",
              "      <td>...</td>\n",
              "      <td>25.677223</td>\n",
              "      <td>107.261213</td>\n",
              "      <td>880.583128</td>\n",
              "      <td>0.132369</td>\n",
              "      <td>0.254265</td>\n",
              "      <td>0.272188</td>\n",
              "      <td>0.114606</td>\n",
              "      <td>0.290076</td>\n",
              "      <td>0.083946</td>\n",
              "      <td>0.627417</td>\n",
              "    </tr>\n",
              "    <tr>\n",
              "      <th>std</th>\n",
              "      <td>3.524049</td>\n",
              "      <td>4.301036</td>\n",
              "      <td>24.298981</td>\n",
              "      <td>351.914129</td>\n",
              "      <td>0.014064</td>\n",
              "      <td>0.052813</td>\n",
              "      <td>0.079720</td>\n",
              "      <td>0.038803</td>\n",
              "      <td>0.027414</td>\n",
              "      <td>0.007060</td>\n",
              "      <td>...</td>\n",
              "      <td>6.146258</td>\n",
              "      <td>33.602542</td>\n",
              "      <td>569.356993</td>\n",
              "      <td>0.022832</td>\n",
              "      <td>0.157336</td>\n",
              "      <td>0.208624</td>\n",
              "      <td>0.065732</td>\n",
              "      <td>0.061867</td>\n",
              "      <td>0.018061</td>\n",
              "      <td>0.483918</td>\n",
              "    </tr>\n",
              "    <tr>\n",
              "      <th>min</th>\n",
              "      <td>6.981000</td>\n",
              "      <td>9.710000</td>\n",
              "      <td>43.790000</td>\n",
              "      <td>143.500000</td>\n",
              "      <td>0.052630</td>\n",
              "      <td>0.019380</td>\n",
              "      <td>0.000000</td>\n",
              "      <td>0.000000</td>\n",
              "      <td>0.106000</td>\n",
              "      <td>0.049960</td>\n",
              "      <td>...</td>\n",
              "      <td>12.020000</td>\n",
              "      <td>50.410000</td>\n",
              "      <td>185.200000</td>\n",
              "      <td>0.071170</td>\n",
              "      <td>0.027290</td>\n",
              "      <td>0.000000</td>\n",
              "      <td>0.000000</td>\n",
              "      <td>0.156500</td>\n",
              "      <td>0.055040</td>\n",
              "      <td>0.000000</td>\n",
              "    </tr>\n",
              "    <tr>\n",
              "      <th>25%</th>\n",
              "      <td>11.700000</td>\n",
              "      <td>16.170000</td>\n",
              "      <td>75.170000</td>\n",
              "      <td>420.300000</td>\n",
              "      <td>0.086370</td>\n",
              "      <td>0.064920</td>\n",
              "      <td>0.029560</td>\n",
              "      <td>0.020310</td>\n",
              "      <td>0.161900</td>\n",
              "      <td>0.057700</td>\n",
              "      <td>...</td>\n",
              "      <td>21.080000</td>\n",
              "      <td>84.110000</td>\n",
              "      <td>515.300000</td>\n",
              "      <td>0.116600</td>\n",
              "      <td>0.147200</td>\n",
              "      <td>0.114500</td>\n",
              "      <td>0.064930</td>\n",
              "      <td>0.250400</td>\n",
              "      <td>0.071460</td>\n",
              "      <td>0.000000</td>\n",
              "    </tr>\n",
              "    <tr>\n",
              "      <th>50%</th>\n",
              "      <td>13.370000</td>\n",
              "      <td>18.840000</td>\n",
              "      <td>86.240000</td>\n",
              "      <td>551.100000</td>\n",
              "      <td>0.095870</td>\n",
              "      <td>0.092630</td>\n",
              "      <td>0.061540</td>\n",
              "      <td>0.033500</td>\n",
              "      <td>0.179200</td>\n",
              "      <td>0.061540</td>\n",
              "      <td>...</td>\n",
              "      <td>25.410000</td>\n",
              "      <td>97.660000</td>\n",
              "      <td>686.500000</td>\n",
              "      <td>0.131300</td>\n",
              "      <td>0.211900</td>\n",
              "      <td>0.226700</td>\n",
              "      <td>0.099930</td>\n",
              "      <td>0.282200</td>\n",
              "      <td>0.080040</td>\n",
              "      <td>1.000000</td>\n",
              "    </tr>\n",
              "    <tr>\n",
              "      <th>75%</th>\n",
              "      <td>15.780000</td>\n",
              "      <td>21.800000</td>\n",
              "      <td>104.100000</td>\n",
              "      <td>782.700000</td>\n",
              "      <td>0.105300</td>\n",
              "      <td>0.130400</td>\n",
              "      <td>0.130700</td>\n",
              "      <td>0.074000</td>\n",
              "      <td>0.195700</td>\n",
              "      <td>0.066120</td>\n",
              "      <td>...</td>\n",
              "      <td>29.720000</td>\n",
              "      <td>125.400000</td>\n",
              "      <td>1084.000000</td>\n",
              "      <td>0.146000</td>\n",
              "      <td>0.339100</td>\n",
              "      <td>0.382900</td>\n",
              "      <td>0.161400</td>\n",
              "      <td>0.317900</td>\n",
              "      <td>0.092080</td>\n",
              "      <td>1.000000</td>\n",
              "    </tr>\n",
              "    <tr>\n",
              "      <th>max</th>\n",
              "      <td>28.110000</td>\n",
              "      <td>39.280000</td>\n",
              "      <td>188.500000</td>\n",
              "      <td>2501.000000</td>\n",
              "      <td>0.163400</td>\n",
              "      <td>0.345400</td>\n",
              "      <td>0.426800</td>\n",
              "      <td>0.201200</td>\n",
              "      <td>0.304000</td>\n",
              "      <td>0.097440</td>\n",
              "      <td>...</td>\n",
              "      <td>49.540000</td>\n",
              "      <td>251.200000</td>\n",
              "      <td>4254.000000</td>\n",
              "      <td>0.222600</td>\n",
              "      <td>1.058000</td>\n",
              "      <td>1.252000</td>\n",
              "      <td>0.291000</td>\n",
              "      <td>0.663800</td>\n",
              "      <td>0.207500</td>\n",
              "      <td>1.000000</td>\n",
              "    </tr>\n",
              "  </tbody>\n",
              "</table>\n",
              "<p>8 rows × 31 columns</p>\n",
              "</div>"
            ],
            "text/plain": [
              "       mean radius  mean texture  mean perimeter    mean area  \\\n",
              "count   569.000000    569.000000      569.000000   569.000000   \n",
              "mean     14.127292     19.289649       91.969033   654.889104   \n",
              "std       3.524049      4.301036       24.298981   351.914129   \n",
              "min       6.981000      9.710000       43.790000   143.500000   \n",
              "25%      11.700000     16.170000       75.170000   420.300000   \n",
              "50%      13.370000     18.840000       86.240000   551.100000   \n",
              "75%      15.780000     21.800000      104.100000   782.700000   \n",
              "max      28.110000     39.280000      188.500000  2501.000000   \n",
              "\n",
              "       mean smoothness  mean compactness  mean concavity  mean concave points  \\\n",
              "count       569.000000        569.000000      569.000000           569.000000   \n",
              "mean          0.096360          0.104341        0.088799             0.048919   \n",
              "std           0.014064          0.052813        0.079720             0.038803   \n",
              "min           0.052630          0.019380        0.000000             0.000000   \n",
              "25%           0.086370          0.064920        0.029560             0.020310   \n",
              "50%           0.095870          0.092630        0.061540             0.033500   \n",
              "75%           0.105300          0.130400        0.130700             0.074000   \n",
              "max           0.163400          0.345400        0.426800             0.201200   \n",
              "\n",
              "       mean symmetry  mean fractal dimension     ...      worst texture  \\\n",
              "count     569.000000              569.000000     ...         569.000000   \n",
              "mean        0.181162                0.062798     ...          25.677223   \n",
              "std         0.027414                0.007060     ...           6.146258   \n",
              "min         0.106000                0.049960     ...          12.020000   \n",
              "25%         0.161900                0.057700     ...          21.080000   \n",
              "50%         0.179200                0.061540     ...          25.410000   \n",
              "75%         0.195700                0.066120     ...          29.720000   \n",
              "max         0.304000                0.097440     ...          49.540000   \n",
              "\n",
              "       worst perimeter   worst area  worst smoothness  worst compactness  \\\n",
              "count       569.000000   569.000000        569.000000         569.000000   \n",
              "mean        107.261213   880.583128          0.132369           0.254265   \n",
              "std          33.602542   569.356993          0.022832           0.157336   \n",
              "min          50.410000   185.200000          0.071170           0.027290   \n",
              "25%          84.110000   515.300000          0.116600           0.147200   \n",
              "50%          97.660000   686.500000          0.131300           0.211900   \n",
              "75%         125.400000  1084.000000          0.146000           0.339100   \n",
              "max         251.200000  4254.000000          0.222600           1.058000   \n",
              "\n",
              "       worst concavity  worst concave points  worst symmetry  \\\n",
              "count       569.000000            569.000000      569.000000   \n",
              "mean          0.272188              0.114606        0.290076   \n",
              "std           0.208624              0.065732        0.061867   \n",
              "min           0.000000              0.000000        0.156500   \n",
              "25%           0.114500              0.064930        0.250400   \n",
              "50%           0.226700              0.099930        0.282200   \n",
              "75%           0.382900              0.161400        0.317900   \n",
              "max           1.252000              0.291000        0.663800   \n",
              "\n",
              "       worst fractal dimension       class  \n",
              "count               569.000000  569.000000  \n",
              "mean                  0.083946    0.627417  \n",
              "std                   0.018061    0.483918  \n",
              "min                   0.055040    0.000000  \n",
              "25%                   0.071460    0.000000  \n",
              "50%                   0.080040    1.000000  \n",
              "75%                   0.092080    1.000000  \n",
              "max                   0.207500    1.000000  \n",
              "\n",
              "[8 rows x 31 columns]"
            ]
          },
          "metadata": {
            "tags": []
          },
          "execution_count": 38
        }
      ]
    },
    {
      "metadata": {
        "id": "NMdaq_LD7AwY",
        "colab_type": "code",
        "outputId": "b8e3aa90-f707-49d2-ad05-3175f49e6e77",
        "colab": {
          "base_uri": "https://localhost:8080/",
          "height": 68
        }
      },
      "cell_type": "code",
      "source": [
        "print(data['class'].value_counts())"
      ],
      "execution_count": 0,
      "outputs": [
        {
          "output_type": "stream",
          "text": [
            "1    357\n",
            "0    212\n",
            "Name: class, dtype: int64\n"
          ],
          "name": "stdout"
        }
      ]
    },
    {
      "metadata": {
        "id": "hZakPmBe7atw",
        "colab_type": "code",
        "outputId": "19fbf98d-592d-4996-de6f-148db0bd76d0",
        "colab": {
          "base_uri": "https://localhost:8080/",
          "height": 34
        }
      },
      "cell_type": "code",
      "source": [
        "print(breast_cancer.target_names)"
      ],
      "execution_count": 0,
      "outputs": [
        {
          "output_type": "stream",
          "text": [
            "['malignant' 'benign']\n"
          ],
          "name": "stdout"
        }
      ]
    },
    {
      "metadata": {
        "id": "qreMfS5k7gqY",
        "colab_type": "code",
        "outputId": "2914537e-36fc-4f5b-e198-d80425a091f7",
        "colab": {
          "base_uri": "https://localhost:8080/",
          "height": 225
        }
      },
      "cell_type": "code",
      "source": [
        "data.groupby('class').mean()"
      ],
      "execution_count": 0,
      "outputs": [
        {
          "output_type": "execute_result",
          "data": {
            "text/html": [
              "<div>\n",
              "<style scoped>\n",
              "    .dataframe tbody tr th:only-of-type {\n",
              "        vertical-align: middle;\n",
              "    }\n",
              "\n",
              "    .dataframe tbody tr th {\n",
              "        vertical-align: top;\n",
              "    }\n",
              "\n",
              "    .dataframe thead th {\n",
              "        text-align: right;\n",
              "    }\n",
              "</style>\n",
              "<table border=\"1\" class=\"dataframe\">\n",
              "  <thead>\n",
              "    <tr style=\"text-align: right;\">\n",
              "      <th></th>\n",
              "      <th>mean radius</th>\n",
              "      <th>mean texture</th>\n",
              "      <th>mean perimeter</th>\n",
              "      <th>mean area</th>\n",
              "      <th>mean smoothness</th>\n",
              "      <th>mean compactness</th>\n",
              "      <th>mean concavity</th>\n",
              "      <th>mean concave points</th>\n",
              "      <th>mean symmetry</th>\n",
              "      <th>mean fractal dimension</th>\n",
              "      <th>...</th>\n",
              "      <th>worst radius</th>\n",
              "      <th>worst texture</th>\n",
              "      <th>worst perimeter</th>\n",
              "      <th>worst area</th>\n",
              "      <th>worst smoothness</th>\n",
              "      <th>worst compactness</th>\n",
              "      <th>worst concavity</th>\n",
              "      <th>worst concave points</th>\n",
              "      <th>worst symmetry</th>\n",
              "      <th>worst fractal dimension</th>\n",
              "    </tr>\n",
              "    <tr>\n",
              "      <th>class</th>\n",
              "      <th></th>\n",
              "      <th></th>\n",
              "      <th></th>\n",
              "      <th></th>\n",
              "      <th></th>\n",
              "      <th></th>\n",
              "      <th></th>\n",
              "      <th></th>\n",
              "      <th></th>\n",
              "      <th></th>\n",
              "      <th></th>\n",
              "      <th></th>\n",
              "      <th></th>\n",
              "      <th></th>\n",
              "      <th></th>\n",
              "      <th></th>\n",
              "      <th></th>\n",
              "      <th></th>\n",
              "      <th></th>\n",
              "      <th></th>\n",
              "      <th></th>\n",
              "    </tr>\n",
              "  </thead>\n",
              "  <tbody>\n",
              "    <tr>\n",
              "      <th>0</th>\n",
              "      <td>17.462830</td>\n",
              "      <td>21.604906</td>\n",
              "      <td>115.365377</td>\n",
              "      <td>978.376415</td>\n",
              "      <td>0.102898</td>\n",
              "      <td>0.145188</td>\n",
              "      <td>0.160775</td>\n",
              "      <td>0.087990</td>\n",
              "      <td>0.192909</td>\n",
              "      <td>0.062680</td>\n",
              "      <td>...</td>\n",
              "      <td>21.134811</td>\n",
              "      <td>29.318208</td>\n",
              "      <td>141.370330</td>\n",
              "      <td>1422.286321</td>\n",
              "      <td>0.144845</td>\n",
              "      <td>0.374824</td>\n",
              "      <td>0.450606</td>\n",
              "      <td>0.182237</td>\n",
              "      <td>0.323468</td>\n",
              "      <td>0.091530</td>\n",
              "    </tr>\n",
              "    <tr>\n",
              "      <th>1</th>\n",
              "      <td>12.146524</td>\n",
              "      <td>17.914762</td>\n",
              "      <td>78.075406</td>\n",
              "      <td>462.790196</td>\n",
              "      <td>0.092478</td>\n",
              "      <td>0.080085</td>\n",
              "      <td>0.046058</td>\n",
              "      <td>0.025717</td>\n",
              "      <td>0.174186</td>\n",
              "      <td>0.062867</td>\n",
              "      <td>...</td>\n",
              "      <td>13.379801</td>\n",
              "      <td>23.515070</td>\n",
              "      <td>87.005938</td>\n",
              "      <td>558.899440</td>\n",
              "      <td>0.124959</td>\n",
              "      <td>0.182673</td>\n",
              "      <td>0.166238</td>\n",
              "      <td>0.074444</td>\n",
              "      <td>0.270246</td>\n",
              "      <td>0.079442</td>\n",
              "    </tr>\n",
              "  </tbody>\n",
              "</table>\n",
              "<p>2 rows × 30 columns</p>\n",
              "</div>"
            ],
            "text/plain": [
              "       mean radius  mean texture  mean perimeter   mean area  mean smoothness  \\\n",
              "class                                                                           \n",
              "0        17.462830     21.604906      115.365377  978.376415         0.102898   \n",
              "1        12.146524     17.914762       78.075406  462.790196         0.092478   \n",
              "\n",
              "       mean compactness  mean concavity  mean concave points  mean symmetry  \\\n",
              "class                                                                         \n",
              "0              0.145188        0.160775             0.087990       0.192909   \n",
              "1              0.080085        0.046058             0.025717       0.174186   \n",
              "\n",
              "       mean fractal dimension           ...             worst radius  \\\n",
              "class                                   ...                            \n",
              "0                    0.062680           ...                21.134811   \n",
              "1                    0.062867           ...                13.379801   \n",
              "\n",
              "       worst texture  worst perimeter   worst area  worst smoothness  \\\n",
              "class                                                                  \n",
              "0          29.318208       141.370330  1422.286321          0.144845   \n",
              "1          23.515070        87.005938   558.899440          0.124959   \n",
              "\n",
              "       worst compactness  worst concavity  worst concave points  \\\n",
              "class                                                             \n",
              "0               0.374824         0.450606              0.182237   \n",
              "1               0.182673         0.166238              0.074444   \n",
              "\n",
              "       worst symmetry  worst fractal dimension  \n",
              "class                                           \n",
              "0            0.323468                 0.091530  \n",
              "1            0.270246                 0.079442  \n",
              "\n",
              "[2 rows x 30 columns]"
            ]
          },
          "metadata": {
            "tags": []
          },
          "execution_count": 41
        }
      ]
    },
    {
      "metadata": {
        "id": "JLiiNkhc7_kd",
        "colab_type": "text"
      },
      "cell_type": "markdown",
      "source": [
        "# Test and Train split"
      ]
    },
    {
      "metadata": {
        "id": "bMyYUiV27sks",
        "colab_type": "code",
        "colab": {}
      },
      "cell_type": "code",
      "source": [
        "from sklearn.model_selection import train_test_split"
      ],
      "execution_count": 0,
      "outputs": []
    },
    {
      "metadata": {
        "id": "GYxhgVlx8pqk",
        "colab_type": "code",
        "colab": {}
      },
      "cell_type": "code",
      "source": [
        "X=data.drop('class',axis=1)\n",
        "Y=data['class']"
      ],
      "execution_count": 0,
      "outputs": []
    },
    {
      "metadata": {
        "id": "9Yt9bVq_81mm",
        "colab_type": "code",
        "outputId": "c7eaea69-e6a0-4837-b933-ba0f3ff222b9",
        "colab": {
          "base_uri": "https://localhost:8080/",
          "height": 54
        }
      },
      "cell_type": "code",
      "source": [
        "type(X)"
      ],
      "execution_count": 0,
      "outputs": [
        {
          "output_type": "execute_result",
          "data": {
            "text/plain": [
              "pandas.core.frame.DataFrame"
            ]
          },
          "metadata": {
            "tags": []
          },
          "execution_count": 44
        }
      ]
    },
    {
      "metadata": {
        "id": "EpJUz6IH84d1",
        "colab_type": "code",
        "colab": {}
      },
      "cell_type": "code",
      "source": [
        "X_train,X_test,Y_train,Y_test=train_test_split(X,Y)\n",
        "#X_train,X_test,Y_train,Y_test=train_test_split(X,Y,test_size=0.1)"
      ],
      "execution_count": 0,
      "outputs": []
    },
    {
      "metadata": {
        "id": "g5sCdLVb9E8R",
        "colab_type": "code",
        "outputId": "e11c9007-ff0a-4ea5-e4fd-229d877f4192",
        "colab": {
          "base_uri": "https://localhost:8080/",
          "height": 54
        }
      },
      "cell_type": "code",
      "source": [
        "print(X.shape,X_train.shape,X_test.shape,Y.shape,Y_train.shape,Y_test.shape)"
      ],
      "execution_count": 0,
      "outputs": [
        {
          "output_type": "stream",
          "text": [
            "(569, 30) (426, 30) (143, 30) (569,) (426,) (143,)\n"
          ],
          "name": "stdout"
        }
      ]
    },
    {
      "metadata": {
        "id": "QLACDdZG9VM7",
        "colab_type": "code",
        "outputId": "72cd6676-3978-4a77-8057-46fd09708785",
        "colab": {
          "base_uri": "https://localhost:8080/",
          "height": 54
        }
      },
      "cell_type": "code",
      "source": [
        "print(Y.mean(),Y_train.mean(),Y_test.mean())"
      ],
      "execution_count": 0,
      "outputs": [
        {
          "output_type": "stream",
          "text": [
            "0.6274165202108963 0.6150234741784038 0.6643356643356644\n"
          ],
          "name": "stdout"
        }
      ]
    },
    {
      "metadata": {
        "id": "pMtQCUWuB4GZ",
        "colab_type": "code",
        "outputId": "f4fa87eb-0c29-4cd8-995e-8ba13ce49146",
        "colab": {
          "base_uri": "https://localhost:8080/",
          "height": 54
        }
      },
      "cell_type": "code",
      "source": [
        "#since mean is not equally distributed\n",
        "X_train,X_test,Y_train,Y_test=train_test_split(X,Y,test_size=0.1,stratify=Y)\n",
        "print(Y.mean(),Y_train.mean(),Y_test.mean())"
      ],
      "execution_count": 0,
      "outputs": [
        {
          "output_type": "stream",
          "text": [
            "0.6274165202108963 0.626953125 0.631578947368421\n"
          ],
          "name": "stdout"
        }
      ]
    },
    {
      "metadata": {
        "id": "lox79Dh-Cmi3",
        "colab_type": "code",
        "colab": {}
      },
      "cell_type": "code",
      "source": [
        "X_train,X_test,Y_train,Y_test=train_test_split(X,Y,test_size=0.1,stratify=Y,random_state=1)"
      ],
      "execution_count": 0,
      "outputs": []
    },
    {
      "metadata": {
        "id": "CT9qVtbIDoe8",
        "colab_type": "code",
        "outputId": "5d7dec52-2c03-4858-f6b5-a964ab510bc5",
        "colab": {
          "base_uri": "https://localhost:8080/",
          "height": 1584
        }
      },
      "cell_type": "code",
      "source": [
        "print(X.mean(),X_train.mean(),X_test.mean())"
      ],
      "execution_count": 0,
      "outputs": [
        {
          "output_type": "stream",
          "text": [
            "mean radius                 14.127292\n",
            "mean texture                19.289649\n",
            "mean perimeter              91.969033\n",
            "mean area                  654.889104\n",
            "mean smoothness              0.096360\n",
            "mean compactness             0.104341\n",
            "mean concavity               0.088799\n",
            "mean concave points          0.048919\n",
            "mean symmetry                0.181162\n",
            "mean fractal dimension       0.062798\n",
            "radius error                 0.405172\n",
            "texture error                1.216853\n",
            "perimeter error              2.866059\n",
            "area error                  40.337079\n",
            "smoothness error             0.007041\n",
            "compactness error            0.025478\n",
            "concavity error              0.031894\n",
            "concave points error         0.011796\n",
            "symmetry error               0.020542\n",
            "fractal dimension error      0.003795\n",
            "worst radius                16.269190\n",
            "worst texture               25.677223\n",
            "worst perimeter            107.261213\n",
            "worst area                 880.583128\n",
            "worst smoothness             0.132369\n",
            "worst compactness            0.254265\n",
            "worst concavity              0.272188\n",
            "worst concave points         0.114606\n",
            "worst symmetry               0.290076\n",
            "worst fractal dimension      0.083946\n",
            "dtype: float64 mean radius                 14.058656\n",
            "mean texture                19.309668\n",
            "mean perimeter              91.530488\n",
            "mean area                  648.097266\n",
            "mean smoothness              0.096568\n",
            "mean compactness             0.105144\n",
            "mean concavity               0.089342\n",
            "mean concave points          0.048892\n",
            "mean symmetry                0.181961\n",
            "mean fractal dimension       0.062979\n",
            "radius error                 0.403659\n",
            "texture error                1.206856\n",
            "perimeter error              2.861173\n",
            "area error                  39.935506\n",
            "smoothness error             0.007067\n",
            "compactness error            0.025681\n",
            "concavity error              0.032328\n",
            "concave points error         0.011963\n",
            "symmetry error               0.020584\n",
            "fractal dimension error      0.003815\n",
            "worst radius                16.194275\n",
            "worst texture               25.644902\n",
            "worst perimeter            106.757715\n",
            "worst area                 871.647852\n",
            "worst smoothness             0.132592\n",
            "worst compactness            0.257415\n",
            "worst concavity              0.275623\n",
            "worst concave points         0.115454\n",
            "worst symmetry               0.291562\n",
            "worst fractal dimension      0.084402\n",
            "dtype: float64 mean radius                 14.743807\n",
            "mean texture                19.109825\n",
            "mean perimeter              95.908246\n",
            "mean area                  715.896491\n",
            "mean smoothness              0.094496\n",
            "mean compactness             0.097130\n",
            "mean concavity               0.083923\n",
            "mean concave points          0.049159\n",
            "mean symmetry                0.173981\n",
            "mean fractal dimension       0.061169\n",
            "radius error                 0.418767\n",
            "texture error                1.306656\n",
            "perimeter error              2.909946\n",
            "area error                  43.944193\n",
            "smoothness error             0.006809\n",
            "compactness error            0.023659\n",
            "concavity error              0.027989\n",
            "concave points error         0.010293\n",
            "symmetry error               0.020169\n",
            "fractal dimension error      0.003618\n",
            "worst radius                16.942105\n",
            "worst texture               25.967544\n",
            "worst perimeter            111.783860\n",
            "worst area                 960.843860\n",
            "worst smoothness             0.130357\n",
            "worst compactness            0.225973\n",
            "worst concavity              0.241340\n",
            "worst concave points         0.106994\n",
            "worst symmetry               0.276719\n",
            "worst fractal dimension      0.079852\n",
            "dtype: float64\n"
          ],
          "name": "stdout"
        }
      ]
    },
    {
      "metadata": {
        "id": "U_YuQSM6EQKX",
        "colab_type": "text"
      },
      "cell_type": "markdown",
      "source": [
        "# Binarisation of input"
      ]
    },
    {
      "metadata": {
        "id": "oEJDAcTVDubY",
        "colab_type": "code",
        "outputId": "d9cdf331-1b4e-4532-af2e-9cd7395483c4",
        "colab": {
          "base_uri": "https://localhost:8080/",
          "height": 347
        }
      },
      "cell_type": "code",
      "source": [
        "import matplotlib.pyplot as plt\n",
        "plt.plot(X,'*')\n",
        "plt.show()"
      ],
      "execution_count": 0,
      "outputs": [
        {
          "output_type": "display_data",
          "data": {
            "image/png": "[encoded data removed]",
            "text/plain": [
              "<Figure size 576x396 with 1 Axes>"
            ]
          },
          "metadata": {
            "tags": []
          }
        }
      ]
    },
    {
      "metadata": {
        "id": "ateeOjLPFDq_",
        "colab_type": "code",
        "outputId": "e610af73-c12f-44a4-a741-221960c77a1e",
        "colab": {
          "base_uri": "https://localhost:8080/",
          "height": 440
        }
      },
      "cell_type": "code",
      "source": [
        "plt.plot(X.T,'*')\n",
        "plt.xticks(rotation='vertical')\n",
        "plt.show()"
      ],
      "execution_count": 0,
      "outputs": [
        {
          "output_type": "display_data",
          "data": {
            "image/png": "[encoded data removed]",
            "text/plain": [
              "<Figure size 576x396 with 1 Axes>"
            ]
          },
          "metadata": {
            "tags": []
          }
        }
      ]
    },
    {
      "metadata": {
        "id": "0rMOtCXyFyqJ",
        "colab_type": "code",
        "outputId": "48208ca8-62e8-44a0-ecd0-ff44b82553d7",
        "colab": {
          "base_uri": "https://localhost:8080/",
          "height": 347
        }
      },
      "cell_type": "code",
      "source": [
        "X_binarised_3_train=X_train['mean area'].map(lambda x: 0 if x<1000 else 1 )\n",
        "plt.plot(X_binarised_3_train,'*')\n",
        "plt.show()"
      ],
      "execution_count": 0,
      "outputs": [
        {
          "output_type": "display_data",
          "data": {
            "image/png": "[encoded data removed]",
            "text/plain": [
              "<Figure size 576x396 with 1 Axes>"
            ]
          },
          "metadata": {
            "tags": []
          }
        }
      ]
    },
    {
      "metadata": {
        "id": "GYfXCZgAG1ZW",
        "colab_type": "code",
        "outputId": "2013efb1-f34a-468d-bdf0-e9b4a63ab1c3",
        "colab": {
          "base_uri": "https://localhost:8080/",
          "height": 440
        }
      },
      "cell_type": "code",
      "source": [
        "#to automate binarisation to all attributes\n",
        "X_binarised_train=X_train.apply(pd.cut,bins=2,labels=[1,0])\n",
        "plt.plot(X_binarised_train.T,'*')\n",
        "plt.xticks(rotation='vertical')\n",
        "plt.show()"
      ],
      "execution_count": 0,
      "outputs": [
        {
          "output_type": "display_data",
          "data": {
            "image/png": "[encoded data removed]",
            "text/plain": [
              "<Figure size 576x396 with 1 Axes>"
            ]
          },
          "metadata": {
            "tags": []
          }
        }
      ]
    },
    {
      "metadata": {
        "id": "uQBDgKDOJU26",
        "colab_type": "code",
        "outputId": "4eeabb9f-1bc9-4466-9c5b-695ad83cad71",
        "colab": {
          "base_uri": "https://localhost:8080/",
          "height": 440
        }
      },
      "cell_type": "code",
      "source": [
        "X_binarised_test=X_test.apply(pd.cut,bins=2,labels=[0,1])\n",
        "plt.plot(X_binarised_test.T,'*')\n",
        "plt.xticks(rotation='vertical')\n",
        "plt.show()"
      ],
      "execution_count": 0,
      "outputs": [
        {
          "output_type": "display_data",
          "data": {
            "image/png": "[encoded data removed]",
            "text/plain": [
              "<Figure size 576x396 with 1 Axes>"
            ]
          },
          "metadata": {
            "tags": []
          }
        }
      ]
    },
    {
      "metadata": {
        "id": "vdEoMwIHKAwP",
        "colab_type": "code",
        "colab": {}
      },
      "cell_type": "code",
      "source": [
        "X_binarised_train=X_binarised_train.values\n",
        "X_binarised_test=X_binarised_test.values"
      ],
      "execution_count": 0,
      "outputs": []
    },
    {
      "metadata": {
        "id": "34hD_j4fKpbe",
        "colab_type": "code",
        "outputId": "7b8d983f-a604-46b7-dc4d-341e1396e768",
        "colab": {
          "base_uri": "https://localhost:8080/",
          "height": 34
        }
      },
      "cell_type": "code",
      "source": [
        "type(X_binarised_test)"
      ],
      "execution_count": 0,
      "outputs": [
        {
          "output_type": "execute_result",
          "data": {
            "text/plain": [
              "numpy.ndarray"
            ]
          },
          "metadata": {
            "tags": []
          },
          "execution_count": 57
        }
      ]
    },
    {
      "metadata": {
        "id": "kDhQrz-uONoo",
        "colab_type": "text"
      },
      "cell_type": "markdown",
      "source": [
        "#MP Neuron Model"
      ]
    },
    {
      "metadata": {
        "id": "Y47Gq-coKuYo",
        "colab_type": "code",
        "outputId": "e8a43d08-09c8-4fe8-8a03-a58c8bc1b001",
        "colab": {
          "base_uri": "https://localhost:8080/",
          "height": 68
        }
      },
      "cell_type": "code",
      "source": [
        "from random import randint\n",
        "b=3\n",
        "i=randint(0,X_binarised_train.shape[0])\n",
        "print('for row',i)\n",
        "if(np.sum(X_binarised_train[100,:])>=b):\n",
        "  print('mp neuron inference is malignant')\n",
        "else:\n",
        "  print('mp neuron inference is benign')\n",
        "if(Y_train[i]==1):\n",
        "  print('ground truth is malignant')\n",
        "else:\n",
        "  print('ground truth is benign')    "
      ],
      "execution_count": 0,
      "outputs": [
        {
          "output_type": "stream",
          "text": [
            "for row 468\n",
            "mp neuron inference is malignant\n",
            "ground truth is benign\n"
          ],
          "name": "stdout"
        }
      ]
    },
    {
      "metadata": {
        "id": "zbLI5smkPiAa",
        "colab_type": "code",
        "outputId": "073f05fe-996d-485d-fac1-da66a031ef34",
        "colab": {
          "base_uri": "https://localhost:8080/",
          "height": 51
        }
      },
      "cell_type": "code",
      "source": [
        "b=3\n",
        "accurate_rows=0\n",
        "Y_pred_train=[]\n",
        "for X,Y in zip(X_binarised_train,Y_train):\n",
        "  Y_pred=(np.sum(X)>=b)\n",
        "  Y_pred_train.append(Y_pred)\n",
        "  accurate_rows+=(Y==Y_pred)\n",
        "  \n",
        "print(accurate_rows) \n",
        "print('percent accuracy ',accurate_rows/X_binarised_train.shape[0])\n",
        "  "
      ],
      "execution_count": 0,
      "outputs": [
        {
          "output_type": "stream",
          "text": [
            "321\n",
            "percent accuracy  0.626953125\n"
          ],
          "name": "stdout"
        }
      ]
    },
    {
      "metadata": {
        "id": "meMBvc05R7L3",
        "colab_type": "code",
        "outputId": "dfca3463-b89b-43ee-c9c6-88ad1c6533c3",
        "colab": {
          "base_uri": "https://localhost:8080/",
          "height": 544
        }
      },
      "cell_type": "code",
      "source": [
        "for b in range(X_binarised_train.shape[1]+1):\n",
        "  accurate_rows=0\n",
        "  Y_pred_train=[]\n",
        "  for X,Y in zip(X_binarised_train,Y_train):\n",
        "    Y_pred=(np.sum(X)>=b)\n",
        "    Y_pred_train.append(Y_pred)\n",
        "    accurate_rows+=(Y==Y_pred)\n",
        "  \n",
        "  #print(accurate_rows) \n",
        "  print('for b=  ',b,' accurate_rows= ',accurate_rows,' percent accuracy ',accurate_rows/X_binarised_train.shape[0])"
      ],
      "execution_count": 0,
      "outputs": [
        {
          "output_type": "stream",
          "text": [
            "for b=   0  accurate_rows=  321  percent accuracy  0.626953125\n",
            "for b=   1  accurate_rows=  321  percent accuracy  0.626953125\n",
            "for b=   2  accurate_rows=  321  percent accuracy  0.626953125\n",
            "for b=   3  accurate_rows=  321  percent accuracy  0.626953125\n",
            "for b=   4  accurate_rows=  321  percent accuracy  0.626953125\n",
            "for b=   5  accurate_rows=  321  percent accuracy  0.626953125\n",
            "for b=   6  accurate_rows=  321  percent accuracy  0.626953125\n",
            "for b=   7  accurate_rows=  321  percent accuracy  0.626953125\n",
            "for b=   8  accurate_rows=  321  percent accuracy  0.626953125\n",
            "for b=   9  accurate_rows=  321  percent accuracy  0.626953125\n",
            "for b=   10  accurate_rows=  321  percent accuracy  0.626953125\n",
            "for b=   11  accurate_rows=  321  percent accuracy  0.626953125\n",
            "for b=   12  accurate_rows=  321  percent accuracy  0.626953125\n",
            "for b=   13  accurate_rows=  321  percent accuracy  0.626953125\n",
            "for b=   14  accurate_rows=  323  percent accuracy  0.630859375\n",
            "for b=   15  accurate_rows=  324  percent accuracy  0.6328125\n",
            "for b=   16  accurate_rows=  329  percent accuracy  0.642578125\n",
            "for b=   17  accurate_rows=  332  percent accuracy  0.6484375\n",
            "for b=   18  accurate_rows=  336  percent accuracy  0.65625\n",
            "for b=   19  accurate_rows=  340  percent accuracy  0.6640625\n",
            "for b=   20  accurate_rows=  344  percent accuracy  0.671875\n",
            "for b=   21  accurate_rows=  352  percent accuracy  0.6875\n",
            "for b=   22  accurate_rows=  359  percent accuracy  0.701171875\n",
            "for b=   23  accurate_rows=  371  percent accuracy  0.724609375\n",
            "for b=   24  accurate_rows=  387  percent accuracy  0.755859375\n",
            "for b=   25  accurate_rows=  402  percent accuracy  0.78515625\n",
            "for b=   26  accurate_rows=  419  percent accuracy  0.818359375\n",
            "for b=   27  accurate_rows=  433  percent accuracy  0.845703125\n",
            "for b=   28  accurate_rows=  435  percent accuracy  0.849609375\n",
            "for b=   29  accurate_rows=  417  percent accuracy  0.814453125\n",
            "for b=   30  accurate_rows=  389  percent accuracy  0.759765625\n"
          ],
          "name": "stdout"
        }
      ]
    },
    {
      "metadata": {
        "id": "9QsNQo9bS4GX",
        "colab_type": "code",
        "outputId": "d7b64c75-0c3a-44cc-fd84-a71c988a80a2",
        "colab": {
          "base_uri": "https://localhost:8080/",
          "height": 34
        }
      },
      "cell_type": "code",
      "source": [
        "from sklearn.metrics import accuracy_score\n",
        "\n",
        "b=28\n",
        "Y_pred_test=[]\n",
        "for X in X_binarised_test:\n",
        "  Y_pred=(np.sum(X)>=b)\n",
        "  Y_pred_test.append(Y_pred)\n",
        "  \n",
        "accuracy=accuracy_score(Y_pred_test,Y_test)\n",
        "#print(accurate_rows) \n",
        "print('for b=  ',b,' accuracy= ',accuracy)"
      ],
      "execution_count": 0,
      "outputs": [
        {
          "output_type": "stream",
          "text": [
            "for b=   28  accuracy=  0.3684210526315789\n"
          ],
          "name": "stdout"
        }
      ]
    },
    {
      "metadata": {
        "id": "XB20yhDmwLwz",
        "colab_type": "text"
      },
      "cell_type": "markdown",
      "source": [
        "# MP Neuron Class"
      ]
    },
    {
      "metadata": {
        "id": "JYFrwNj1viEK",
        "colab_type": "code",
        "colab": {}
      },
      "cell_type": "code",
      "source": [
        "class MPNeuron:\n",
        "  \n",
        "  def __init__(self):\n",
        "    self.b=None\n",
        "  \n",
        "  def model(self,x):\n",
        "    return (sum(x)>=self.b)\n",
        "  \n",
        "  def predict(self,X):\n",
        "    Y=[]\n",
        "    for x in X:\n",
        "      result=self.model(x)\n",
        "      Y.append(result)\n",
        "    return np.array(Y)\n",
        "  \n",
        "  def fit(self,X,Y):\n",
        "    accuracy={}\n",
        "    for b in range(X.shape[1]+1):\n",
        "      self.b=b\n",
        "      Y_pred=self.predict(X)\n",
        "      accuracy[b]=accuracy_score(Y_pred,Y)\n",
        "      \n",
        "    best_b=max(accuracy,key=accuracy.get)\n",
        "    self.b=best_b\n",
        "    print('optimal value of b is ',self.b,' and highest accuracy= ',accuracy[self.b])"
      ],
      "execution_count": 0,
      "outputs": []
    },
    {
      "metadata": {
        "id": "noUZ86l6wONC",
        "colab_type": "code",
        "outputId": "dad8910d-36e5-40ee-972c-3b59c12e0d37",
        "colab": {
          "base_uri": "https://localhost:8080/",
          "height": 34
        }
      },
      "cell_type": "code",
      "source": [
        "mp_neuron=MPNeuron()\n",
        "mp_neuron.fit(X_binarised_train,Y_train)"
      ],
      "execution_count": 0,
      "outputs": [
        {
          "output_type": "stream",
          "text": [
            "optimal value of b is  28  and highest accuracy=  0.849609375\n"
          ],
          "name": "stdout"
        }
      ]
    },
    {
      "metadata": {
        "id": "pyRE4hW430FR",
        "colab_type": "code",
        "colab": {}
      },
      "cell_type": "code",
      "source": [
        "Y_test_pred=mp_neuron.predict(X_binarised_test)\n",
        "accuracy_test=accuracy_score(Y_test_pred,Y_test)"
      ],
      "execution_count": 0,
      "outputs": []
    },
    {
      "metadata": {
        "id": "-6C8wVVc41My",
        "colab_type": "code",
        "outputId": "f7ee64f1-8eea-4c5d-be0a-84bce082b1e9",
        "colab": {
          "base_uri": "https://localhost:8080/",
          "height": 34
        }
      },
      "cell_type": "code",
      "source": [
        "print(accuracy_test)"
      ],
      "execution_count": 0,
      "outputs": [
        {
          "output_type": "stream",
          "text": [
            "0.3684210526315789\n"
          ],
          "name": "stdout"
        }
      ]
    },
    {
      "metadata": {
        "id": "oqr8qrF78ZQN",
        "colab_type": "text"
      },
      "cell_type": "markdown",
      "source": [
        "# Perceptron"
      ]
    },
    {
      "metadata": {
        "id": "wn4SvQwo8cs_",
        "colab_type": "text"
      },
      "cell_type": "markdown",
      "source": [
        "$y=1, if \\sum_i w_ix_i>=b $\n"
      ]
    },
    {
      "metadata": {
        "id": "z_t1jztq867z",
        "colab_type": "text"
      },
      "cell_type": "markdown",
      "source": [
        "$y=0, if \\sum_i w_ix_i<b $"
      ]
    },
    {
      "metadata": {
        "id": "6iKOg_xE8YFZ",
        "colab_type": "code",
        "colab": {}
      },
      "cell_type": "code",
      "source": [
        "class Perceptron:\n",
        "  def __init__(self):\n",
        "    self.w=None\n",
        "    self.b=None\n",
        "    \n",
        "  def model(self,X):\n",
        "    return 1 if (np.dot(self.w,X)>=self.b) else 0\n",
        "    \n",
        "  def predict(self,X):\n",
        "    Y=[]\n",
        "    for x in X:\n",
        "      result=self.model(x)\n",
        "      Y.append(result)\n",
        "    return np.array(Y)\n",
        "    \n",
        "  def fit(self,X,Y,epochs=1,lr=1): \n",
        "    self.w=np.ones(X.shape[1])\n",
        "    self.b=0\n",
        "    accuracy={}\n",
        "    max_accuracy=0\n",
        "    wt_matrix=[]\n",
        "    for i in range(epochs):\n",
        "      for x,y in zip(X,Y):\n",
        "        y_pred=self.model(x)\n",
        "        if y==1 and y_pred==0:\n",
        "          self.w=self.w+lr*x\n",
        "          self.b=self.b+lr*1\n",
        "        elif y==0 and y_pred==1:\n",
        "          self.w=self.w-lr*x\n",
        "          self.b=self.b-lr*1\n",
        "      wt_matrix.append(self.w)\n",
        "      accuracy[i]=accuracy_score(self.predict(X),Y)\n",
        "      if(accuracy[i]>max_accuracy):\n",
        "        max_accuracy=accuracy[i]\n",
        "        chkptw=self.w\n",
        "        chkptb=self.b\n",
        "        \n",
        "    self.w=chkptw\n",
        "    self.b=chkptb\n",
        "    print(max_accuracy,\" \",self.w,\" \",self.b)\n",
        "    plt.plot(accuracy.values())\n",
        "    plt.ylim([0,1])\n",
        "    plt.show()\n",
        "    return np.array(wt_matrix)"
      ],
      "execution_count": 0,
      "outputs": []
    },
    {
      "metadata": {
        "id": "1oF0qxxFIKjK",
        "colab_type": "code",
        "colab": {
          "base_uri": "https://localhost:8080/",
          "height": 405
        },
        "outputId": "fec5b537-822e-4755-94be-91e673bb6a81"
      },
      "cell_type": "code",
      "source": [
        "perceptron=Perceptron()\n",
        "#X_train=X_train.values\n",
        "#X_test=X_test.values\n",
        "wt_matrix=perceptron.fit(X_train,Y_train,100)\n"
      ],
      "execution_count": 139,
      "outputs": [
        {
          "output_type": "stream",
          "text": [
            "0.927734375   [ 3.85167400e+03  2.01880000e+03  1.99243100e+04  5.40160000e+03\n",
            "  2.13661400e+01 -9.82223200e+01 -1.75497694e+02 -7.10588980e+01\n",
            "  3.35803000e+01  2.07475400e+01 -2.52090000e+00  5.10740000e+00\n",
            " -4.94797000e+02 -9.42679200e+03 -2.34040000e-01 -3.31452970e+01\n",
            " -4.49628967e+01 -9.08532100e+00 -2.27986100e+00 -1.64593200e+00\n",
            "  4.02603600e+03  1.25240000e+03  1.79746000e+04 -8.55440000e+03\n",
            "  1.33310600e+01 -3.57591600e+02 -4.56063263e+02 -1.22907122e+02\n",
            " -2.52420000e+00 -3.63748000e+00]   526\n"
          ],
          "name": "stdout"
        },
        {
          "output_type": "display_data",
          "data": {
            "image/png": "[encoded data removed]",
            "text/plain": [
              "<Figure size 432x288 with 1 Axes>"
            ]
          },
          "metadata": {
            "tags": []
          }
        }
      ]
    },
    {
      "metadata": {
        "id": "JuyexDKNIlZY",
        "colab_type": "code",
        "colab": {
          "base_uri": "https://localhost:8080/",
          "height": 265
        },
        "outputId": "d84429ce-688d-4d02-ef8e-868b8bb51904"
      },
      "cell_type": "code",
      "source": [
        "plt.plot(perceptron.w)\n",
        "plt.show()"
      ],
      "execution_count": 140,
      "outputs": [
        {
          "output_type": "display_data",
          "data": {
            "image/png": "[encoded data removed]",
            "text/plain": [
              "<Figure size 432x288 with 1 Axes>"
            ]
          },
          "metadata": {
            "tags": []
          }
        }
      ]
    },
    {
      "metadata": {
        "id": "G06uchnoIs10",
        "colab_type": "code",
        "colab": {
          "base_uri": "https://localhost:8080/",
          "height": 34
        },
        "outputId": "c1ede9b4-4dba-4e63-b89e-d2853f3b8865"
      },
      "cell_type": "code",
      "source": [
        "Y_pred_train=perceptron.predict(X_train)\n",
        "accuracy_train=accuracy_score(Y_pred_train,Y_train)\n",
        "print(accuracy_train)"
      ],
      "execution_count": 141,
      "outputs": [
        {
          "output_type": "stream",
          "text": [
            "0.927734375\n"
          ],
          "name": "stdout"
        }
      ]
    },
    {
      "metadata": {
        "id": "ESKLAw-tJncL",
        "colab_type": "code",
        "colab": {
          "base_uri": "https://localhost:8080/",
          "height": 34
        },
        "outputId": "41273543-3d61-499b-f874-27ac2d291038"
      },
      "cell_type": "code",
      "source": [
        "Y_pred_test=perceptron.predict(X_test)\n",
        "accuracy=accuracy_score(Y_pred_test,Y_test)\n",
        "print(accuracy_test)"
      ],
      "execution_count": 142,
      "outputs": [
        {
          "output_type": "stream",
          "text": [
            "0.3684210526315789\n"
          ],
          "name": "stdout"
        }
      ]
    },
    {
      "metadata": {
        "id": "0XmbYWDBJ1rW",
        "colab_type": "code",
        "colab": {
          "base_uri": "https://localhost:8080/",
          "height": 265
        },
        "outputId": "3ce75f56-076b-4e99-e17c-a11d7f38fd7f"
      },
      "cell_type": "code",
      "source": [
        "plt.plot(perceptron.w)\n",
        "plt.show()"
      ],
      "execution_count": 143,
      "outputs": [
        {
          "output_type": "display_data",
          "data": {
            "image/png": "[encoded data removed]",
            "text/plain": [
              "<Figure size 432x288 with 1 Axes>"
            ]
          },
          "metadata": {
            "tags": []
          }
        }
      ]
    },
    {
      "metadata": {
        "id": "ixARlHRnX7C3",
        "colab_type": "code",
        "colab": {
          "base_uri": "https://localhost:8080/",
          "height": 265
        },
        "outputId": "d56e433d-42d8-410e-e472-5353580a3e73"
      },
      "cell_type": "code",
      "source": [
        "plt.plot(wt_matrix[-1,:])\n",
        "plt.show()"
      ],
      "execution_count": 146,
      "outputs": [
        {
          "output_type": "display_data",
          "data": {
            "image/png": "[encoded data removed]",
            "text/plain": [
              "<Figure size 432x288 with 1 Axes>"
            ]
          },
          "metadata": {
            "tags": []
          }
        }
      ]
    },
    {
      "metadata": {
        "id": "a_DR8qiyXYYz",
        "colab_type": "code",
        "colab": {
          "base_uri": "https://localhost:8080/",
          "height": 34
        },
        "outputId": "79f0f72b-c471-4afb-dcc6-fc0839942940"
      },
      "cell_type": "code",
      "source": [
        "type(wt_matrix)"
      ],
      "execution_count": 144,
      "outputs": [
        {
          "output_type": "execute_result",
          "data": {
            "text/plain": [
              "numpy.ndarray"
            ]
          },
          "metadata": {
            "tags": []
          },
          "execution_count": 144
        }
      ]
    },
    {
      "metadata": {
        "id": "2WrQCI6kVMBp",
        "colab_type": "text"
      },
      "cell_type": "markdown",
      "source": [
        "#Creating the Animation\n",
        "First set up the figure, the axis, and the plot element we want to animate:"
      ]
    },
    {
      "metadata": {
        "id": "6mAZrQR1U_gy",
        "colab_type": "text"
      },
      "cell_type": "markdown",
      "source": [
        "http://louistiao.me/posts/notebooks/embedding-matplotlib-animations-in-jupyter-as-interactive-javascript-widgets/\n"
      ]
    },
    {
      "metadata": {
        "id": "tBRPYvkFUjAk",
        "colab_type": "code",
        "colab": {}
      },
      "cell_type": "code",
      "source": [
        "%matplotlib inline\n",
        "from matplotlib import animation, rc\n",
        "from IPython.display import HTML"
      ],
      "execution_count": 0,
      "outputs": []
    },
    {
      "metadata": {
        "id": "S_7FkZdTVLQ1",
        "colab_type": "code",
        "colab": {
          "base_uri": "https://localhost:8080/",
          "height": 269
        },
        "outputId": "eac69b26-77ee-407a-c839-1b582766fb29"
      },
      "cell_type": "code",
      "source": [
        "fig, ax = plt.subplots()\n",
        "\n",
        "ax.set_xlim(( 0, wt_matrix.shape[1]))\n",
        "ax.set_ylim((-10000, 25000))\n",
        "\n",
        "line, = ax.plot([], [], lw=2)"
      ],
      "execution_count": 147,
      "outputs": [
        {
          "output_type": "display_data",
          "data": {
            "image/png": "[encoded data removed]",
            "text/plain": [
              "<Figure size 432x288 with 1 Axes>"
            ]
          },
          "metadata": {
            "tags": []
          }
        }
      ]
    },
    {
      "metadata": {
        "id": "mIkTteD9Vjut",
        "colab_type": "code",
        "colab": {}
      },
      "cell_type": "code",
      "source": [
        "def animate(i):\n",
        "    x = list(range(wt_matrix.shape[1]))\n",
        "    y = wt_matrix[i,:]\n",
        "    line.set_data(x, y)\n",
        "    return (line,)"
      ],
      "execution_count": 0,
      "outputs": []
    },
    {
      "metadata": {
        "id": "8rePDMe7VrjL",
        "colab_type": "code",
        "colab": {}
      },
      "cell_type": "code",
      "source": [
        "anim = animation.FuncAnimation(fig, animate, \n",
        "                               frames=100, interval=200, \n",
        "                               blit=True)"
      ],
      "execution_count": 0,
      "outputs": []
    },
    {
      "metadata": {
        "id": "rYOmB6tCV5X7",
        "colab_type": "code",
        "colab": {
          "base_uri": "https://localhost:8080/",
          "height": 309
        },
        "outputId": "2dda5f93-22a3-4867-c696-afc1e5161096"
      },
      "cell_type": "code",
      "source": [
        "HTML(anim.to_html5_video())"
      ],
      "execution_count": 155,
      "outputs": [
        {
          "output_type": "execute_result",
          "data": {
            "text/html": [
              "<video width=\"432\" height=\"288\" controls autoplay loop>\n",
              "  <source type=\"video/mp4\" src=\"data:video/mp4;base64,AAAAHGZ0eXBNNFYgAAACAGlzb21pc28yYXZjMQAAAAhmcmVlAACO5W1kYXQAAAKtBgX//6ncRem9\n",
              "5tlIt5Ys2CDZI+7veDI2NCAtIGNvcmUgMTUyIHIyODU0IGU5YTU5MDMgLSBILjI2NC9NUEVHLTQg\n",
              "QVZDIGNvZGVjIC0gQ29weWxlZnQgMjAwMy0yMDE3IC0gaHR0cDovL3d3dy52aWRlb2xhbi5vcmcv\n",
              "eDI2NC5odG1sIC0gb3B0aW9uczogY2FiYWM9MSByZWY9MyBkZWJsb2NrPTE6MDowIGFuYWx5c2U9\n",
              "MHgzOjB4MTEzIG1lPWhleCBzdWJtZT03IHBzeT0xIHBzeV9yZD0xLjAwOjAuMDAgbWl4ZWRfcmVm\n",
              "PTEgbWVfcmFuZ2U9MTYgY2hyb21hX21lPTEgdHJlbGxpcz0xIDh4OGRjdD0xIGNxbT0wIGRlYWR6\n",
              "b25lPTIxLDExIGZhc3RfcHNraXA9MSBjaHJvbWFfcXBfb2Zmc2V0PS0yIHRocmVhZHM9MyBsb29r\n",
              "YWhlYWRfdGhyZWFkcz0xIHNsaWNlZF90aHJlYWRzPTAgbnI9MCBkZWNpbWF0ZT0xIGludGVybGFj\n",
              "ZWQ9MCBibHVyYXlfY29tcGF0PTAgY29uc3RyYWluZWRfaW50cmE9MCBiZnJhbWVzPTMgYl9weXJh\n",
              "bWlkPTIgYl9hZGFwdD0xIGJfYmlhcz0wIGRpcmVjdD0xIHdlaWdodGI9MSBvcGVuX2dvcD0wIHdl\n",
              "aWdodHA9MiBrZXlpbnQ9MjUwIGtleWludF9taW49NSBzY2VuZWN1dD00MCBpbnRyYV9yZWZyZXNo\n",
              "PTAgcmNfbG9va2FoZWFkPTQwIHJjPWNyZiBtYnRyZWU9MSBjcmY9MjMuMCBxY29tcD0wLjYwIHFw\n",
              "bWluPTAgcXBtYXg9NjkgcXBzdGVwPTQgaXBfcmF0aW89MS40MCBhcT0xOjEuMDAAgAAAEs5liIQA\n",
              "Ev/+963fgU3AQO1rulc4tMurlDQ9UfaUpni2SAAAAwADlGX8N1sLiBj0NKBJvowf3qBVeSAdoAr0\n",
              "+w1zkLQt5DSFGFNFb62W88UwVaTd9YnxXo7E0gk8QwCVGTLvJMo/p32bwHcPWc448ecru0xsDvkU\n",
              "NqrCQUNQaDYn9jfI8glu83w+AMa+bWulIQAAAwGAcL1frfZX7SGDkDyeP4A1T3d5D/KOsxoR5574\n",
              "YrhIClTqXiKfQJ+03Xbf90yNXGgq60vKYsCJVuRr6Dd6I+0Y2MxeyYcj9E+/C/Vzej4iNb0+Yac7\n",
              "A3SFF4pBu5vJyAaRGYDMnZ7lnEaI5PQaxWm4TsoTXG8OQ52Vt4pvXTc028uOf4XMfisQvIFH0/Zl\n",
              "pv3bBb5aOJM18Gdv31Mp4tBnk2I2MC6nsRdrKeAoqtpEPJIkEsKEIC7tgfd2yutOQog1H5L9GWYt\n",
              "esYgaFCVQ1T8D44ZLLmK5QEp/eRL7tAWX9hgRWph2RiMXMwwbM7GNvIPYcTiR3L0qw2Zbk5XWlte\n",
              "UGR8vF4tJERgrtULSMTJXyKviNrVuqWzmCngA20C9dyVKP6/mBNwwq+3m+iIQtu+NkncuRH5xvkb\n",
              "fnj732iAQWBKRL92Rig7kqde8ZQjL1yKIhKVSMSPwPfR1tPh32KIT3SLsbM6DAgavwENcQbob2Vm\n",
              "0t6eVDVx+gaM3hh5TqKoSnteh+GwyaEbSNoMfmFtP9Rc3zx39X1w7J+fZKSeSJ6xTyy32noYObH4\n",
              "Bo2AK31xlEWmPPN/S3711b9+BJTNctftE1cEkuVQmf3s2fbJVZAbTDPjHzSzi4GFNy8q5g/UUugv\n",
              "+WWGFxWZLKJazbEBbGY8xjTJjDx9Kp/TGQiIusXlFONkywNj+UULYctNx0LfEDEMkNh715Ja5Hkx\n",
              "CNk9xBtOsXravGzLvAcicEQJ/pkjoiUy/sml4P+79eY6kbh7YU+ajkNgn31qLFeA5R8G7pUk++Dt\n",
              "I2TE+EwE/nJdsqurAH+XG523pRT1F8u7LWz5DeFZrCRGSOnDoMUQFMUj64NOu9qXbrxub1Z2Ne+X\n",
              "BfouwPJnDtn8xE4jxMfKzZv24zieb3AEb8ZUlRai/QfByZBMRx+eJp7D4Rn2Q3c2CCEkCfFlqApV\n",
              "VoiHute7fkom3EZsQ0GJL9QW4yE5N0iCinXxEGoG9FJfNSwwjxyvLfR4M3QyrYo8X0dHlmK58ucj\n",
              "Wvqxawrmgd/rl5zz7fOi0Nf0ZWT+u3C/eqMwmaUAk3tUnuRY3uk+t1YfTZgpFfJhEnQAzSq4VWdD\n",
              "seOVLNFaidsZsVTuoAFW17qcz2o4HwAXcAvKPVFn7j7bb+fEZ7ipNAftCaP11YcGMIJ9PheV3T7v\n",
              "S95AVT+r5dIJ/C1WqrSzKnrDypU3wF2EP7+dW/pCymqBNSviJGcLoGmVT9iuX0LLFEkgEK9fYoKk\n",
              "6jO9FiQnvv/M4euI0VlfDbpauB/SP7XyfQGsPa5VUeAAlyP/GN1nqHPBHUmCEKB25BMu8IWUVECN\n",
              "OzYeBT/5U+h4tJu+kQvKF3yxS7sE/+8POy9jXBs+EyZHoXi4Vsz7SwGavP2JiaydxUFGCoqUl22i\n",
              "ARa2Ce+Q/pV/NJGeJXfJ2kUHRCrymo0fJqazrcdwBavmWFlN2xPulRITqWrSJeFD+CEkuDDjtUKX\n",
              "2UAwqDM70LpIIw/3MGe7IqswlnHEVju9R4zaVOuRLN+MrgfB8TTAHbhE6Yifg21hm7Ed0DQ0+mrO\n",
              "W37jD+RbUdVywdMwWxdBTUQLZ3/5bFxGivtZrENj4rotRuahAFr5Nhr5zhRTx0hUO8r/vXzCeiCW\n",
              "qIlt2tPpimQ+1KS/6g8sj73r0w/8XIAAAHRH53vlTrjU2T1MH4rncTyLEtSmSKDWlbywTPly1ZiD\n",
              "0Ww/5+6a/9Ya7ZUU2+CiaaRTCREt1e0g5xH0XPNvQqLByw8S2weUDZ1pFuV3GOfuaSZm/+EvO/l1\n",
              "jKgtZv+DZ1qfidHUcf95Q15UyrN/XbsB9jsmM/TfzpqJpd5BQ29z9R2+C7R3HKQ46/lNKbSZkZW9\n",
              "O1HX57KNradxP8uUVwup7VPTFN7gvDT+xjS6cC6eFHQdKQ0/T///+ezOL/O+iPHpi8jTLnmvLhuj\n",
              "qLPjcQVHhnFyADwc6mk4lWylodMd4fxC6bHulpqLwjeDEx1NI4Wxcs5229Eg5Ew0r6+qdENYypHH\n",
              "VEUJd6Mdox27w3dV3VQ7YotUKUpR1HtcVt6c+z1zJuTdDLECEthzHY8ZvL+BgS82Loj9G0o1S60s\n",
              "7M+3R+FXbIsQJQlyWgjZzl4O93tKsD2UuDB80l0ATzpRpHnQcXqufP6SgDhm8lTbnMHkW6OC6reo\n",
              "tLjzjdG1tmzHMmPDQ8E5YwZAQPclJl4PWZLqxyWA0Md1WVFIjj7FFNH/YZs/FdGrjhJmMDslOS+O\n",
              "1EclMg2rNUMvaHWMAyU5OztwhsvEyTiHrkdGciWsKvLXdRrKdtmMkdySmpNqKFuCaBHQTqdUyMiu\n",
              "Tq3qVI/rd28F/ed0yrYwh2fOp/rFBtTE21qYWEI8in+/8MUOWqOulcL0+F0uBPOqjoFpHYzyCA6G\n",
              "5Fi2nzJeF5aIXgRnB3RNFPAlwU8cnkh3JViDm57rECHuwn/i83secuGuJNdKjjd/USaZEofrcVim\n",
              "036JfyIdKrYin7lPin6BHUlCiuT+zkZgGZ9zgUWzDbHcNvxGgmEV/O1wgfvp1jhkAY9h1HG74vo9\n",
              "1PmPZk+ykQc8LuNxv9LcpA7igZ45DHoUCBEnuJlA9gqGdQMU7FWNQ357SJ2yl0+NJfQA9C3myfs2\n",
              "JBTZsWWMwKP+Kh64tMZo/WLcKLvbuV2NSnQdPu/R9c6fG6uaKcDVNeGrFLhUYUS/F6UrzyixJm6A\n",
              "4XlWp2V1dH3+uXiPUdtaRL/bfUeKiz1KKMnbG/GeR2cTdK54nv7PqZqc0faHS5bgPeiTnIVH4O/L\n",
              "LGPpvX6VFr8C4lkKgI630p/Sy4mjajivj3N/AK68sxuy0ndsAIfgAibcw7Urbvil2crSmEpkJ6s3\n",
              "9kUcl6uqorOZhIOTULZJb+/y+0VIUtMesgH7ESRCVqgzyVGmf1LyTkGcK94Gu7sQK/eqhE+485Vs\n",
              "mc758AWQ/1txj1erDgx0tO7YfeHuDMMi0v+Bgb5/roLcO2LcK3D+9njlK9Hb9gsKq8jf7WV2+sjK\n",
              "lJa9UzwPLnHFyoZPWAODrbHXg1iYBF3Tf5FfpwKRIdGYM5RR+HdaqK+iq3cOC6/zmqlNk095e0gj\n",
              "JhrqyyWkUpp1NGKmSFoLtWjBQxmPy9AXFmqCfLac3nJBJwlCp/QRDVCBRguifW43T1XZRHR0HHXP\n",
              "tYIr3NR9pzYRMwxbD/882IU1w6mqToKxGzKl+eJjGeK+RvuvaL+kTHmKRMJE4p7MKnaQR3dKHMdk\n",
              "l9kQDUDE8xSe2J3GEGwtfw0cNwt7n78NFvcP61aQKBFleSKw/TUTfYbuPfa58R6iZS/mIFqX1qLD\n",
              "cvGCe5T79LRrBy+w/V01llsTFcTLQVVYUcjAXdH/dckUennLv4e+H4YnZ53xZYbri0MdvHIxoGcM\n",
              "uPr2Q3cjqyT29Ap2647YkErcMks3Odb8D2cX1BK7a4capVPETl3sa4UYXsDfIVDCXutezBCX5Q7A\n",
              "61nxFUrdJNw74/pdG/fF1sc8xEUWzlyySxuCPuBuKn7HlOGGuwjx3SKCZbn1qR3/UP+vGNahf2uv\n",
              "BgpIC0OzKdVahgOx+hxuCVDl+90Opvlj46xs/EY6Gq8KWtpux0HfI72zsJGjRj1tahA1ZVr+wEaf\n",
              "KJssWZfJrrGNiKO5rOneigw3VaWREYxQEdMlfT6Lb+hGQEI2jzL2gWXZQYzXJ3SwV2/+i+Oi+zoE\n",
              "yFt5TcLVK00njUE5zAAIF+CPOk3r/S+JxC5TVj7CkDKxzW1TYqjcScNQXhVsHzxajRLZGbW1DGzD\n",
              "n0DbIiX+XEPbcGT3olX+S06vdnPlA17dsddOJJtqabmrDpad8A4cwJH235BL4Q8sCC2rXF5jxZIT\n",
              "M1xCkrnv+A27HJqz1X/OxlTroiSTiFB9uAtxK7BFgHjJ8m+mAANd+y8OBIMm4paasHutBuP6e4Lu\n",
              "d1Vrytn/V9+3uoP6xlFtwpxnAw4SskN/z+RIzwz0NPs5X7yCjYvNsYFHVlAg43Vq0V2DhPYOEhpw\n",
              "6bGGoI2HbLH+qH3+qsz+vMdip/Vi6SvSWNexXiYDJ+wDHNioYwcoXqKLrEiP6dbds6dvljJQ7vor\n",
              "kBnSFPCrhujAyHa70zJaGCs3I9NJA+wYlIlTWPbTqsqbdvNB2SOD377I0haaWF5mcFdy7opco+w8\n",
              "MVcAWb/2ua+C6Q3fCpurp1opfPc96rDbzJUKCQ+VIZSvzAt0fNKI19+r333kh2Q30l6XKPrc1obz\n",
              "Ovj0nGAMORzWL7h/VpUanHerzMny0Xl6syiHQZ/7vwqhDA/1LJd17d3mUq0lDlASnMuAU4z7w73O\n",
              "yVVokSwObjWC2F71fJEgRh4r0SL0uD7QVBUeY0KY65X1KZqODlxnewlQpLGh2ls/7AJxECbcTmDp\n",
              "YjfHeYuXK1mI0r5ENkT88ReBFauD6SuwZJz45nno4L0utcB8uyVvAl9hO8Ez4T7RQNGW1iuJuiCZ\n",
              "vGtjSr9KNiYOGpXp7YgrVNeSqLNAQ/a5akHl7rBgJd9u6e2ufdLZzIvjgHAHP42PlDt4gixAp3DO\n",
              "5yfxmlUMC3n2Duk0DXlIIEJSgbgynJ+xfB5k971rMgrPit/MfNIjOLSSTbC9azjnaW2dV1vSWmmY\n",
              "DNyCxsa0Ncldh3av6PxykkH/NfwcIaXh8WpA1iSlh4rpSkGuvtJjX3zIoBgDewVWIhez8gln5X5q\n",
              "0HcMd/f60DNIT71/nPUomEZxeJaBOVDxwIRLSsMLAv+ym53/1Y7qomDZ7yRJOIJvkcila/Yldv3a\n",
              "tDedefz8c3I+E7+eI0oNGIr83bUHXLNhnDrRkMWGMo3f/cZGJMx5WkfOJkN2POB7XcLx51IDm7VZ\n",
              "gtH8ry4l2UpQpUueWYaVxeic4vnfNLJCktA1g8ap7CwF/z4y52GlJ4DS6R84hlw4tNygMwAyMXlO\n",
              "+7U0rQMdwqxLpDhW0jk0StW3gEjf4+VfnJeUAPh1XDr4QxrLwllPKY1edma8Q+y01ri9lWcRFLlh\n",
              "ZaFX83OMwjPB1avPlrc7IXBJSBvr+M+NuLzQpdN1gdMkRy738maeYtYhR1EydwF4/TKG5OM7vYvW\n",
              "Lo1Y6OEm71LMDcqhVZGXEMyZcn2x7XDOFzcEwgLtDZ4s/73m6hZHtdjE20QU3ZgH9U7K8VH+zCYA\n",
              "P3dsvB415z30k1lK5sAOj1TZSgnoB5PWReqooofMBwMbvfTNYcEiVgC3YaAmiLQWK0krhBL+dIU8\n",
              "t8DV2ZvjtV2ahvo+S3y4hHqk4kY3+xP40s4cdeZtZiagOOpxRO6c+HTrRvHqbq6nWczxiRVHz7jN\n",
              "RqJ4A3/6cyTt15LroCMXpsnkCgQISzaRfO2taakyRg1/fPx34FYajFHZeHBSfzzb7RNwsy//3Bj9\n",
              "+JlEfetYX1osXb3yaMrqCVAlUVxHk4EG4twRFAZEtyu1Fj92+PhC1t+mV+6N0P2w+5oIdLDm89GU\n",
              "TgZnFH6ZvwNZN/MiNYlPHYaLWuo39aoZkJtMOZ04+ZlJV8u5S3iJAf2M6WI/1ivF9Cxv6gy++1qV\n",
              "wfRQGb2ckeY5kkffcIsBDU0Q30/wMKt5bnAuJqAqU/QnTgSPBpGoPOfjU1EMKEMkJyIiz4VXYBm9\n",
              "qEJkTWTGqAVDK4Ds9OLo1rT/U8CM2ejUDoOt8M2rPHNiM5h/xu/F2737qt8ZYL/MN5M+BC+DidgF\n",
              "/aw2R4LvkAlf5vqw7THY0X2qd6KZIFlmHzrIIqh0eyO5m3oUGKc5s/86CQ1HZCyrXuTTX6VBd7CS\n",
              "Qi1Zlq4jQ82CqKHUFmz8lYo3yKmO2+8AEYm9VkkL3TenD83/AvthjRmQ7GO9RRfV6K7GUH9cjF16\n",
              "lln8qE8fKYR8hOQ9o+ZfiyNsWWhVak6vdS6JWjrwasT13y9NFUG57v7qkxWy5frhjfpTVeXxPgxW\n",
              "5qNaFtWxh2vJWm9VVg8fo7WIwwd2RWEB3F8eHCkdJv/Xx5ubsR7KTjR9Dm1LHfhQI1+IWVpNWUQJ\n",
              "fltCRlSHZlI0Ly7+u6IxFu2ojKmAW4Rj1k2Kcw8vp7nK2DXb18FPgRPcGwS8E9REJ8TDBo99vhEc\n",
              "Z7TQIdLHA21A1geP3kIgL9jVVatxojoDiYUqi31Q7FWhOx5ukaZPnLFhIHrxgVuVNFpT0Hki/U+p\n",
              "ogYgAhy1/5WQS0a5OmBdXHQmumteE9VJUQljPAYsAJbDUKFdTLg3cC7rWfaBsIEfR4gWSIV+51ut\n",
              "laeNkAj6i5GeRwGXCwUNfHeAAAbJCQAABghBmiJsQS/+tSqAB3YIOoAUHHSDHQuPs3tHusSwyhoa\n",
              "R1pKMKF5ZI6S/ZomCqQXfUtdM1uOrlPqbAFyKp6YhcfAGoreZDrTTlvTZ+b4xdVvdA6cAH8dbDfN\n",
              "qDN6/+WXP6YoSJrVfE0ftWZF4cMEzLEAhzt5klLgeG6UP3z6pjW+E3+xZIpU1Nd27gBBafbAvOr9\n",
              "rrqMYsXlS1GWFgvFPPlk+olEf0W69e2PNVvlyAX/lqdUErUhOwe3CRxJIi5fTsOnSeCpo0ACbLaB\n",
              "QFqEjLKfzOAOcT1uTjZEz6txd4NT/crxzYmjaaa0rgFVo924iaq/dnmZqyDbHzgAh7oBIQNeD1UZ\n",
              "ZIHzGPrmxw1bYz1flEqYpkPd7LkFbvnbYnV+Hbqbi4dSSLBJZX33kTVymCIZnVgGtSKhmjgghJUq\n",
              "xEofpKNa1oCtMOwTncA24NdZIhxK2wtNAEYgMNAqMwlrtWtY+l2nDNBTkMWD1YBkvccnft6R1Pdw\n",
              "sbefgLk/w/f+9BcsabYqW9g9p06RW/8m9rbtT/Z1D7LxQOMsFjpReh5LN9a5HTEcuZmNDsNaQTp7\n",
              "QgU3R5fYrcg/I1SG+EKiwB87niu6G448DS5jh8pfMhkJ22CIF15Q0qfKPRH+ANyhSrn7hsoL9OQt\n",
              "oWAMg1eGpORDkNs8c7usivoHibaOGcDV84UXObbPB8PnyL5vBB2zt6QOAFX2EIi1LOH323HJ4wij\n",
              "9dOx/SZoZwOc9Ep61araImdLpNoU5NuwGp5zQNPcTlzlRAYZq13gTHjMrR7++VKgBA2qpTHDt265\n",
              "YiDkXoL5CxFucMN+6z4YqCSTr058p1x0mC4ylN7D6i3h3P4b0J5H43AytCcFx0QSVnS2ivELPUxS\n",
              "fCfi82RqoiVSlzhOjkScVXXegtrUdF6WLIonrFtPA0TzGd0N9ARmnLZBpEBHtmQy5L++rLj3KLKj\n",
              "TBgsTGzR1b4OqSkBJqFKwzfsdNbUUNLADSLvBE/ifvmp8OMd/zs4TqB5rPr/gtoCbbdjHc0Ul7S/\n",
              "gBi6cI5z8Hr+JLwrcyIn+c3kqWJ+KMAaXBaq4VmInP8aoTE2BrtaG6sOhATFnmq6aHOQ7kP23J4y\n",
              "wl5McS4cJPT99foQSWKvOqzQx+w33pfdslMZD4Pr8uRNhUBqB7qO+3o41to+bj/RZ4Mk/KogiBMl\n",
              "mYAarH0/UAU+1swfps//bhdLHPHXySu/V8vsEkDPucEzpngD49Gx/4kpvy7Z6WWhcMh199MobJNp\n",
              "tkMxo1d3eN6en4L+RYDWBvabeILpajTHuWDeqpHWZxInIAEYt4UPpw+vCxUY4c9qx/PaTzw78/eE\n",
              "cSQgqTMK9aabMoOABsHPCgbzSWb6WY+acatey9oA+lRgbvQUnGL1F/7+QpBlIBbZ0JBD+VRpymuB\n",
              "KWqrJbkL7XhNMveIos/a3HJ7O3p8rU73bibXPFqtWg4XKKvkFNS977lT3Ipj+hD3lm/wjxBkKfxk\n",
              "iUpLtbDQabMvRqDnfGcgFJg/MJDZsHjm5Ozd51KHggvFSXc8KDZ/Nl9IGi7sh61Y8jB3Mz6V7HNs\n",
              "BthB43GNIuXE3n629hcl1EQR2J14WiOKSXOrccD74Cctr13u/I27LsW+J8vMEtiGQ/7vzhUKyzSy\n",
              "TP8Od/gpKLi1l+qgM27ZnbEtMmWIj/k3EKaXy72oDIssdqd7elcgH16qt7Ap7MxK8SqcOWunfI0M\n",
              "57TTVN2uxlMp57zt3IfCgWFqZQS3p6Q82RqlxAHpJavbQpEiQn5urv2UZXa7uX8CSomDpAuk+UG6\n",
              "ZdEyRZ/QkS0zaCV0i2Uz12F6QY7qQKR+cAKierLM7HlsKkszHyRTr6B7wm/5t87y0rHR5efD1Hji\n",
              "5lw76NQ4WNbgHD8GsfJiiGCtXPFoV+Y3h2/4XLa2YKfkCcHM1iR2eeY8gLZLb0S2FzPKu53//+br\n",
              "ZJIGak1mTiXPFseizo/ww3ok/UM1Nk3/7R/7dgFG1uwEXnRovpycoWa8pMswfpYiYII7NdXszxtR\n",
              "XaqleJ9KplhEq0ERqG4ur4x4fnkxacgqzj9r68eWkAAAAWIBnkF5D/8AVKwoIFk9dRumLrHZeF8h\n",
              "1WZarQAFqgyYwnVu6bLDWEhUo3SVYBnIBSeyLbJ/HlVjxp0RoHj7pE9t2zRY/i7tpppsgEF4lBke\n",
              "rwguVDYmAuK2SRAA5cmnBZT9EJQGIh5h+tqVS6djt/Ev1qhLSNwZjzu4v/C2RrW5Yi3yNoYXv2VL\n",
              "YUUCgsuQniuan6OgT0gf7/GdVrAcj80hx2Y6w3ykVzx+LlzRmiwztOdubfCC499UWVZErEX3FTgE\n",
              "9ZuYzcTHdGze/7wbTQFu1sF/Ufxrb8Ov+UmIbeU3cdT8jHloCw/hFeVJKhutJGmWfmvbHhRQmFn0\n",
              "gqrIDmEOKrsxgD/M7AstlUgFIeW15zw9QNR/kM0KEbEvNNdcXF0myw4RCdAQx3vAcZ973qZgXyr5\n",
              "74M++gPWIGxOFNyPhSm2zRXYSmjdSVC7zEACl2C6PMZ2hqMxq1lwCkmYt/DylCsAAALpQZpDPCGT\n",
              "KYQT//61KoAATh2ofqAQGgfhqF6SPfO5F7jicfyoASzcdC74ST9iceBGT0K1wh6uBqPHNVXJRFm4\n",
              "DsmRTkx18B/y5Ipy5CCkAvLCKzqd1SF5FaZiqs9HufkaV4Kx7HE/N/UVuCqfC+iafZXtG/PBuhVI\n",
              "2ddRhvKChHz949m3N+ttBXSMEuyupxOP5DLDBwwe4sYzZpQVdIHnqIeceBDkzVqWsootAyxE0wY5\n",
              "sqMoBaNyWM0gGaqJbPBrMaZJspXNP7u1xQ8DV4MzyX4bY0kOcuTXSj+R8PseCY36cf9iFaa/S9E4\n",
              "SL8GtoarS4aDZXwuOGzkHQ5itL5kI0dOsMMCyFVuJDB0MTcHLra0O9YsoKSWUfV/ejEuJ2gutE6c\n",
              "pwKVs7WgdR10OUw+jInNPziB5FAzY/xyAr/bxe9tlPA8NUBuyqlc+nh5ZmpLQddFLpH/ZRD5BqEg\n",
              "mIUlr2kokFeooe3/Hfsl870iDuiNABtVzH5/vM9lsI/ZRsq3JUWO9ruM0Gad5rCB6HArjT8vYPy5\n",
              "cYaZ5JxV66/DEb4U5b38ZoLlg2o0pziKD0iPvk9g8q37mz8PXCIYUezYPHCGXvSuH42uAWRWSfDT\n",
              "4h22uq5+AedUdHKc5U1ilLpvLUfPjh5JWHrP3EA4p81yS28MD+bxCRGfXT+9hvQfsE/gCVHgT4Oa\n",
              "5qTCho8jeanCLSf1LClFIrraFNTHm5/tMWmkpL6x31XQMI9HVW91+NeRW8PP7XHSaV2LTgjeuM2u\n",
              "EVVpDOPiLmDM41d1I6GGzKNJk7I8rjypD0MhFpTBS7mEzM/YVzKszcFQCK20d9w0uU/a8gMS6MER\n",
              "1PbN+YfOpSzh80kirNFRzQgJUTIwHPWABUtXWexr0wL8+ujf7BdTG4fIyKycHvS3L6mUqbWUs70y\n",
              "bON3obVae3MF3auFAgz6NLLfK1p9x20qoOhPY8MwD6ofWXv7GWUYtBNcR3UzdCWFFdcYP1VccAAA\n",
              "BBBBmmVJ4Q8mUwU8E//+tSqAAG+y0v/L4NGgEFXmcoBFxeUIkh/zlY8hk55GECOS+C0mVwB241Cp\n",
              "HZbYVeUR/xkX+2dB+hfrKohuBGzBOcNUQ9RJyTORGixfKWJRx8rhdoebJh9IritScTghnNk7l86f\n",
              "5bwXIhenITazdDRMGRklN/7A4HVLa5Mgvp9Tu8zOIHaP/QQmcNJ/0kCJ5a0nOhRKWmOiLBcn/7Fp\n",
              "cB+dZCXy458k7HzxnhX3UHaBUztkFYFbjg7LA2XUWMN8wFEF6tD1gbVIpAwj6YAWXLLVmnnBs9ia\n",
              "BfQyaE08wYDO9UQ9zZmIEFW5yDMnMy1KPojPE7Eyx6GaF91OcPHVLFnGLd6uN0O+stzWJ7jgbYtX\n",
              "hucPnmP/dwIDAHAcJg+9fXrL/HyfRUBV0gyHeB8JklASMmEO/LefVT0CDolklQniNDdJXegRC1q0\n",
              "v2Ef6QPw6NATkBWJoVO4ZN+HUPnovQ/nrqffZo2tkD71nHB85+BT66XIaqGLK/qN77fI6e0S1WWU\n",
              "EYhevJKpBgtqe165U4YA8qw5Mizpg3USD/3gTPlK462/bbrtcmKFbsyFrsBrggmOmOruP2QMP5of\n",
              "qMCwFxGHoAishs4bbCdMDP/9sw0KG6yLY5vcljRO36WpWw2MwTUqbivnqCC4q2dO3fCnTBB2nrvh\n",
              "J0fIfV4HKX7dhCJ8OJXvj7IiUIxmC2ARk1/zkAWgg00FUujzAckWAQZXLlEE6sTYmoWKevBYk0t/\n",
              "be7EfMCjHC+PmIbFNNkpk4qXPjtQ/B6sxkbnQP9JREDRPRNg9M8XoW2/zZNiQqaVHbbwEJXJVXBI\n",
              "A2Jq+f5ZTYAnTiA5EeGkt1AOTYnPOvKtA/Nv18HIWMG51dro6ql+ZdGSdKZ5WZCZA1LaIqY4UHIG\n",
              "LcAdgk8N+wjVPEHhUEVuzHwznloJutOR87sRWxVSXduhYgmSWopsVAeFLIZIwEeeMBCVustRqmAN\n",
              "FWiTc6xVf/QU2hBFxKLXOjqXNk+vrWrkI81g4vMHVVatep+h6MpRKmFSH7FV0EqtRrYWVcuTJ7zK\n",
              "hi+MXYeJes0wamxlPy7EGyLciGca7mmDkRVcZGNmFAxu9HdS9/RF7je4GA8DaXCdcRJ1r9qwpw+P\n",
              "IY8AfriJah3NKeyOeZYTaKOXWs98PsL+a/uvCWY9MhA61hqbzA9BBqNDhk4QNmYvwdMf+F2UFZIb\n",
              "0dE/mXdB6TGep2vW4jz2g6lBBHX+PtRmjSQ5dz35M5+EEOZShfPMz5HANJICrwgTQ9EHU4vlldLJ\n",
              "LBiCcYLGOpmfNxwiRqTY6SjBOlK/mq/LQFOesb/9nvtxf2vO8UZlr0/CveF6af/PEvwOWXj4jhqk\n",
              "9y5BFTQf1MDEceir+dvaYQAAAJIBnoRqQ/8AVKwoIEddaukKNdDFY8WvvhLIASxr3ZHHsR8ooPUL\n",
              "hIe3AgF83vTS1CkGL6j03fj+xfBNStpAJh8rbjNTmqUEinoFTkTOSstZ0JD22VWeGLXscwX2ZCMl\n",
              "raD5V9bzYhC37SZr/XyU0lvvXUaCOqc2OKzNh9iv3CsSB7KxA6DcoqE1cTm0f0A4HDaV0QAAA0BB\n",
              "modJ4Q8mUwU8Ev/+tSqAAbzXSgCVPjQ6FiuqTJ7Eyt9wRAp5TMgZuieKveVjoTK/oWpjYxfQHeCb\n",
              "YG4ZoBqr9KEpoS52B26iiLUk0lOU9tRdf8CjWkvXcCS+2Pm+O1qSnKep+s18PGvjRZdnfSib6nTz\n",
              "CZicehQDuVHoKsFr2NH875kLo+TSCrfsYihhVKMLP0x++PVasG3H5RmAuLhzEdsd5dzVYlPON3S0\n",
              "yte7sC2sRzwJbM+rDwFQIyO8q30zH8RXgNUQ6WDChGxGaie1Q9gMUVUR3nWXTR+HD50iMkUFO1K6\n",
              "yvBmIpRM95G6IPUH8gcWg8tTulAY9JDu1foupnXi8jh7g2h0OaAMdo6Mgrdg+bKjld4bHW5FQ5/6\n",
              "xviL0c9Mfu4vZvVDWNkNnLwGSRCd0QRg3YfTf5Uy1nLUjq85wNPk4Kw6lHHPT+KRopCOgBVXqkk1\n",
              "fMOPi/qAZ72uz0ITDGK+NeHG8Dlq14HIsnHWabCcb61nSKt2+D0NadVKUHF6i2L9EUg3wDO9RyNA\n",
              "5n7xslrElmYvvhspjOwutKdCHkaRrVTii3nG6728CRUL2v+M6lZKH2HvNSZIK9JcBPQ6PF2aCz9J\n",
              "E90bt6H23GXvcVxZuDGDEOTNrZOD6dVw7hhnCecS7tFmnUP2QZdMKImzADZY+Ib4lIty7dHRVgdA\n",
              "0tis/KJZoX9RqvUJi1IiVhdDidtyId+KS/pqyNhInKp+qgJM+c/UNmWQ+FFwkRlq6BJJWGpj3KoD\n",
              "66v8Qpp9CIt6eedSYqqkhRmxFf/mTYsh84QWXnxjwSRH0ASDOF79icXQzF0RYQ+S1nOAcfdJrJrc\n",
              "9m3zCxbc7/0VUDC5N/ngI+wm4YJIVs4pNQhuXA63/wDOQG/dW2Yb//QDdfCbDsngpuH2JH2xqsal\n",
              "ar7RMThY/Gbi/lPorQBObO+8kE5QLkchMHV7Oick2c4LY9yIbQXaI6bIjBWC44rZNce86uQRY14I\n",
              "GHdutA3ldCsWy/8/wu9M3m6T+tggcOXzm3dAa1RrgNL9awfkGh2ozPvGfGGDvFMlU/MRH1poaG8b\n",
              "MpmfYJuw/mgnB8q5MBbNCTCbL6mIt80jrRURAyfBEQ/hAAAAbwGepmpD/wBUrCggRmtlWTcReXaT\n",
              "D7kC6i9gE5MALbGd48WwbVTbIgmOqavo7hWnVEly5WaJBp6WVpzYvUiq2BJPiiIQAjzpJZ3XRkU7\n",
              "zf3bfBK3JbstzDE4UHQoIt7K+gPLKn5t3YU414RlQcEgQQAAAm1BmqhJ4Q8mUwIJ//61KoABvNo+\n",
              "AErD2iN07IEOB3XMIa6agopRhtkvFenAoB9Xr0cT7Qv8sFTwB3UlMwGInLMkAQ5zH8JhPKC3cz0m\n",
              "QoDWH8Y0V8YxHRPYaWTtb9NBel3l5bsORLiCyVwaEMccV33msprOjvzjGq16/gDoExX/eotoKUDh\n",
              "Eq8XSONASDgbxCGVAXMbFOJizJRi7cpJSU1IVXP+oFbP9HnWfO1Q+bMKbMZVNVLczUCEDQ3u0uTn\n",
              "GC1KuKolG+M0ONMbBSuRKjhvZ8Db8OQlJrOTqF1ztb8ZDReh/uFW3uXHjb/JDcHYEF0ivxKKO59n\n",
              "NSJ/tKNC5MIQ3n6r/kpcC3W1Ro2mbshnxfFU81WvlK/4CGpbUZ643+XaG0ESCxwrkpog732bNgEj\n",
              "GvuZ93TELTundWh1H51lFaFMu+hIk+a4Bg2a9/8D8iiF7rwX2iQrpkj0pVSXC6f9t6CLYLtD434+\n",
              "gsZEjyGXH57C4kYlTxM6ukaxW+gX5CVGM2OMGVXibWNkH/Pjriv2QHYBE/lkRK5lk/3ATAt23K4H\n",
              "vBuT6l+5xUHsXf6PXQvppPn9W+cS/y//d80uxEQptKKQx0OPaJJXYh9OGu1fnPh0T2EEtHY20zWf\n",
              "s9exDvCeoMzVg2vW8Q1WTHpyTTKmop6mQbJ8BgulGZmPg4m1i6+vx8zZRbbuxWcVdYZWv2HlQC+F\n",
              "utuHJH0ZPH6W5thBL+OccBknU1L+a4syT64YLuA4mRV9y9fJF3BHkL9MwRGQnjfScx8ptn7czn5I\n",
              "SowgdDLfVEXQ7m6pUFnUu5xYjaJqZ3O1/KVLRYni+rQAAAPkQZrLSeEPJlMCCf/+tSqAAbzaPgAs\n",
              "z5GK82xbefw77B6Es3uTLZVCER5lWeSc11939L2x6nUfdraJLN453hshkuz2XKrlELZZCccZEQt+\n",
              "xVw5sOX0ufQC7tgtJrPDdemn6JcsRDpcKgdeU1QdOOu43elYXsWl/owT45ANngqFn6OLNeN/hjbg\n",
              "A2eL+SCv8vMUUgiH6QHnIEtkgM4+gf2/zUjQ9tpPAWxdvlOBlcjLMfIIHSMPqrK9H53pHbgrDjn6\n",
              "kMzAPWwAPEbWzomFp22wey1LxMTnUYCSPjs/VbIZJiS5+VsirngFmGmMqLbSuI+W7tcO8nBeRkd/\n",
              "zx9N8Dnkh7nx5tofd4H3QCaFJyu2w+ItiLg7Yypaixd2JlVuZB/j2mlu7hdYffR3CNH3+Yb6vHJr\n",
              "cZfr0LAjtpqFqeVTrEbJXySYgsyiGOSzCHzrUorVJKqceXvVdcp08Qw/ziMCWaP2lOyHFqm+tahm\n",
              "zG8fR9LAHgPwbzivE1B3AV7HI92q3AjYPG9pDhhTcC7d7Bm1sG48w3oQV5Q4HCx9Roz25FI1bP7v\n",
              "2DzqY6oQQDTfSTL60g1g/CHNrN8GNY9Pm9I3Ma9mBd++XuO/6VCz43B9KeqNTuttAGefMNAYAKrt\n",
              "eiKfMvnNZ8ScFAK7IZ5pfVO4sc+2MdfOXCunpyadphitqavcuuj1yDY7t/WSy45AXkF2H4ZoPXqC\n",
              "PnyoutWFmUwW5Xt6oOQaGCvYK3PiifHivUtH+5eLEswel+RAMK2M76s90eHzRtDdwVG9hEQB7YZY\n",
              "/d+lV7g7j/e6Lcdz3cNB6IeB4wiKH4mghI/cVOEveJJG4J7hmmt+LcWaRo2n6wY301WXll6p02tj\n",
              "cV/IBnTGAD3zR+XWPxv/YcH1HpGchkHx58wq2/NohDaRJKnfNwn/4vPXVD2JaQNl1AFuPdTsYFwo\n",
              "vVHtcbXjVJEj3l16kPsItlj/eESRFEa6SGDiyo0rN5amBtTGW90TzJ2sSMUYuo+1bTAp38Uuz8go\n",
              "cq6IG/3/E+xMt1gkeHFiWXNPzh1FsDdMy7PAtz1ZoLs092/jcXluTzWrKQwXC+GMe8hpP3Jc5gDB\n",
              "9O2BqF+Ei25G9YcLuNChz3YKqPRjyiGmAU9Noa+KxwXgyyXDxV9qWdl9N9gv9WHQmqEuAOxO6GLA\n",
              "G9bNuWpXqHcmnRD57EWeg9XZR8/wP+x2uLI5HuRR9M2W95BLgI9TjDim2odKk3DCAl13e3K4B+My\n",
              "Db3x/r+pOMmejYIxLCo/NbDoXAz8SnVJ8EMBFOF9XtPb8o59wPnsNXtu5h7gYcDNlb8KZY9EUeG8\n",
              "0sNOcnvPAAAAkUGe6UURPBD/ACYtyFlgv3GoGBUOUj21ySNq7fXLddk/n+qPA373r8lmU7+AZlnt\n",
              "yZtR0dQvLvtt9fDdFMGQRWHYUm2V6uTrFsB71C0SCUaEcLv3Nx/c+/8dtW1lTsIVaT5qAGFcbgSS\n",
              "S6u/KumMACBwpBHYjaUT+dhfA0kAFG7v4VxzJxTx1c+5dfHYxgdLQs8AAAB9AZ8KakP/AFWTDoWj\n",
              "xIYGZZ3IUu0iVlkQvAekOIb4ARz+4qLmSyQQhJ7BYRw4JH2gzhZuDK2tB6jJ0yfiTy6hfRwzf22K\n",
              "9v9ALISyYHJqOJ6CBt91YYbZmjq7D/5rXVWuhmnWB8IDTlR6ORlNoK56ecJNknBBovvs1QkxhMAA\n",
              "AALhQZsNSahBaJlMFPBP//61KoAG82j4ALM+Oxfji9VZtEhhmvMkwswp9UwYRX+vnkdPYpE1cs/R\n",
              "j5y1IjYA9UrFeNfttflfrKSg8ay2uXvvoWcQElWRVjQSOpqEo/oTKqsBNlpMm31TqdHQxqRTtaKm\n",
              "fv6NkX8QBNtKbdnjybni+sDnpz8k+7O5Eh21cz6g7BF1LerGUGhUlCv62OdgcURMV98KaYcN58SR\n",
              "OdvVagylYTO27IMZ7rFha9VPRdGpzUodva7fSPrYYuIwrWXfFz+TiIk2TRoKFoKuInMMhieWveUe\n",
              "VWuI2NPjsMBuhFQFeVN6XsmHyqQv5Q0kWjFCgXlSvlyPIP+nVyTyU4Mu/KTwYPMvLeDD0dtQpLof\n",
              "8s3vRzBRDj6J58ip3XMhq7VFUdpfFHxhzzTR6UP6PfAib6HL5VJhewxJveDm5wp3Jp+cysDa23wr\n",
              "1uCyTcjEwOgg2iEvSqWByady1aTmwk0I7GMIJ3hpBJZ9N2xQkivVi3/KVdfnVAg/7tSsGe1EqFpL\n",
              "jAIguy03hu9mW2jWk5q6gvrxSVfN1eHnyWzumI7UYHMc8J+jy1In6szDxfle6tIPkIiII5Ciqy3Q\n",
              "vrAtg1BJmgh9FMF4t6qIg/o+5gXXE8UJphYvZT80yVBgStPZ/CaqgQ4029i7d6OSUJ1cjK8Apz2O\n",
              "XWRsr7/HfH1+G6PtnBrxsfiY5Unv9N5qgSMFdOs++sOF3UIuP5pSSkQB2GAXApkIr2Bvvq9lrF7e\n",
              "9GPctEaXUHiDOLnjIs8lvtlfQVg1OHOyJtpYKjLq5HMTnxf24lLiK7RhLi+whjl5OtXf8y6ws6aW\n",
              "lhitMZPi1WG/XSHaMxSz+LD0crnb+ivt9ZBZ7OUU25Mgy4EmJKanMHS4ZQgNK+vvvED5fKPIhZ9t\n",
              "zn8O8z8JFhbZjmM04ixgRERmWJgJAMSI0jxhjtIKMO5rSLrK54RfVv6Lf+u9Yv2/ljvkmVWcUoAA\n",
              "AACFAZ8sakP/AFWXqUOQ/FcflsANfUme5/PBCJLDFEKLG+BWYE4jGQAfzrJhgMEtX7vMXo2IUvZn\n",
              "XhwTJigbKyjVvBQDzt4rDjkJLlz18Rkd/CclgrK7iS9g4osbwgl+8YqW5JJW9CMtltE79cr+lFkF\n",
              "+ovY2a6x2cDFJa4wsulhwz+tdYexIQAABCpBmzBJ4QpSZTAgp//+1oywAHHgrYAyTsGlSEIimUwD\n",
              "cL0ZQtUEAygFLfNPi369esX3ss2jJ4BAHIiR0CD7wMQbwRDIVp3jNvQaTL+w0Fpt08Avw4pxinhL\n",
              "DOKqz+3qawQqMQMxRDH39hCMh4Dz2maCCqEUrVNWtoiQe0zUrZzMNJXDglOalW7qgGNd2emVIoF9\n",
              "e+bJBVYq/MQWiWSbHNipVY54Due/ZxexV841+YdlxdBW4yfmtNF/zAeitlxVJ87Z89vhzcVgCISH\n",
              "nRbs/0PuNwVqS9qPjvHGDjcfSn+fk+n0YtYw9Nck1AZTW5Vwkr1N+DZ9sLL7Tx+y82kvOLmPRb34\n",
              "b2AKmSky2yE3BWSFP5UwyaF29AOk+SPxEcgU/lTYNB7nwUW3j5GEZGbWv29A27Nd2efBbQYw6ufb\n",
              "5EP+YGvg/q3dCc8X8vVXFBL6G5GAI363Gzu4Dw1YktazNF79P+kEjNQYmXXR+FmUa/VyDQKI7UIe\n",
              "R3hxyCMmwfczvZYCmg7/hOnZHS6aFXl/+xUx4NtLOMGX5Fo1OrltdorjzncScAsatg0H1qGO5z7Q\n",
              "BjPPnTls2K7BcqofVDkI0hgtBuC4AqvaBgsA3rhJOeHUEuH1DN5NT5fYTMGbvuXHuq48SrntINns\n",
              "nKOkT8EaYk4X9nMvKsioiGbKQ0XMf3F2xqbntYVxSXDS9qqc6+2eYt4hVsr/Uc88ugJDDZak0maC\n",
              "d1+l+Bf2Il6GM0nAJEOnVMHhp1tugDUmfYWma+AKJ9+PZtFA3+DJ0ck6n4p5k0iK4RQH3ysSyXNp\n",
              "cdxXeLfRr/Vu46Yznag1yXTYfCY0loXe+03dwSqfpU0f8L+6Q28OabXBNHRWB48nwqYRleSvL/0w\n",
              "/ZfeNOs4iTpNIxZl/a8kRCrpJ0OL6OTpDQTHPsm43cVR/dn+pfTX5vxAtuDbz+nZuxdXco8Cihis\n",
              "YiuT2LDzth9E58UF+nxoCFZq8zVEYqVN7u6R0TGjw7AtE8P8ZADwscqybpuUhDn7aPwXhQC4ISLb\n",
              "St38u1fQUZLNiCdtzuQBWdcQuqk4pQ5wZ8KMaebNJYrMcDkehD6SoRHTEykvJlWKlTqOCM3bSOu0\n",
              "Y4UD9mTvs48nzMQvm7XLqdLb8Vle8H2X7MO4b4fxUFFvI1tBQiPLqfvRYtz/Bak0tSVhyZhay8lN\n",
              "OOrqEGvLEssE7hfiN/3X3IZePY4r1+nP0uHz1Ea4EM3eGxZR7sv29F6xRwMeINBI0dV92nRD2Q2L\n",
              "wOEh2JMfE9yBFxiVYXGfOx/hArUk/iPDlWngidcpkecwb5Fx+XDR45i0h8LTtfLWmDhtqQrx/7SN\n",
              "mbGhMf0TeOwevuwGnnWzHLyBuYvRYTIUc2rnxzhYdR/kcxpElKncoaKBiBRB82SrT5W/EANnJebx\n",
              "/rxnBJyVHruZAAAAcEGfTkU0TBD/ACaMsBgyh56VdeHSwInrQXRgGf3t+OCHVJrcRGY4ABcs+KSE\n",
              "vXgiw/pA8qPfhPq7SijZW10Orx8W9sZZ+gP6Dk9UCBs6JLTAbPDXLhIy743m0FQWBWFjkQR9wCYy\n",
              "OsQFqOOPkn8PJUEAAABvAZ9vakP/AFWTDoYoeoXGGOIubvfdeu1vL0S8T03F/iBQArPGSGmWGC3i\n",
              "IlnpvYDkZiMjsgGXKQE697GCQoIjKkBN9eeXJ+c0D7PXcqR1pjC2Yo1Vu8pD9v9seEG/0UCZ3Aw9\n",
              "Ao0d3ff1VzRqfFQwAAADjEGbdEmoQWiZTAgp//7WjLAAcdDqJQC0YADnMDYOAGdwbHk0XJCXQqKp\n",
              "ieUoFrpGYDE8XaBmQLDXL0TEyKvaGpR/BSTSK0fH17rM4BpZxpf0gDrrj/AenCLFqIY7s793jfw/\n",
              "1Ysc9RDG0JECGJBNcdJFDT5SlM/4wnfx97+ihaXvsTKAo2kPkc3ctxoAva+Kt9GuqMbu968ESMbf\n",
              "98hG+0mnbA6pYoFQ4xGNg73v730v3w5RLRMefIwU1HglbbibPNV/8e/FWKkjBGD3syDZr622DwIn\n",
              "uf6MhWeL4LhTcVSyJNyekXyqEGIVwxygpn4R3NFOczLugwpyByorVjvySOyKZvjqoNl0p6FyThtu\n",
              "bx+fSn61Ef9yI4p0sjf5ZTCZ/RtJ+6yIUq6IiGW+wzZm/z6mf0J+swQPcqNuMv9S+s63FGWyHOQV\n",
              "aPZjSrnXB58519lDqQFCuCApEvw+EuDbG5/YTvEl/q/I9cQycRIpT5lDOW/671YHQXUwWhlb+7Ft\n",
              "8Wx6fn2vre0LrZWZJ1YCesQxtAv72oB3WfOgJ8M2pEpzFsptVTu9exhJx7fFHnf1VsEsriTcSbEY\n",
              "n0v06hISEFlTIPddlYKGqc7hVpcL+iiRmBKhsKuav45CCEwCpqwtHIlrT5UtkMG0wD46cJNoLUIo\n",
              "ufFZpqj9jn/QIsNS60nrIFwojM5K3FJcatyxcz//7cxHvKrEAoEnpoS5yTBrCQ4j56p8MuP89AZo\n",
              "Z4EFTXqGokZE8kjfbF6FUnNuv62FBL49QXhG3vAgPTsrTPfjEiEz3538aintiuhMALGpdnwLO9fh\n",
              "V3BSxAmAKxvhNdplTOr5YM5Q6o0aHc5W1xLBPiTck2SocARKpqaLelWEBlZwLgEBDP4gCJPmlN8z\n",
              "Qs33TlonMacmUP3jDpwXHJBBFvyfKyKwPjvcEevJcaWJxgTQQ8lrWqyuy2AU9PnR35xEu5x7yloq\n",
              "cWBlBfPCxUQZd2uliMdFbN9LDyR8yif3iaopC48p6H/yleaSFkcNq7unLEz0g+FQUqmzkiSk4sU4\n",
              "sg0kwyWePEMu0I4ydNjdccJNCFvgf0MVWALUc2+r6VNrVN0J4q4UrthEkeP4HYPX6Awn4UfaeL+h\n",
              "/+n9chG2RziGxYrzoyn9g5tgX/3bjNox4pokJds4rRvGxxyJrX0gBI1mzuEzn9qtmaIoIqNavKbj\n",
              "x+Z+tAilrzAoiqXgAAAAoEGfkkURLBD/ACaN27RuW9+VFJrkd7P9+fivgAGxayLqE/FZnUKTtgGt\n",
              "8f+qK+K8UdwINhzH4FZIEAPg6AGgyBdPFoCMZxgoW21DnIoGfWTVIuwb89nWU3iaK2QjTlq3dl14\n",
              "qbJ5APiswdN8JbfdsJ22dS91sjAgbEqvJN5PVBfMlnHIJ/MyfdF6ZnF6Qyv81QGt84DrBFrPQpXq\n",
              "O7Ea500AAAA5AZ+xdEP/AFWG++YoG2KgFvHUk2XkCy/B34yoLpt/KicsRqv0xP8v41hwlOcvhOg0\n",
              "fN75Qqjk9oWAAAAAMQGfs2pD/wBVkw6GJ7ny7U7HyxSq/wxRVVZD6EPN2BLEBBeToAxTpXKMf4ng\n",
              "ZXldtBwAAAOAQZu4SahBbJlMCCn//taMsABx0O2/+m5kgAEQO4U5QPQjKZFpVqj9Mi0s1FGmS0xy\n",
              "cD4Cyx/prINOwXFTYnQfLR08UoOf8bGQE5X7wN26NPie/rchKBRoWXO5/4MCqvRu0ey8JwHyc37P\n",
              "XZNcH2KLgSJM9J4PFuap6BwW/7eHvAHbiNWUIXiBRFsSHWdFgUK2SNkrKLcFc1hIGEoESH76Qg6p\n",
              "8ReXPjronEWq5iHnDD1hQyhT/Nh+roF4TzXTBjRCJz0u851ez1/SKG3KkZLTGwZe+JttXdn3ywQt\n",
              "adqGodiil1qjoyl6FAIGOHUMa3QCoij3gBPwNbvBKNSClcoEb784kQ52DVH2Zy/uqP3u2PqT1cOT\n",
              "vcRMfRtXqVuEZsBKDSjXvn4itUQrRRNNqJ4zTqhdCZP3rqJODi1ksYKBG/0/ikdxHvB06UUkgOe0\n",
              "mGRJmG++wMWiwMorIMZoYpvhVuqGiU3BlQ8OZ/FZIBhb1vgDJYr/ynCV8t2WPlaf2/LbIwB+tSGU\n",
              "BId2ER4XGiWX09+RbC6oL33YiyrZXyr/wBZc83wr8O6LTec+QQ/97J6exB9kBDMo4w+B2XTz5TWv\n",
              "EY027RhtJzbZ64afq7Ey6TAE+v/RfIv+swJbr7tSHVnoDF23n+12lP5gqGsYduyqtkv+x2BfTmlO\n",
              "90h4OtMlLStJRLMEJE64nXwb+4REyUEl193oL1r+XnzGrDEMMeUKQs3sjARDEeeGXQSZ4O26rV2c\n",
              "LVfYPeg2NmXA6NnalVK+M9ioaSf4qACfSNeWOhrKfCtEoL8rlZf4pOWkLYRWs1n+Oolf4aBp5p6C\n",
              "3MmpZjL9Ow2kqPAsfOufL+0CGrIycyrygnj2v11yXlP1E682YPR76rb/SCA84ySBN2yQQLeGvzcM\n",
              "BYYCsQSNbK93tXvGrNQ5BvX60X+ifgMW5Yr6eNzRtzIogFjUZTC7TI7uF5OsuX/9Cl5fasaJW26v\n",
              "0apDZHkUmrhBV7DGkaUlx2QCbhtoZLmNCTEKXcJBLc9a1vX+F6SkPJeXGTobtj3BacuQ6dL3U8Qr\n",
              "hCoSv5Ni9F7iHTJebazpuAA7y0vthDvMI9Ij46ti5X1cRU42I/PsVPPMjf9cjbE8HNqjZvP6Dwmi\n",
              "2E0arIoA+IBAPjmvPpteLZJyh2DJw9GHu3O8zjPwTCDE9WJL27Dpq4xRj6WUra0ih4EAAACMQZ/W\n",
              "RRUsEP8AJo3btG5ixz4y2YgAV7buSA3HH1zxZxD+uc9JfpolAzxzjvZNy7l5GRs25svNS5GpT7ko\n",
              "YL0pKTNRDp6J5wc2eacFelSlbJ2Lfkz0F/ot+WFpnTlYyf+JydLeafNLcwCgc4txifai+jhiqxj0\n",
              "TxoSIz1j38XDowvzbkfTMsfFAIfE62AAAAA3AZ/1dEP/AFWG++YoDtoPmgBGPJv9PounLyJ59mta\n",
              "MLx6ypuegLphr8VOv9XutDpv6CukclUBXQAAAEgBn/dqQ/8AVZMOhiTPIj5oASF/N+sUbkacIElT\n",
              "1PjjnZs5D1P9d1jnoH0NnuZCsydaQ63lO/pgm8peWEsEH7BQD/wy9yXF+vkAAAPeQZv8SahBbJlM\n",
              "CCf//rUqgAb7173HJMutpTyp/jAeKjo2UFN4F/IEdWgAGNa6RSUkcRK+7p0sXLwszDvsFplOGpM/\n",
              "Bd2mnsj8fYBgzC9j8fbB4aQUD0LJsEoOGha8alDnDbTTq0q9jqXAxB3Cgvqk4ibgEUn6TiF/XbO1\n",
              "9KUhOnkBnWWjyM3IpXerA3wPBGUlz2hlr/pi+GT1IOuE4XWoTMbIG8OwVaHdOz/V1uXML6jY4TXE\n",
              "zfQmx+XazvKPEOs77vgq7sglME5gSdAVuFY9b0JaGVOt2KxjAE1MbLtKnuhqeLWqOjmabEhVkk/c\n",
              "hIjnAN12UggeZUViubbqjhlXNAr8nbKLN/o917OSkNwOsi/R2v+GxfO6zqdOQCi44fvQgdrg5Lw3\n",
              "8Bkvu46mqYuH0j0PbL+m60+lc0mUcqyiW1nSmPYal+BDO4KHPWc5+pSCuSRvVNESIdPG8gwyIhiP\n",
              "3y+rwn8v1psweW+j8WoXpUeQrY9XD2AV3J6+NdpERmpndRCB94hcGi4KYC5VVfEMHgnjSdlUfXOF\n",
              "k/hYLpXsFkB5jI7o6+WO3cZt2IQgjUF8ICzx9KcwZ3aZgsJ/TxCmEwXjNoRlPUIHQsgrg45oP+An\n",
              "yOIYlofCOWenp9t5ebjBqepX6hbQANlZj9lpG0ZQD8G97ENhPh4XGDfzjY3TtAmZAmgW5svpW1B3\n",
              "dEXrcjR1HyzvC/ipoIoBpQvhiFO3358FPNpJMIpVn7rwasbFpBD5Ha3jnuXFq5Ir2RUJWxbYdZcD\n",
              "1XwjTFbDHkr4RFirLxYqUR9/NnrHeGBGSYR750ZESgyhiJGfqJZ3H81HNYpkgTK2spDye/OoapxS\n",
              "C/GTGNqoQZ1nn/wnJZB8G3IE04JHHU7YOMZPu6Us/fiKRYfFKbOC//WE+RHyVdqr12SBisv6ogjq\n",
              "uLF6MPWGmVb6NwkbNaRKP3+buS8u/et3Hd9ovyrt9j/qcWJZcUUXr2lEUNCQ4H0ZlK+1TqDBQig7\n",
              "Rd+/XzZLyDS5N5arxnQZ97njrWoGeE6JQyMYAAxdr6sU5WElbtmseKEkvp2r+mvuvlgzZJuAmEkb\n",
              "yUYp/DpxhbM3dPW5pV/VpMjA5vd8xaUceoxcVje2H2VcFdgZWllqdHWFYSMQf8CMVymgRlbG4XuG\n",
              "w7o/kD9QCfH9WjwNJD27AbX/QvQv2wvuc0tNMLBqSrJWq8eFoWQlYf2i23yW/hQ5H44h56CV8k8d\n",
              "WUGGTECE3WXgBzbuk4lh1CpH/HatJnX1WekRtoA6KrXaRsb6lv7ORoO5ZBqjm+yuMdH5LxCtUnvx\n",
              "cMk2f3h81Pq5sKBgAAAAiUGeGkUVLBD/ACaN27Srea01D/Ts8k+DviAFvtbKb3V2GMPYUxoyEYBV\n",
              "zuM28eV5tw4gPv4cQWgmY1+QdPfHg/aLloERRfY0i4uzvYy9DqBiUA/8qw6ei/iKLMIy3UjpXhOs\n",
              "n3qWT85Yole+P9QzL9lusk9i5GdlRluhv/mfCvn/Pm9ojguinQcdAAAARwGeOXRD/wBVhvvpQQIh\n",
              "QhcA7e8ANACMeTf6fReOUQghd5xDPGOkjm0J79lzLBLzSxTGSO0XkxNZ6zMxhSYWLmIbx7Jki/JA\n",
              "AAAAZAGeO2pD/wBVkw6HMMthWr/T2RtuACrnwq9coWUW+3HUvWuTpcSrE3j7iVztrrw25dxqdroa\n",
              "Nv5A5FYsLffdIgQqwGwgKgVWhwx3LqoZVu37Z4yzpriJYHyyI3a6fflVMF/qXkkAAAMyQZogSahB\n",
              "bJlMCCf//rUqgAN75QpeyAHSRwcUOHzKL8XuHzJlIbQGIkFBrfMd39v/9ysTPFKcD4eRM3RIxExV\n",
              "+5bzpt1frTluOrVBKbYyPC4YUx5Qck8lg3xezXKAddI280Lhm9UKVvGjRT8LhDwjd7nO9+jiisGz\n",
              "pQsKuXXcrmdPLsvJv5Y393SOjJBdJsEHXOhoGuQucw/IN602TS8jVwwWa6s4wiRU76c35JzB1KNS\n",
              "tuSg9UGrsuxkw75B2XzOOOYmb6bfw48kgUaoCwadZwnCS2a8k+r9+qSI1TZ/G4DtrzdGI6UfrbyR\n",
              "pKJyvZszMKu4KWPRsLY4zpSoDu1LnVNMsEYj2itf/v5r3RTF/VakD78MBQZxQaXV3YwFVTxLlXk8\n",
              "1QEjFq4y+XZmJCwGQVJYW5CfOk7r46EJAnIpAtF/7G+qewHkaaTv3W/FbgLOW2VHEECrCtXsDA0Y\n",
              "TXQaFn9qDP21M1EiGvQgPcroSj3B7qHCWrRXpE3iPNeY3I0Yz61WOb6Vsxzy39NmLlb7JCU9crkc\n",
              "VoGLt5mEsMgaAzN9mtf6dmVh1eGR4ZyvqX27rk38BAAAUk9ZATEDD80RqJgCkMQekD1ZajKCTuL6\n",
              "AqO9mmPwc1EXPVv83b4avJf+1IMSREukrsZjL4JIMs0ywLT+5GXYVKVvEiiP5AJm+TyPqYVkmfGP\n",
              "M2cHQP5Rl9HuyNJHJ02v08H71lusP/G7s1pVCxywKHiGmg4IshipErvwN2tmKUaQNKx0C5yr7T5V\n",
              "rHR2Ii108Cagb8ymGOh03SbEIXqZfv7YW9P6d3wtDCpI0M6aKU5ZMkLIT97rGPJHdWKZ5yM3BbsU\n",
              "srQ6B6Bp6XFpcx7rybei7n3MphbvwpQ9gWgt2igXg1tjeT1QZTNxDmtHKii7b5Zfa/BxIaWGGdie\n",
              "rUSfaFYM8nqVOuEE+ltsx6CECDBVq0OXcHekRKqk7Z1PmT43FPjr4dybCooABVyRyUtK1skK+G1i\n",
              "cTtdGrDNFtFOUkxE9bab82zAs7Wu/IZCSNqW4489A4iA6O1E33A3LUUaixkKQxbvht2lIiWtBOtH\n",
              "R2NYPxRQ2GG2ng53AzEAAAB1QZ5eRRUsEP8AJo3btILOJlh1F7iPmIZg+yCxAC2abmhDZacZTQ3M\n",
              "gQe/D54SEu8WMW5mw75MDbeRAPRlkHNlP/cuc31Ob+RInBkUOY9QbQrouLFHDqKnsYxPebJ56fiz\n",
              "IarpBHtVvhATmcf97Ey0WfTZfuKDAAAAMwGefXRD/wBVhvvnMJj0AbgYY/rUA54J0AG7DU3sKM7n\n",
              "3s9pdHFg3REZ8z/dj6U3LETuwAAAADQBnn9qQ/8AVZMOhy+1jlAgucPLomQKZl9kEFtI96HUmjdE\n",
              "cHBa63om26NL8aWJT1DtMCohAAADS0GaZEmoQWyZTAgn//61KoADeR86vy0omWAI+ZWb7XJSxWZT\n",
              "WydrM8+PNCmZPtan5lZSCHdv0I9uSBhnByg+FJA/cwLtgul/b7OShRqyDxrpoIzfHs48X7UNXIx0\n",
              "opF376zQ2aBAbcOJ0jDnQogdrgaCF8/yd8o69bBoeMx8WREDuS5n0kQ3llHkeKOsnPgMzwQWG4/9\n",
              "e1+ull983amoo6qG4rHQMpl0L8eBGCMRvBOWvk6yRhTjswbPo2njlaQ7ZKzpyBRqge8YDqC4oR47\n",
              "iVTGlEbvDE3Yb8/9fBHLcmYC/tmi3ealeTwv5YnhqJ3HnG1HeQYX9Z2jLPpruIyIHCCqLbHCT/AM\n",
              "JXFF1URKLkd5df7WT5nFEnXWQbLpG1TuTX/vcYhJore4HruPdnMEZVCLwAAa57Q0YszMKcPW8Ikm\n",
              "PC6uban/O7swg2QT4NtX0v6K1FZAsVR6hjM3Hr5+dg99u7XoVZVYTqCOcUc/KmgOEiFkGCfKLUKA\n",
              "geo3VD3yhcxYtaf8VVof33QTXecXaf6kVK2a8E+eHQm6tz0ONMnHJhXX5omuCjqddyEvcbI5zUdm\n",
              "QiD7ITtd1J3NJCwnTmuSOOcC7Cfu1wl9wJ23hUEa2SfM5ZaIdbfU/R8krHl1vk97i/0ay2Np2W5U\n",
              "U10FNCvQqsh8ilvjxMAS+QUs21NK/dcSklJrigKadg26fKCmLxr5a+ZAEOPb23OjW7mZ4d9eBc/0\n",
              "vluOXcGNQ8WTpnSFXu0k91c0xA1gZb7sVZYKcFZePBJzHfWZEAQpU36QRTmEPnpmKU6l69XCeAUy\n",
              "G3jGoO7IAZfWumBlmlBXYVmg8PiuEiP1FtjK324Juej9ZsPF7NACKpcoUr3xnNJ7m+hQ34TD5kbe\n",
              "BsqpVgxAuh8KyzxBqhRkj2fs6P3fz3Mf43CMa0RihZ6qbindl7JfkiRo5OwEsXD9FULzSmpPvaRD\n",
              "E8j+8oyq1v/t65wNC5153zobwEXbkHbmdRTt9J88Koej8C/1tcJmIkMRdDAZopnbwabZajG/0Ijn\n",
              "A+rZ6dVxVWfv+s1eBwxGWip/UVMcM1FDKl9FJHiNDYPmAda2fPd+W06DqL/J4791nzPL0QkmvNS+\n",
              "oTLx3IBhljCOwAAAAHdBnoJFFSwQ/wAmjdu0gs499N7mVvuuzrrehhC8jVC5g5wAzCAIKrOg6giL\n",
              "44Dw1lK2oc4oEVMcKsUyYmrg/Q/W41UjSpoZd6mESZMJHmOrSe2yjJHCj5ks5fOXlK+q3T4aujGU\n",
              "yE4OZahpGl/M28BuqQ0Nr5LDgQAAAHQBnqF0Q/8AVYb75zAdxUIehV31QV/tn03rEwfzoTs8Kis0\n",
              "kItZRSjXvpfEIAWBiQG2aEefVEdwQJukQGEncqu24baGeuTdf38sRsYj6dHUmrZ0jTZmPeQDoWMv\n",
              "RqHh6DzO76ZYZMzbQHvje/dIV4Y8w30swAAAAEIBnqNqQ/8AVZMOhzEOm3uuyYocvzi319Mig0Mw\n",
              "ABcxSvZzvEykZdPdY2HGemJIC90kUhSMMv7FxqnjD7PgbOWjr5kAAALFQZqmSahBbJlMFEwT//61\n",
              "KoADeTpOg+YzYAKskqqXCSOoW0x2fe2XBIW2XpRByEe3FCJ0VRwzAGQgENVAVgNxU+GqvbgVo8wj\n",
              "cNe7wzZRoOXxY3Qcc6RmWQlGdjMKNzjjUciFugNmRyPcPTGjmlQygnLE13iRpv2Pm6l5hL1kN22J\n",
              "n5JLj1o7ahPL0SiZmvWQVLm7eXPEKvpoEZ4/a/TsHvj2CMwK22Tc1CfmN2CGcEs1/fo3AydCQZFR\n",
              "GiNWZcCW7vHlCj4vUGxOfzIWZ73uYCEvhsk++LMu/HEKTWQqAtWIrZOsQcibl9+IpH+7qE64SSr0\n",
              "xGA9yoS4Wdft3l3OIVja4pYYaCyY6PnVsB8L0jGAePx4s4sBgfa+Q91B1IdnhNfXxD37jN5t6tIO\n",
              "Qg6ZNbx23tXS+N/oOf2XFQKEWl0Lr90QllhvdsBClEf+89NcfwYlrEccLK7rMWztfcSGuSql++3R\n",
              "+zklTd90LNaZdkum7mpPHG1VEB7CoApDMMBi8idRxMsy0F+IeOrKj6nKJwu5YPE80gr4AZbdUEzk\n",
              "waFUAf4wrkIQHERZWZCN+KZ84iLmqrHBd00BqBqn532mxprg5OxZ2PsNUxqG1NQ/1epIJ3+jB/It\n",
              "GopelsViMnj8od2MitHBihUEPzwYepQjY6iYnjbt+/3arRCgNgHZ0RtlhsB5hKCj6x4C80rStBEr\n",
              "ViFXSOPL2FcnZAx/7wQIB/AgcanfPkyDgF3K/wlhyLB5HbwBOoW105O0SvZHdfGxPaAIJbeIcPmA\n",
              "Oeg9sz/0ICDHXwMaZAwtyrT2dnsWgxhvs6IypI4sQOkijwUWELBYCULmQvBykWyPmfbHElX0/8BD\n",
              "mdHEb9PbeZNaT7i1oOuilnYTyWpqQV7xdG04DrTJxOFP/4+vgFhv9qD3ALnS1IfP2k54rJisd0Ut\n",
              "IGkD+GEEs4RWYQAAAC8BnsVqQ/8AVZepQ/QAutzxG4rZttaoVXlORQ5/VnNnTXfAtEi/5AAEMyPs\n",
              "PypuYQAAA75BmspJ4QpSZTAgn//+tSqABvrCXiS4AaiRrHkX3E+rrj462IoYCbJghvlWQz48j+oX\n",
              "toXhKJ1ZzVEKALPZvqRdAsKi1D4JTRVg/0pZ7wUicWpkMJpsRO8LF01kBY3Z3UglsKfXEH7Scjnm\n",
              "RzUeYvqOKVn8qkZ4IaK+3SkY4wSWGc5bTNIdsoZSBVEDDOtdoVfGLu3v5Dx4Jur1fLyhGQp1w5Oz\n",
              "S3tqRNY3yYsKhA1AyVwT5XUteFrYEcJrGbfT4BgfawOFLyNmLbdp8LO9N5We2+4419vLcT/g90sP\n",
              "GdBMOlIHBO+yZopCjLbFi7D8PMFJE4nklWnnyTP9mv2+6FsjIrDd4X3XeHFdiUgjItneQdrwOX5J\n",
              "tXc1NicVnR1Nvh4LBZYouAS/fCusDWXSFzteKsPKf/OhnujsWoD2rxFGEwB/kpOFBMRaplE/vXzg\n",
              "3W+KyJ2aLiAbotkiBURtXo0YqIDohBqO5nshfKKMsZOC3MhlkhwpDVSqqeyz9iGVvrupPJ4SvSPV\n",
              "a9j6zKNgvdX64w7kd/Z33TuoNWxwFH0hm4h0ab1+jzg2aY1BFJlqteUYscgLxwMy8CL1JQVRWZHM\n",
              "ZglYuhfzh13abGRekfWG59LxP0mxRerV1v8goPHdCKysWT+/mXuwk+fAp4kdjLQH/X6hSEgVpZVo\n",
              "2aKEGo4JF1YUUCUvASDBv+MtT42A/SfiWVSzIQoETrffqzbBRpnNZBa8ZEQUCDaquisXeZiWUz6p\n",
              "Fme7hK1M6XIiKkCZR4mwxknPOPmzEbtxPEyE/VL9sH88YOWVSoVH9a5r1TOYbtc2G0XSoUglu7ME\n",
              "q4jqUjZeVxqmUrm4vS3EyvUz8ZxX2J7qaZrjw6o6as6XX8FV6FsJCQ/9eleM1XvUy+dddIltsGSn\n",
              "Vk+ZpoNQ7KQy7aRVKh9mhq7nzgKCGQQeoC4ybbCLU+k1wdKfWL/s4wQ4aFy4CFf/ue5hbV/BETQU\n",
              "14zwcYvdziBmNOZTAtr1IxQ56b1HhV21QMbIRFIn1iHPJtPlQQNFevch/H0O/Ntv/ov0YVYIohQC\n",
              "j5qBxAtSuksjfLjJptmJNm9de0ssmAiqcG7d7qBfn3xq7T4Pr0RL7C6BIvLLFmCbqlNanfaauIiH\n",
              "YOCGwaT110fqgnuYEDtfLOQuR6DqZ9WyjC1QqM+Rad9SMRpw7sLDN+VuS91z3MYef7jXSGU6KJqi\n",
              "wKoMtFnlGhqYAEoMmW2vB7/iOnrrGMViUFknXbeEwYQFVsQJLIskPl4R4k08gPJCc/k4EckxAAAA\n",
              "ZUGe6EU0TBD/ACaMsBhj611TTz0YwtJA5dPCHjcDdt8ZaZB+madnuPEAH/VPXM9wL1X0+cTM8p0J\n",
              "sBSamMNohoUI/aGF2se6bWOQmyP7Ht6onJ7vL7leCmKb4BX/6k+tR4LNzh1qAAAAPwGfB3RD/wBV\n",
              "hvvpQG2165NR6PNcy3TlPgH00Am6mLUzxZYGw/F87d66rQHcne+fenlR4NcAAttfhL6JSFscuAAA\n",
              "AGMBnwlqQ/8AVZMOiT/9PO9i3WdjRQv7esYWFACOyriCjI1dRNQ/Gm6a48s8uQIFqhSL59Iunpy+\n",
              "WPGi25cpg46EBEAcR/H7RHENYUVlk96yHSqKnmn3E4mNgHMkLuxxodk2qp0AAAJHQZsLSahBaJlM\n",
              "CCf//rUqgAb6wyksAGktwr9u5PHRPOpI4Hc+JOahbyojRlBSLh2nw0rSANt/H1P+wQwvbsKrin+m\n",
              "Sl3UBYxAzs3o3eLtLJOyb5q4du9jZOAX/5c5bhj19dZO71+3KIDympQFbwc6yDMZLVJs6mcRLf1V\n",
              "i5ERB+StxcJIebT4Fdx17HapnbzSvdng7rh0Uet/vO2DHewfu7AGWszkTy63ruF8TohzWUSWUr84\n",
              "L00slMrYbSMUC/E+0LNncsB9r7QgwTjBj8XOO9ZbxrVXi+sqPtTQXPlmrw5r6t3tD6ZgFUys2QCF\n",
              "uxSkSlAZLjagr/ku35DepUyA4wmU1uM9toTSRwKQ9b6tCi/qNWPkag6tDs9KDl+dNgwhA1vLL+vU\n",
              "FddnPjpNx9nsre6awVkzMDLPKun6HTiQnwBEoRt0SZCLBhBtKrzpdeeJ8WvMrsZaIUMcP1YBqdeU\n",
              "BljHBH8ubcWd8uS/3VeHJhiXtg2Td4NB6ROkL3cNajbGpGfNaajF/K0TYueD/SYSJu7k3j3Tgb0o\n",
              "ty2dScwhQjyNtq+5MY8cbFe6xbt2jamyHkk1f5DHm4zlUjfPWcwIQNVUvevhD/Q9dHnUfhMGGJQz\n",
              "Qy3wtoAMmBQZvuxKPggbQ7LeAHylL99Mdavn2OyjeWo90Y3+OrFpnxmh+83uoMqq9+otxHrFpT4U\n",
              "BRO/fZw9K7/hskjW0zEPsGDv+6yAt7ZnOrwwXiRNOAM6aGWFQ9ou3Ao/UFYJlUz2X0hYT/HUenl5\n",
              "Nwlm9wAAAtxBmy9J4QpSZTAgn//+tSqABvrCJJLgBKyRzlPvCOSg8u66SVQ43L5UHLbLAopb/kap\n",
              "1/I1+i0Zg4xfcBsAwuSzsCkeyty1qf/sF8CFxWTSmiTnRnG9eJyuEskOQfhId/37XZLtybT8apUT\n",
              "eY8klkmK0lzv91TX3kOhNJs75/SVeKjuwsXY+VXNpo1iRtZ+j9Z4p0tG5EAle6vohKHi2B0NxMdu\n",
              "bEf/c+UymKFzdguZEPH/Qf8RQcwrP1YZ+Nra8CqtwCX1SfYtAQ9yeYVGZdYecei82g5FdVzgQfZh\n",
              "mvgXBNgGsG9gSk56pXMvS6wrr1mSwZ0tMVySEN0SMNScXc5v5WPmcer3rgJA0iDME0jewvUqlKAx\n",
              "pnTQ9kpAI1+l9qBsbsE13Jqc19NU32DS5mmKAmqMyqT6vxUiPTNKMyYR7Iu4VXVEZ2E8orlmTLqr\n",
              "H8gRvQ1ugQ1+fMy/BdGEHjfu+Qw8FrcmKNAnRZ7T7g1fKWwhmMrJIun0UkLCzO/neOXOuTC9j2h3\n",
              "7tXYnZ+rC0p5KmSnaHbCVm8EO+JA7FMw5LioY8FYr7bhfX1Fyx9+A9RFqPRDQ7stnlIFoBsmzo6k\n",
              "X0IWVb928kjCKMMZ5tbAfjZY5ol9fQlFmejpTO+E2fEMYEzmRvfYzANS2zOzKl8oPZ+SpdwyYz5D\n",
              "TXypSgTAA9riOq9RTWtcZPASK3AUXKaaNeMKfvIrswlw9XROsZ3Lplj5BWo6zbwo1kZhup8Rr7O9\n",
              "UOGRzq6P/6fASYH1a8Yk0yb0UgFJ1NAHRTBq3LLh3P6Ka1bzabCQKtYmH5VYzZE78NKm7x/HW3cV\n",
              "2uDeD/UwCtBK/vvJxJmKFR3ZEzBF51Z9uKRplQu+lzxh57NViifdLuijQT4MmHk+veLGWFDauZuf\n",
              "PClHkqexn3oHLAAtpeR8TdAgOLE1DBkfk7peQaPZT/YFIV04+A86O9UXJU6KIlsh62cdCxHst4AA\n",
              "AABjQZ9NRTRMEP8AJoywGGP+8+3NxupGWU8G8VvPwLNaSMOwujO4aGsnACZ/3wGHkcXHNIxdFKB6\n",
              "H4pbXM+5NOH953JRcNZhpVdgHSW30tfqQfuJDybG5SuPtfEAjT1ooRwKjz6/AAAANAGfbHRD/wBV\n",
              "hvvnINr2L5VbhixvBxd/IAFojPlmtLdaNlpth+3x06YRm46oH+v1usJEIMEAAAA3AZ9uakP/AFWT\n",
              "DoaXM2OJqEVXGWGFlppd7o7Z4YAS0+IL345JWHxLVnd+oMzOfBFFx7v4lJPNSwAAA0lBm3NJqEFo\n",
              "mUwIJ//+tSqABvJeNK2fRNQANq8n1vAqI+IMK91O2gWz/8b1YMixGXTa+tt4KAO3+C7oCOdHK6Jw\n",
              "djd+Au3dccm6zXxu5th54CYN/CJShlXdfVlRAEB1AN4sWNHuysJ4MLsiXIeip1txC6KitclG+mhs\n",
              "R6UOrV8AknIq/7hcY8nIKyQWoXLfC1ufceFnqyQcpEPrdrRTxoLNoi0VXns4JkXoQHLrpbS4rsIl\n",
              "tmVXjVOQy1Ox3bV//ROYtBaZICU9akfQNE+K6lr83PgZNXbRIKVp2p3CRuRQqgGofzllJKf2SulJ\n",
              "BFzbrzw4Qj6s9rbVm5bs9Mgi2tG+LjscC+ybJEmsZc0a90GND/mJ1njTM03xXttsFVEjJ2ph/u7o\n",
              "c65tijhaSohUZcgx9QNNY8ZsQSZ/ZzfYSFJ/aMf2Ox8WYoutaflnfbZuq8IJ1ysVkv8Njn7NbRhX\n",
              "cbtoJeibPKIZq1jZt3PegyEFSg0a0RddD+nqFlWRrwVe1fynMiDNvShHawyUaz43WCgdNX1o4GDR\n",
              "ZPWm+wWzI0vcYV9TNNBBQF6dwVxaOjct32UjpFnJrYLUBOHPCtundagJo4KcDq/IbtPREy2iIP5I\n",
              "/VlXYspDawWNfPFNdXvEGH4LCiFpDnHsFjdG4bCl+xyE7l+/X88ZtjmEW6UoTaL5oGLwdKBaNBIS\n",
              "QifHHupIqaO5cH5PU4cv7XuA/H6Ey2UUI/QiRAph95D82UbwUk+ldhmBfMT5pkdYNX+fGdFQVp8K\n",
              "3guYbeKL1qyw3roaDQFH7a6JzgkPeX7FlduNKqbIHnvh4XGCThJEUqgzWtLFua5Y16I1v+80Afid\n",
              "2m3qh8PQK9uSZhaIHPGV6efM2HF3HnRAd9GG+c1gzauSbaqjiOjiWK/PUFGTIyJOJzGDBZ+vbF1Z\n",
              "f3RgWFw9U3d5aAee0fGVMB6JKftziTQmLuna0QkyKERsCdKwtaAU6yYt+nmCN7fSG8tuUEc/DP1H\n",
              "8Zr6ZsFn+4B4N/aWuP8uEJ2hef3/ujETxtPe5WoqwPMBwHedfzlvqQCLt4RESXZyNkyaX5/nTjMB\n",
              "stw57uKAs5clh4BA6Syj0OQOotfDmB8S6N81igZtbG45TpEJAAAAlUGfkUURLBD/ACaN27SrH78i\n",
              "aIAAzox3GmZ6p1tMe6X8gwND2f42VWNyDT03ltJoGfYPjfeTCxAqnMUXi6QjTxFwRufVoMIRlg5o\n",
              "uLwCJtzudJT7w1oUq1d2hQkNpOU+KaW8hhPt5xO0RApk18ZswpIp7+qbxZ5IksAcWC4tmjCtJDRl\n",
              "4R6vn5ukS1g3r4Di627fnz/AAAAAMAGfsHRD/wBVhvvtZIhxZ2koTcvPQAlqtSIjzhdA5FrZGnxB\n",
              "EVUs4/+lxo8m+iaGmQAAACwBn7JqQ/8AVZMOjWJo4hJVaf8lQaHpn0f75gCo81LjSAFF0R37QKyB\n",
              "UsCdcAAAArNBm7VJqEFsmUwUTBT//taMsAHIiZv4aAKAcL+U8+H8gp2cabtQwfi8jF1d8G7Jy0h0\n",
              "Tmcpue92pI5jnE/ZgNFqpYMmgAJ8w+iUIRhfIai1upErtUjmy2wKdp8tyjHC29M1HTB/+h16bLzD\n",
              "vQ4acaczM6LhsYJ/8GjQdQSjocJYcnIPL0ZgsAGCdvWx8pCqeuHb51lhG4kh59HdiMnAikeGt2TG\n",
              "Jh64d4nVvAzQx3daVUQLf7UMq8JCfiM0iIsgvd+Ux0pGEqSD5qsLq1cJ8HgEo+xjUz+0fUYvJXPQ\n",
              "4MMtZ0W8Rebnk8L2g7CL1nmBF6KVr1rKJOhswvsa8JhSlX6gX7O/Di0KqmdJ2RQx/U8G1alFWwrN\n",
              "IBenj3Wi6jwV95T1GW2epOrgpbOYuqUTCYhJID0LXZ4hKGCALJoNstbBT4EQwW+kShAPRIYSALP4\n",
              "XyaePX2CbA8eHeXD7p5BDO1F/0KYbpBeA2DTlD9rJR6WnB5YNwzjL45ojYhrNUK4AE0yatChtgnw\n",
              "6CZoJKTw49y3Mmq3iHfirQHKrfoq0VBns2/r4TWrvYqLMgQI1DteUYg4TbsTtwv8aQ4plxb6/l8t\n",
              "0RvxPkY4tPER1QwxcAACsaHfLlp/eL9knZDvUTT32bc+eaUZKQ0//M0M7YRlVVSOing9XYfr0PwF\n",
              "peiNRfVzKDLOQSRRR0HGNBGZvQiGthLJocVjhBAgWyBpNwaLAjQB5WucruUz4a4ZA+zLw0oudWmA\n",
              "bo1G0KVUvA2vhN4zd1o7355oiMQzkXzDYZ/0se8brQFmHHeBpVoOmpVWE741s2vH1XhZuIkvBCpf\n",
              "BYVA0FsTsaS3CJl0C8PSMdgvBgRG+HrPdLlovu+6vFzgonCGKJBb2zrs3i0H+varnf/ms37S+8uB\n",
              "JQePgoQWkbnB59+iGCSAAAAAKwGf1GpD/wBVl6lDy5NUM4sfvQa3YI8mlGqfUFTLBuivZeVu/1CJ\n",
              "hYMhg9EAAAM2QZvZSeEKUmUwIJ///rUqgAbybtk2fRNQAKdk6LYpsLHLGSixrc7ddG2pt9MRmClj\n",
              "C5vZvHyi3KfucunGtt2FMZud50Lvi23So+Cymqob37OfIl6jXuU2oaaIm/k4EaWXmiuzE7TYe4il\n",
              "fcJyD4SIZ2T3pkf4lzx4CU/oQ+Y9Rj51xMQA4jBBkn/wd6BshnF4I9PQoK4/xEztjqfdoucSXThE\n",
              "Vz2hbWqeG1Yer5n8PHqdfBpjDI6xSP5XJe0WLH320eX3Wm+OyN1ro1on2lH9UVHaVcvi6M57a98v\n",
              "T8iZL8rbt5LhzTBC8LRwst4o6+h0EYkIcBPGFfTVHi99LGDsSbHZsEXZ8aCpmzS3VVqiW8VLbo7d\n",
              "pQVGLefVAHMWxlgXAmCoQEDJ3enjE2IQMFdGLHAF6uU9gmW1wiwBLdIhEaaFl8hIl4wgDYhGM+Hm\n",
              "BqXzNGruSWEePmSF86O3mA569z+FODrRu1U+IBBKSeXQeNsHLQI+fng4yjciWwaJ8XyPW1E3mkMA\n",
              "FOPA5X8Cjz2YY3a4Gd5J70h292gpZgGE78gnGGvv9nN88pFoqq16kvR+NVTbNeMxanNPrV0sQk1J\n",
              "VCu6rtaBWn0VRETngecB3asiWdV/09hrMKSk2Srqt2xg4vOPDddodhyky0GVhrfM8pKuitriXmeR\n",
              "ExrTEufljbDQKxgb+3UEq1iPMqQINzrbLj7coUNHf7OmsnqRbowkLSey8qD/vrw3H6VPBrREy2Ob\n",
              "fXFbSW7rGpb+0RIyOTBLjWx2Tm7P2fFXO5mK3XABHmJZn5PNdCJO7WjSO/Mc4U4qdx70xZRhUFoB\n",
              "Sf8jWP2z3hPGb4GxFzl+aUXjIRjc/RiKR7yecFhYcdCfI7L51IKnct7hXofeh3JMmVjDgVwfwJjs\n",
              "geBCq22WpMUzacgHlyu56xBk1YVBo4ceDibVXZT2gE2uS+VGrJLRP7z93k46qbMHKAb9+B/hVNQ+\n",
              "uXxn4W//dziOvS4zshAUmrqQQbFvFTIZJsZRJlxsHSuwBW1mavW0W1ceX4ovALpUlI/yE3wTC/fX\n",
              "wXGwgARg6cUqQKg/rcpdMBsB7DrLVgTHLInv5TcFk/VwAAAAaEGf90U0TBD/ACaMsBhjRkG6AABp\n",
              "rB3u0pmv049fTF/yRmQ8eOiVNkkAnTcoE9E+B4LRcl1U+o6Y0FB3MhrQ0W1AhQqldVpcw2BxcPV2\n",
              "tr/KkQ2vGwnat+Y1N2v/v7smv5dXaDYU4z5hAAAAOAGeFnRD/wBVhvvoDZXvCFX2KDGq2LsRki/N\n",
              "BcY7IAC6aF56Ug6qfuRz3LZZ7LNuKcR/uRv3sOuRAAAAIgGeGGpD/wBVkw6GjgUkErjv1xG7kc2n\n",
              "IS8fkG7LNNxQlTAAAALCQZocSahBaJlMCCn//taMsAHHQEl3zvQWADcDmsVoV4stRrvW9vjLDzv0\n",
              "xGZv0IeATXD2IREbL96Q+sIlCZsbuNizJ5NNWxdD4jGN/TEN9JJB+BkzP+qrcPu49ef57rTy1tcl\n",
              "GrUd87+Xbqn3GEyrOTIuxJF3zfXa/TqvP9q/3hSNNztudafr4V8JcmuwSP8nUsXoI0NrcNt/OyPH\n",
              "6aTnm6FlVNXAfASeL3XVStw2LiUGuDx/Fl+ZEtJ8mK3LmYhbPUo8lq9nSLaYGkx8Fv2V01jNebD/\n",
              "fsxCcSuliMuiPgYSyUN87bkn5hCFl2sng0gdIoqMfizvsWqdf85UEEmnscuvEoi653v9f9/PZ7z7\n",
              "tVK8E/Mg/WppYAM+mqLOI04q1TXm0nIe4xUAOzZRYMI5z8Ri/8dky4JTA6SxaQMbZIMQvKP2iUW2\n",
              "38+2GOI7m75RBI23mU9FY6vmVOHJxnUNk8m3LWMJRhQww38R6QAai24P7XLOPXLuGJ39nSy/nsiV\n",
              "25Jp/dzeBIoOajOIzlIhooi7Hj7K1f5KAi/XkmMdsg3AcgTQ5Oaks+ptFeNYTYwnC3OOGyTMox2C\n",
              "MECvXo1Qf7LLhgAffT5XlvCqsCKmYWhapT2dH4E3ihd71TUVErOcKjQwOQuYkH3q+h/vNkYLP48N\n",
              "8rLWIQPk0MxrxhbSQ61DU7vk38q+7bJaMKvLe/J8AcMGGklB3Ap4WCANLJdSNf9Og4uvKNq4NBXd\n",
              "HAMg1dGObFszxdHY41H+Dfv2i9lYMjxJpINy809KSGeQCzMpYN6uCH8h4b0/YFueIjGjA30UgSYG\n",
              "3z3EXXf+NfM63mDNYYzKzd6WgInpxBZo2uFq5Zxi9rod+09bYfiRcz8b/R3MwQSVgyB0aBPWnPKh\n",
              "nNWrDbrhtVS+SrzqdojyEAuCt++xU38XRyMiwD1sGD833l5qmQAAADlBnjpFESwQ/wAmjdu0kpxM\n",
              "s8hqX5/nIitzTm6cVwNbzFakBsrf02Duj8xj4ZvlOy46J+W8uhoXN3QAAAAqAZ5bakP/AFWTDoVO\n",
              "4mNxN/j5kr+dwLxIcqIuCCcnnYTj4ASZfrwzv9GJAAADX0GaQEmoQWyZTAgp//7WjLADka5HK4AK\n",
              "QES8MIaKbMRdsatNqRrEwnHVFchMULLpq1//4FyM8ttkTHB7AuX8JskcmMFnBo7baV0eeLmu5GwL\n",
              "L2sZTs1W4Z47wJKZGF5/koPbrq0iLJSCpTRzTiweKt4HLx/Cl/u6UOeumWj7bPs265X0LKC4KnAm\n",
              "CqBZE24QC9h9/25hypsk5VKcFvhgJjdyCLU6rKd1kW9j+LB2Qm8q6pzawuk13HKeLd/QT0+ixWdf\n",
              "jcNkC30l9M3Xmj8CtFMahwEGSxOsFfXH6NFnbIuGK83kwbmqo8P8M8aCNzZdZeCqKwiEvvCuCp07\n",
              "VI3rVM+JTYt5OAVhY54jYHISbTwWkZH58/vVAQjIEmIabZiYvszZ/8vc5/RIYiitXedBGCKmwx+z\n",
              "q0gOeBPnk7Z94o4zC1ZhAadjeiSj+pQYvog0lZ/GadjLJh3ojQO2lWjyx5kmHuGEms3eVtLzR70c\n",
              "TfP8w31VF5In6wHJqajHynCS82FASry5O5d8XSNypsQB1xwEKaEFY1qXNlQLeDuyq24kvXuhB0n2\n",
              "K6u1p8lkhujKGkcb50JWGFh6AYSw7UYZYYd69rbQh1+i4WsMOfqCREGyDj1m4ASN9DKJS0QacxuT\n",
              "Fx3v6nRamwOPhPbPom1oDH9kdJuNIauP2pZnmZSfG9advGHfBVmGNi+BI1KodxaGhRTNRGwKWffw\n",
              "rVtjh2pLYTaD263P4VOB8zF4tgNf26N78lntcx8At4isehhWJoNg32Oom597y6RYpzL0+Gp2lQ0u\n",
              "kbHrd2VLClphGlKXu8sZnvo9SC/U6VEwTB3E/AD6+Tb7HHCS9EqVX0LcD9pqs7G0//EeEwl0utfQ\n",
              "8TG0Tgw8G5Y24TWsDwogYVYGv/Em6G3T30+ZjtBoMT+Qp+uMhvWrZ72ApdGmDwDIRPXYmJHeKPUL\n",
              "4r5EjjA+JI++TswApbenX968BPymc2dqByl3WLnntxi75gagCqM3CMO1ld4eiwF2RpVbGDZEFozy\n",
              "WvIh11vb7VBquFYr5a17csGbq+loLBvK+8RCvHp2Vzm7OPqpWxlFeMwtfTdKT+V8gtkPWNOlkKZ3\n",
              "B551aI2A/fktqqQT4AXu3UwyUh4ordF+3C9UYyxeBckiJc58mrAjacN5AAAAWUGefkUVLBD/ACaN\n",
              "27T7r5XXkDxf+4HAAGmoHUIP6LhOb87gPbnNWisfMrRLerqEDhFD/tg4Ll8qZHZ2Aco2232uduq3\n",
              "RMxjJ7f/a07d3FmpmF4O8Jp25Ib0AAAAOAGenXRD/wBVhvvtZIi8LbsZX58//+8kUkealWQNix0P\n",
              "9nwVP8OCvcihLwrIAgT6mNjIOc9YKbrwAAAAJgGen2pD/wBVkw6NZDez2ATUGeZykf/pYKcADWVH\n",
              "96abagS4z/CfAAADK0GahEmoQWyZTAgn//61KoAN75MSS4AZrJnxOuwy8DEZr4fCNbRt5lIZ4hOw\n",
              "MZaFZfLwZ+zVLsJouK30IT0VNlB9zTO/5ikKxe4jX+AJignAljMRTXBBKAYf86Lbj/GninDNqiqK\n",
              "RU4FUN3filknHYqeKlCevwEG63wuYQ81LoeDY4nACQk7x/9Q1buG1zAtqEPGxP7I4L1p8AO9fKTb\n",
              "PEjZ/uXvTjUPJvTx8zVln5dLrFh8ZkcKYwky7+7S/3CoYLKq64d5GcDAqLTOw9apJdA7KWTXzher\n",
              "SSkNSVXcx2nkZlzT2ZYl5vgoiisRftdr5a13HgLfzb9BMQpGyOYWwTZ+iW/NHm8d3gUeE6VUZNFX\n",
              "y4c0H5IZzga8DknXzTXGPBKEQ1l57u8U+GCPl5SZwG8vnkT3KOBlhlxHSygs+18Z3SVtWs3Eybah\n",
              "gP5tS6YbgyF8IKrGxKgtsO76+FC7b/rg4j6XbVkq8Uwg76D/HLSMGp51ZC2ITMfzoL6CUEeC3g0f\n",
              "f54L0WEHbTmtEDLM+E9qWMVWOo7jyVwuT+qDHNgkJtdp1a/Q8N6h4/p5Vh6rJMvB6o5jPsExl/2T\n",
              "mm8jANd6inc2Wmsq6yBPndqCaH/GlfIMmmPthpb79evd/cBbLudnvXKGcYMkHmbNFHvHq9mF9X/7\n",
              "fF4H3aMYe/fBLiMrsrAm9VqmccVujUXpk/b7/EFEid/7VHQSUqyHk+ykRjeHz7mOJkXAfLiQh3I+\n",
              "3xmQSWuIm9bbg8sWz94kylIlCgFom9zz2fkuMlsEgFQA88v0YjhH04AyJpxarYIsed6dJMUAyxfZ\n",
              "DlApdpCVYjFOAmbaDeege3kDpCcyGkxU9RHq5a4bD14NlcP0xuLm3id4f1rJX6T0/OgV8g0gSSPp\n",
              "rykFh17Bc70PoPs3OhZkdyrbXIJs7yKtsZa44iSh70VrrnSUmfNsq5nNkWI2lZwE62FlcO5npRh2\n",
              "L6vDA3qpBGOBxybNtL+YNgqDzDBSpI4qfE/OOHpBRJ53f1HMTio6VhmEOgb0AGqA0duYcn8HN/UZ\n",
              "Xraa1GJJ98GDTUFo8yQ7ocX8QY18G8UTnHAAAABrQZ6iRRUsEP8AJo3btPyCqeQAHRYCSqjsgJKB\n",
              "CRNGM8Y8BzKhYsafHWL+URRvfNhc3JhmlOK1ouV+gWCTsO2glwlbD+67MyNfVqhLtCfi1w05sem9\n",
              "FfxevsSrptr0UlH0dTHfIYDjjxVrGBEAAAArAZ7BdEP/AFWG++1iaNBkBWny1H+eDGqzhqlt9UGP\n",
              "ESJPgZRVZM09FdrJqAAAACABnsNqQ/8AVZMOjWMxls/tK+6yt2SR6P5+AObkIzkYEQAAA0dBmshJ\n",
              "qEFsmUwIJ//+tSqADeTpBSK6cACfIvD+CheZUj8DqOe30o7z+qOsB7/A0L/Fb/gyP4wOEcFe/Jm8\n",
              "V3FEqD8y5+XMKvirddUB7i+/5TpIdLAU9gi3ZNJ1rybWfqMrdrUnRUtVHFElKz5E+7filMqwoYvt\n",
              "zfc1EGcShibtFc4h/7PAhapYgN+sDtClm2uWBwSVOWUE5LEj4N8Vsbk29Z09x/0gCSsb1EsewRyf\n",
              "jXPcVPXQEkt1URCVHjThjcTLhoUSG4muzkNYbQ3Z7rJUCfGYe69hbT/zWsAEjZAaNVpl+Zvyg1jO\n",
              "sZcYYFNd0qz66YZsg97vBv5AS9AfhL/6tVX106c9fNC6r4apzaE8U1ulOberFlo+ADRs2Rm1Ry4V\n",
              "7lP2LgPB58ycVNs1GcMI2miXdItoCsiYbndVGlk8+nYZEpEf1hI2U1EA1L6hEd8fB/UPXtSZphux\n",
              "izrCVTuaXcrb9jU5esVegB7AUfEAcvmihtQn6CBE0dcJYUYXW5BMEFezO/AiaiYdg5ndZPZACtX0\n",
              "Op8vGByzQwG0y876xzQ5E9o22D61M1JjXZhdSvLcTeq8GwuNPckJtzw6BukbvdcGpFJ3uH1hqhel\n",
              "mAz53ItP4ndU7dz7PQHuFLPbqOwxF+R6wW9QEW8Si7Mo0WqHJ4yNZZROknjS2SCJu8cdwaFIfwUX\n",
              "QQXi6pkvCIkFwRUp2b/Vg+0y7Jt8WjIb9lv5vegaL0ZPWsfWintSp3oOT2kjzBvYnV0q5MSO27ZT\n",
              "QE9LhLFP1k5uqckdd0J8wHzwoHEImscwB65a/enZSBm7Hcq0oukkKjEv4eGD3HU9l4bg+/Yu6P3X\n",
              "BwrONmd2HMBErK8Unsa1/jijRfdJ1xGe5a3Wc/a3UaL7MF/8Fo1i4s/TuX6uFRWED7q69AGTycwr\n",
              "ngJmBvoWXbgaFcmjvToAm8x6mDFLA8jRwYxnASgQffdwE361ZJl0dIbgGvS9ELF/Oilsz067mqfB\n",
              "R0tzTmnfFqIwYIDdJ6v0Etw+gnnGEKu5Pdbfn/31PwayM6wusnJTSiMwHBzdtOrAD/A5Bn75zKgv\n",
              "dHz2P3w7OTt28CxVYV89852WfweylazTV66YpDhYuzy8Rt8JgQAAAIlBnuZFFSwQ/wAmjdu0/IKn\n",
              "7U9bIQFsGyDpOGe6dLGI7n6itCP58TFXjwU+oOpzTrEi3HO7e2m0rpSUj8PiADDvOw++r7dk1xY+\n",
              "CNGj/MsnQ824r1DcW2QdeHVY2Wzl+Jua0JB3gThtanKZqe3fOtABFNHomklMKi0LsjZPXc4HAD1c\n",
              "2ucgKG/N8QAAADMBnwV0Q/8AVYb77WUxekUmC3FSXQDfy2W9HnPBKHo/YHE7hiFeCBgF5+UjYbT5\n",
              "seYXE0EAAACpAZ8HakP/AFWTDo1iZaPhCOD1835oAV6hh6v0tGImYNlP1EX9dXne+p1EZSUC6oGY\n",
              "3Qj/xiT7IUbmTZ8mwv+SutdbbV3ovyLZa2psRT0DnJ563o80LYYXSWcycopZXlc6m9hIkv5BLza0\n",
              "Zec13/Uix+pjyGLabvmcsKPQVdlORhAfD8dXAANA/WSWdLJgTTTx74bm9q9sK3vR2gFP9nBuisxv\n",
              "o3U35dTGEAAAA29BmwxJqEFsmUwIJ//+tSqADe+T0kuACtmiHI9yB6czyiPqDlcV+SzvltEca2tx\n",
              "EMO0+Cvh3YnaoClJY0cjpajFUqRwyd6Ly+xpJaBeeqXh1cSKDwtVodDYciHUHqlPcfoOvFP2qhl2\n",
              "vcTj0ygbAJvo/XK56C3qd6H+qMg9axDRKkaFj23rJfwt+zzXlKSu5mzBGGIiGTEIC1rWX9h/24uG\n",
              "q06S/4LlOSKmQExO2ctn5/DOA5Zu889q/jBB1DAAyqEnuc9lWREyvCfC1Eyrl+0irOZnq8wdGIxN\n",
              "ULxhfhlRzmBvhC+/CvCg5PJ1DayMsEXloRKePb9ZYAaKfxQe9soZyN1IDqT5DqdHHYln1ayriW4S\n",
              "JO/lY+ju4WKNrXPf5EL9vk0v3k0KKG/wxE3AG81tXITSeZYB+9b4FdVOU1GWMiyrgxsR3+AzV9ma\n",
              "WeJ7Pa+dgGYEDM/IcC5X9koJbAKcrA/TY4wapFKryDgHetJLpncfgdVf/QM58On/HPHCaHPQuHGz\n",
              "ZCcWDTMav7xWVjYMtYHVsJX+slLSRUlpWKwikz5ORb5sAuXxT5d6/ATIT2mhAmdIfZDYfhsXK2Sx\n",
              "BL5LRXVv4MFZpgIpgyS00vRtyrpk9At9AddV4s9o5GaGhp7L4K3M762UAIey6Vt1GRrHUnIm+W8q\n",
              "z1eDETi9Ta5L6cMZaW05trsrFWus/T1rNDBQEFcBgESxmFp6HJCHQ3z80+rXPjfhplCpaJzyqbVL\n",
              "C3X4zEEOr2KsZ7fBW3pbleEK7G2R2/CWN4nzcgpYPnj++mrW1rFs5LO22dCkABwA9XJ5iCBvJeFy\n",
              "DqyaN7X+LaNf83Ewiiv0elovcjergQI1wrNBPlo8FuY7H+lpjLu7QdgJ7CbvIHyNkh656MEGRnrJ\n",
              "R94chqve/FPWj8dsUbz3iAg3qoHr6ctvSXEhm98ug7TGKSLBAXNbUA5l3oCHRpdBoRGZS8hvs/8X\n",
              "oeHHgHNYZ78kyDJpsHM0qoeUMgSULwj4uALEPzrmQWRAOefL2kL4P5nnDs7FO5MKKNWmz9LchZ5u\n",
              "tEWOyk9NkSC6+GVemTEQbKyV0OX/1qxTbmn8iJONJO8ZP2ENwu+4zbxdEbBMJdk56ydRDrcf3g5m\n",
              "pKteOXA6uXFGFjhYX61XdiaQl0DLP/J/1pBK1GZUQ2J9O1gAAABeQZ8qRRUsEP8AJo3btPyCp/I5\n",
              "tI3CxgAFVdkT31SAyMLB3T3UdV2UV2D3/2eJ8qvhzoNOrkFteLcKTnQB2/lmrWjBfZMh7CwUzefn\n",
              "SrMnv0scwx/hhDrGAY5jNKGoIQAAAFcBn0l0Q/8AVYb77WUv9oWRiACm2AG4aVaY3+kMTJkqcCq7\n",
              "hvqGcEmA33sXviX+pydHLgNzm8ctXBsERhwyNt4XEld7dkqCxOjgK9z/9C63mJS3pR+O64AAAABc\n",
              "AZ9LakP/AFWTDo1ECMqknobRyRFniMzOUsJR1FcZ0+M2KdtpsUhxlgBbYz3GeRDeW2eyXa5kamIJ\n",
              "kx1kL5RP/NauX2zHU4umtlmlQz5OGJXCPuvWIK9oGlTUmOAAAAH1QZtOSahBbJlMFEwT//61KoAN\n",
              "7dR20cAEOrQPEQzO/ykWV1owRCgNV39vOgAqxXJ+OPL8gLshGit4d/PsoHyezWX17/lV1eUiCCMP\n",
              "PRsJK0nUwxNlTZb67jC8AEWOjuxcKn6Y2FJTLikUoyUNltQ/B6pMX8JxItcbcsSa6pxmJ+S3BJ11\n",
              "mH9mQi0DLZvKxH5vQr/kY4m+9dS99fKEHWJEkjOuLjPad6buZtlnyu0/ob0i/ITrH+Ovt+d0hmCe\n",
              "7XfunH98lQTy9+PAToTVwl4D2mHTfSDnOFHMHbGX8QmNnSJpRM09RJvvgrGEc4Skfs3coWuhoOyq\n",
              "iK4CRNUr0cTdqKEisA/WXi2oDFDgDQ3rSIOrpvo38jYw/Y0rYHVvc39uAyYzOgARxR7rP45kagrZ\n",
              "hX8ejy1reGhN6b7rDdqrqfopZONHJ2gfdo64FvMd1EWf0eDHKaNNJiO9XYHt71OXb0sQ6tnXrWko\n",
              "ngEwPf4j0HEdIGKfHfkteFAzdvKLRNcqhI6ouq2Mtv7no3tu0BT2FgOCeeJ9JLv10tTBTRBSgM7j\n",
              "SEx8aHU77BUCIzJo/HhFatDNbS3zOVTWLhuglfzgcI0L8qjh8b1PI60qTisO6zgEIXvGu/zhRvEQ\n",
              "kr1TF77gsmmIzMeOOCu3tJL5WPv2BawKZcLBAAAAXwGfbWpD/wBVl6lFgMxlO/wunj+H+FLsi5kS\n",
              "jlcEpoPDVYjiqh2RszXJoAXONrOcnDcMA0FF1o57pcJg0lu1IUd2C1dLV1M9Seyh/i/xHSdgRquW\n",
              "SMU2fBGFaAgvsbGxAAAC9kGbcknhClJlMCCf//61KoAhGYm/wjqABSHFA+8NuPLlsS0LAbQNHznV\n",
              "3aP+kWnm3aFmpg9KXzXoDYuwlaefh3U4l95Z6sRffb8bwcaNmw/fqIa1RdKB2Rz/SMgeJxPmCiJd\n",
              "6/vrNLb5FRBOIbV1W+jKP/zXO/KFt+wHVWgtYHwpmb83jseA3acnmC2iiuEF0xSLb199LFA5x8nY\n",
              "AZ9ffQtkhjvEy6YzWZ31mgVI2GttM64uTmUUHfSXVIrawaqm70kZXH0F47p671JcKluXtSEl+rNZ\n",
              "xb3fnCDxk1sr18wzQryRZy70kL8SG7/5hm5CrvKvaQWEECRjMtIkhP8EBEmkZnDHS70I+zn9WBw7\n",
              "DiD20Ognlg/6gf9a+Xeu2urbtaa8x96N3u0APXt1Beh9Ixv7N+n7paSkZG0hVKT3U18/VBIiQa9K\n",
              "clz8iwp9W3fsKRgIplWWOV6VtHo5cErLVnCJf86qoGWASyZ8Q71UXnPGTKVJv2FM0WF0BlC99sm2\n",
              "LVuM/yDJSZYqxKbtfeUajai7T7UUlBDzNTQsIrbSz1PLoGBt9sJOtFGHvtyVUabL8bfSPbQ9WiV6\n",
              "2ITqIt3XZoavpeMAdJbQnah9Kzift42F4M4MaAvhPb31yFZr3KS2xnfeOabhRhXao9LrlrQgveml\n",
              "yl5e8yogmVGOZey527cZHbMZLdHAi3HpzWailVMQttTVyDij1aSRb2I1AtK11pQhD3iQ34K0pWqP\n",
              "01NJoZt5QmIUXE5dcFAqDm4cS/jF/6sawZ9tXy9+mEWg0hdI03B7GhuIGJwHJMHvLwHBcIpkl/rO\n",
              "hXSwH6MN4IBxLVuKM9hKNrJNNb5N6+PyYoTIqwdo68cUYv9M8iw88uFV3ZnI1C2atYy1jWTxcrWw\n",
              "5giKUMdvGa+0tBzR7uQ9fwF25+AjF1TWMt9C7FyCrXJ3jhJe1RbTHOlTcWHdBpK2ZdUVxgHxabwc\n",
              "vOCokvi3izkR4WHE8gWmqeCfn5a54C5r5hU+WFgn6VGpAAAANUGfkEU0TBD/ACaMsByfZS/mjrt5\n",
              "YUh+loaYAAQN73lB0SZ4GRq+HjEYV6HaKXK0XApdZ6LAAAAAZQGfr3RD/wBVhvvtXeyUKYkVDn0U\n",
              "cB5HimzKVlUWM/IHYH6AdyuPCtWnGRVEjekUL9UABYQdyrDPM955wvZzqJSKptZKsTlSP5mcWrRD\n",
              "kG1xVySfMBdYvVMwDGn6r8f5ZjaARBpwAAAAXgGfsWpD/wBVkw7GMo0CLMfwGzdYvfqrM15b2uz3\n",
              "sQaI7pWJo6n/liyfOfinkKuYcc7W01r8xDaG9/aaujaUOg9PVLwntP1weAErceSIlTLCDI2+zndg\n",
              "khTZo5+FaYEAAAJCQZu1SahBaJlMCCf//rUqgCESc9a8ABUxPpWLiiyV1zszCGmC9wCuRsBTBsI8\n",
              "P324fxEULXPgFTy5Gm0SKk2PoomJ12H0VWiQwkQO0CPPZ4Ch2Mc+JGB/RZ+K6/r9PFwWJVoa2gHu\n",
              "GO3OdnvgrhaAa6rjQHfNDc0e8+ln7tPl8nqJTWV8uItNacaFNXTLi6v/9JXw4RQ1qOwKaHPI+kIm\n",
              "FZ0Nvup3+hRrPxSS8WHIIyr0Wv/1CFaSbG9FAR+2nui4c9i3FGxL7CcMqVki534dzC8kOtagkfN8\n",
              "rB0mAzjrgtHAYraYTSIQXR4A4+xEx4PzMnZFFNxYOyuItvS7CTegdaldIeauBEsxp9slPTgT4w2G\n",
              "KiL7vWW35Lp9PS8XUzlOBs5atLuhef6amx62KU9K7zPe615Xc36Ym10qWaG9luK6n2ev/uR1yZwL\n",
              "ACbBGZF2BHZDvrAb9Q6Mt7qiVMVI5VcsGouNONYmCNeh7ne2ID2zY18pJ55T0dWedjuVoBL0Ps/Z\n",
              "ukv6glETcp3Hvqm07bi3OnHdFd+y+fZICARg8iFBXYBhlm7/7W1lEXGWdCVz/15kqLdrjgswbi36\n",
              "8FFAnkh+7AVY5gR5IACYr78UUIVrNh2x0+1vwqgFzHI7OcBWaUPJENCcExS5vdfmnkeISxXqHyLq\n",
              "PyHcm4uVho4bezt28q4K+awUGxN/eVmR2Sbk0kpArOmvqCt9T43tbIi93lNQ1geQNx1xL0CjlYjK\n",
              "POToqumL425peVcAyvOX/nWbmYAAAABBQZ/TRREsEP8AJo3bubQ0v7rglx1qWDd2+4GOSI5sq4/3\n",
              "Q84N/KR7zd5Wy2PYBEVyQmFBWqgJMCmx92kGwDBeuoAAAAA1AZ/0akP/AFWTDsWGgptA83VvNVBM\n",
              "dPJQxT/ZAr5twQgI+zY3aNR8MyzhOXNoVQVgufYD9n0AAAIQQZv5SahBbJlMCCf//rUqgCESa8Xc\n",
              "tS+U26lmSLHJLq1gYRJZIJgFeLi0ktYVUide42IVRMMxhna/ry223d/RScaQr3OLqSPD0UY6ZaFx\n",
              "vOOWMJmB4FtjHF5soLMhCsErFni1RV+Xl9UsvJ5Ib5aIgEYOUN6saSAdlxsMOkJf5gydIK8brCTn\n",
              "zMbYVydqBQaRgOCL+ayr8LWJFuFzq6nmCdr3ks0yCDJM4V59f3FktXiDTzFzxNhR2HQjVmd6Zl5n\n",
              "v6c9NMUnjVunE/87015m6rNLJYgUgh+Cv+4+9rhjZfcOFHc14ErDqRbc636KT6wcw5BWs9TKCr4L\n",
              "+oYxi+Am99fJXxm/Gn2XLgxkOCchEOpeQhPxYcWyQ9KzyIZf7/p1XrMudB0DLMKYOcwpSIBymTJs\n",
              "6YMAnnxK+ckj/9HfBh+tsbcAMTCxiSugKYk2YsjZUW7+RqEvGyIsWeCM7G9nz5194AriYbLCq3J9\n",
              "qycenf3dKqCor0C+rRRWGhEybD3eF1TATurbA4sCrKEnknkjN87rfmpynRXTvnQ3a+vkBgRW6JU9\n",
              "imnyrNPA7wDM0NEN8VYXHqtwQN/bGnkgu0pJ6Ao4+WDyZXQ01RZ49LMJZgvbBTn7/SMtHV/9YZjF\n",
              "YauWiLh2h0Km8AFJhtC5eSzFavt0lV0jMENqKpSsxAW6BOgEa1xzSaHqBq3LIY5o3yDuAAAASkGe\n",
              "F0UVLBD/ACaN27m4CRyJd3XHBO1JGsAO/FeBHRM+XJR41zbr9ADYDnxQzyX0N/wT5MtkeQSRz63w\n",
              "RszvbOwbidn3/Ha9Txv5AAAAfwGeNnRD/wBVhvwl1kxKrZkUgU+CLMMCg01DAnunrKYs7BUAAsiq\n",
              "Ovw8hoxY45T2VAiy7hgCvHr/aFu/XMnAx5bTZzbE/sQkHw7EXdFYkE2jdJUbj3cng5LbdnquOt4f\n",
              "qpCLo47g02OF+2Xc76P+Tm6yJZhcJPps6PCzTJH4H+EAAAAoAZ44akP/AFWTDo0j1GGIO5bjvMzc\n",
              "f2JAzw8zo5syPL5fRam9BTbU9wAAAeNBmj1JqEFsmUwIJ//+tSqAILCUFT5bNoP+KsaSuFABuFjr\n",
              "Rb5GM73DpkqTP3i+0cXm2qCHckVod8LgzoGDLSxnSnrdsvIhqHNs5fUBpmOj1yci/2ya5YQyBNdM\n",
              "6FXZ/i7YhZ9/H5ES3g7q1D4sIuQCt5Cuax8r7/p0HvnbpCVuBaWrgBGmIwtdaXEomaTUv3NJJvEm\n",
              "8EHZ7C2doYmudHtUebF501tXBCzA+VMz+Mk1VztaL9KjbBikCgnLi6N4xFhfc2uuf7GeyJP5wTFT\n",
              "Si8YYCJqhkjQdb8Ica4Rl/78Fk7wMK/2SRdvJxMfCrwn7QpTS5shJXmA5hboFz5CiyB1Rx23NjeM\n",
              "Y/W0iM6aSHSX6LU/6vZfNeRZAQ73PyFvubQ2L98IrVtrltGPg3WLTQHNKEbYtCApqUetHYbxCzbp\n",
              "rESZLlY6zzbukZPV5FV740x2qIkRRnF62eIelUkmcmN4bX4ggNB3WRLiaZzhB/3M2q4aJOGV3KVe\n",
              "QA390Yd4k6q0kcNqsHXP6mmqlsgU3x1lqaFXc3FffVr8SQAIxtZEGT5sikqpVADNF/3BWodGOhF0\n",
              "5FtRlONIjbm85rNL8SROHEGgDTyF9lDhCo///rY9kU1ibAt6LVulYvearjg9ob1dKnEAAABZQZ5b\n",
              "RRUsEP8AJo3bubQvdfTFE0yv61BJ0/ldm2we1WihDD9/95uATM37+Ing1FUkqg8F32dG5jSHR8ud\n",
              "DlPRrsBnv4jnpXJ1iAYZ2kFpCVeBw0I/+2DCGFgAAABOAZ56dEP/AFWG/CXWTEqtmL0VGuCsozx1\n",
              "VlLIJcyYAAujXuydmZEc2MX571m+KSz8tP1hukyE2IARoojWqKbx/3fpeYBJY4YmdCrMO9UxAAAA\n",
              "KwGefGpD/wBVkw6NI9SBEbP9nubdjKJq+dSYCxQkQPQPOPeUUyYzHr+kV2EAAAFnQZphSahBbJlM\n",
              "CCP//rUqgCCx02B7RgBEB/5Pe/nrfnwUwBGRtx9fkL086rRsAksfaiJir9wum8Nt6yNHhb404MnU\n",
              "QJIZfE+ToAQJ/xHdQGlPpQs2E1JfF3/Gb4S4UsESEZ6S77yUQV+4MwsbcEssEywibq+Wll4RbSP1\n",
              "pMiG1cv7VZovrVgKY5NR7NtItutK0bTPoEmpFs0f8hLTwSXzBXVHkxIJr3CD0SvlSJHITXiuGsVP\n",
              "Dz/ccj1DOfsXAw6DWA20IQd8m1h57lTZeYucOtIftChjFTtEE+2DT8VBcssry2wvJShiSwp6wtxJ\n",
              "hPgW02+R06eIdvtMqBAz0LqIIHuPWbIbanr0PkJZ8ThN3lMtdXEJx7aAIVF3DySmteGX12sDD4Pz\n",
              "H2boPDiDJnrxcBh6CH4A0p8egFpn/IdaWG0ERleeorPXJWt3/PYzgxxWPeinsR1cxE44p2UEBPXs\n",
              "25ovJyCSkMAAAABCQZ6fRRUsEP8AJo3bubnyEycvA5YxaVOcmoK3+xAR1b/wY+qP9nvvjfuiE4A7\n",
              "ZTrmBJd9/AC9m9lF4OLbopM6ZSxgAAAAMQGevnRD/wBVhvwl1kK5VsyKOsUBUN+8CHFEWJu+Ng1j\n",
              "1WxbPosKTePUh1YqJvCYKGEAAAA2AZ6gakP/AFWTDo0j1Qx2xvv1yEls8RV7KJTfibIkDSoHivJl\n",
              "KwCnf3RKzr7qptyqHZK0OvwcAAAAr0Gao0moQWyZTBRMP//+qZYA+cGFUfACRr2SZ+lqiKsTrp3A\n",
              "UWpSxz+h8M4kViafA3ulfvieeVFOTmJzlmOM+rxnz73eWPwcrbqnosnOYR1vBIsLJOgi7930KQoK\n",
              "R2ZHlzAaXYF+JhUUyGdYaSqBpuVxCh3nZobNWgaH2DaJNpMUlOfPGR1UJ77MNw/nxh+8T0a6zxpj\n",
              "pEGjuQkFo+J6+7vjb3Kv6fBR+kNyCb2UGE8AAAAyAZ7CakP/AFWXqUVxAp+ue74Hcz7xGIdtxDBj\n",
              "8A2mDFNympX/6TyjSXN88ySp+fAtD4AAAAe+bW9vdgAAAGxtdmhkAAAAAAAAAAAAAAAAAAAD6AAA\n",
              "TiAAAQAAAQAAAAAAAAAAAAAAAAEAAAAAAAAAAAAAAAAAAAABAAAAAAAAAAAAAAAAAABAAAAAAAAA\n",
              "AAAAAAAAAAAAAAAAAAAAAAAAAAAAAAAAAgAABuh0cmFrAAAAXHRraGQAAAADAAAAAAAAAAAAAAAB\n",
              "AAAAAAAATiAAAAAAAAAAAAAAAAAAAAAAAAEAAAAAAAAAAAAAAAAAAAABAAAAAAAAAAAAAAAAAABA\n",
              "AAAAAbAAAAEgAAAAAAAkZWR0cwAAABxlbHN0AAAAAAAAAAEAAE4gAAAQAAABAAAAAAZgbWRpYQAA\n",
              "ACBtZGhkAAAAAAAAAAAAAAAAAAAoAAADIABVxAAAAAAALWhkbHIAAAAAAAAAAHZpZGUAAAAAAAAA\n",
              "AAAAAABWaWRlb0hhbmRsZXIAAAAGC21pbmYAAAAUdm1oZAAAAAEAAAAAAAAAAAAAACRkaW5mAAAA\n",
              "HGRyZWYAAAAAAAAAAQAAAAx1cmwgAAAAAQAABctzdGJsAAAAs3N0c2QAAAAAAAAAAQAAAKNhdmMx\n",
              "AAAAAAAAAAEAAAAAAAAAAAAAAAAAAAAAAbABIABIAAAASAAAAAAAAAABAAAAAAAAAAAAAAAAAAAA\n",
              "AAAAAAAAAAAAAAAAAAAAAAAAGP//AAAAMWF2Y0MBZAAV/+EAGGdkABWs2UGwloQAAAMABAAAAwAo\n",
              "PFi2WAEABmjr48siwAAAABx1dWlka2hA8l8kT8W6OaUbzwMj8wAAAAAAAAAYc3R0cwAAAAAAAAAB\n",
              "AAAAZAAACAAAAAAUc3RzcwAAAAAAAAABAAAAAQAAAxBjdHRzAAAAAAAAAGAAAAABAAAQAAAAAAEA\n",
              "ABgAAAAAAQAACAAAAAABAAAQAAAAAAEAABgAAAAAAQAACAAAAAABAAAYAAAAAAEAAAgAAAAAAQAA\n",
              "EAAAAAABAAAgAAAAAAIAAAgAAAAAAQAAGAAAAAABAAAIAAAAAAEAACAAAAAAAgAACAAAAAABAAAo\n",
              "AAAAAAEAABAAAAAAAQAAAAAAAAABAAAIAAAAAAEAACgAAAAAAQAAEAAAAAABAAAAAAAAAAEAAAgA\n",
              "AAAAAQAAKAAAAAABAAAQAAAAAAEAAAAAAAAAAQAACAAAAAABAAAoAAAAAAEAABAAAAAAAQAAAAAA\n",
              "AAABAAAIAAAAAAEAACgAAAAAAQAAEAAAAAABAAAAAAAAAAEAAAgAAAAAAQAAGAAAAAABAAAIAAAA\n",
              "AAEAACgAAAAAAQAAEAAAAAABAAAAAAAAAAEAAAgAAAAAAQAAEAAAAAABAAAoAAAAAAEAABAAAAAA\n",
              "AQAAAAAAAAABAAAIAAAAAAEAACgAAAAAAQAAEAAAAAABAAAAAAAAAAEAAAgAAAAAAQAAGAAAAAAB\n",
              "AAAIAAAAAAEAACgAAAAAAQAAEAAAAAABAAAAAAAAAAEAAAgAAAAAAQAAIAAAAAACAAAIAAAAAAEA\n",
              "ACgAAAAAAQAAEAAAAAABAAAAAAAAAAEAAAgAAAAAAQAAKAAAAAABAAAQAAAAAAEAAAAAAAAAAQAA\n",
              "CAAAAAABAAAoAAAAAAEAABAAAAAAAQAAAAAAAAABAAAIAAAAAAEAACgAAAAAAQAAEAAAAAABAAAA\n",
              "AAAAAAEAAAgAAAAAAQAAGAAAAAABAAAIAAAAAAEAACgAAAAAAQAAEAAAAAABAAAAAAAAAAEAAAgA\n",
              "AAAAAQAAIAAAAAACAAAIAAAAAAEAACgAAAAAAQAAEAAAAAABAAAAAAAAAAEAAAgAAAAAAQAAKAAA\n",
              "AAABAAAQAAAAAAEAAAAAAAAAAQAACAAAAAABAAAoAAAAAAEAABAAAAAAAQAAAAAAAAABAAAIAAAA\n",
              "AAEAABgAAAAAAQAACAAAAAAcc3RzYwAAAAAAAAABAAAAAQAAAGQAAAABAAABpHN0c3oAAAAAAAAA\n",
              "AAAAAGQAABWDAAAGDAAAAWYAAALtAAAEFAAAAJYAAANEAAAAcwAAAnEAAAPoAAAAlQAAAIEAAALl\n",
              "AAAAiQAABC4AAAB0AAAAcwAAA5AAAACkAAAAPQAAADUAAAOEAAAAkAAAADsAAABMAAAD4gAAAI0A\n",
              "AABLAAAAaAAAAzYAAAB5AAAANwAAADgAAANPAAAAewAAAHgAAABGAAACyQAAADMAAAPCAAAAaQAA\n",
              "AEMAAABnAAACSwAAAuAAAABnAAAAOAAAADsAAANNAAAAmQAAADQAAAAwAAACtwAAAC8AAAM6AAAA\n",
              "bAAAADwAAAAmAAACxgAAAD0AAAAuAAADYwAAAF0AAAA8AAAAKgAAAy8AAABvAAAALwAAACQAAANL\n",
              "AAAAjQAAADcAAACtAAADcwAAAGIAAABbAAAAYAAAAfkAAABjAAAC+gAAADkAAABpAAAAYgAAAkYA\n",
              "AABFAAAAOQAAAhQAAABOAAAAgwAAACwAAAHnAAAAXQAAAFIAAAAvAAABawAAAEYAAAA1AAAAOgAA\n",
              "ALMAAAA2AAAAFHN0Y28AAAAAAAAAAQAAACwAAABidWR0YQAAAFptZXRhAAAAAAAAACFoZGxyAAAA\n",
              "AAAAAABtZGlyYXBwbAAAAAAAAAAAAAAAAC1pbHN0AAAAJal0b28AAAAdZGF0YQAAAAEAAAAATGF2\n",
              "ZjU3LjgzLjEwMA==\n",
              "\">\n",
              "  Your browser does not support the video tag.\n",
              "</video>"
            ],
            "text/plain": [
              "<IPython.core.display.HTML object>"
            ]
          },
          "metadata": {
            "tags": []
          },
          "execution_count": 155
        }
      ]
    }
  ]
}