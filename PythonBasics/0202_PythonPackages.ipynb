{
  "nbformat": 4,
  "nbformat_minor": 0,
  "metadata": {
    "colab": {
      "name": "0202_PythonPackages.ipynb",
      "version": "0.3.2",
      "provenance": []
    },
    "kernelspec": {
      "name": "python3",
      "display_name": "Python 3"
    }
  },
  "cells": [
    {
      "metadata": {
        "id": "leZGJ1z_KcOT",
        "colab_type": "text"
      },
      "cell_type": "markdown",
      "source": [
        "# Packages"
      ]
    },
    {
      "metadata": {
        "id": "rGtDCIPCKT8-",
        "colab_type": "code",
        "colab": {
          "base_uri": "https://localhost:8080/",
          "height": 68
        },
        "outputId": "bf20c1a2-3c54-4af2-c22f-b1fa4eba313b"
      },
      "cell_type": "code",
      "source": [
        "import math\n",
        "print(math.sqrt(81))\n",
        "print(math.pow(2,3))\n",
        "print(math.factorial(5))"
      ],
      "execution_count": 2,
      "outputs": [
        {
          "output_type": "stream",
          "text": [
            "9.0\n",
            "8.0\n",
            "120\n"
          ],
          "name": "stdout"
        }
      ]
    },
    {
      "metadata": {
        "id": "_1Kn136UKe9u",
        "colab_type": "code",
        "colab": {
          "base_uri": "https://localhost:8080/",
          "height": 34
        },
        "outputId": "a227b1df-6da6-4e8a-9ee7-07035d56fb83"
      },
      "cell_type": "code",
      "source": [
        "import math as m\n",
        "print(m.factorial(10))"
      ],
      "execution_count": 3,
      "outputs": [
        {
          "output_type": "stream",
          "text": [
            "3628800\n"
          ],
          "name": "stdout"
        }
      ]
    },
    {
      "metadata": {
        "id": "_9y2o-EAPx4k",
        "colab_type": "code",
        "colab": {
          "base_uri": "https://localhost:8080/",
          "height": 51
        },
        "outputId": "99a60966-8b23-44c6-bf30-0a56ef5ac7fd"
      },
      "cell_type": "code",
      "source": [
        "from math import factorial\n",
        "import time\n",
        "list1=list(range(5))\n",
        "fact=1\n",
        "tic1=time.time()\n",
        "for i in list1:\n",
        "  for j in range(1,i):\n",
        "    fact*=j\n",
        "toc1=time.time()\n",
        "print(\"elapsed time using user-defined function: \",toc1-tic1)\n",
        "tic2=time.time()\n",
        "for i in list1:\n",
        "  for j in range(1,i):\n",
        "    factorial(j)\n",
        "toc2=time.time()\n",
        "print(\"elapsed time using built-in function: \",toc2-tic2)"
      ],
      "execution_count": 5,
      "outputs": [
        {
          "output_type": "stream",
          "text": [
            "elapsed time using user-defined function:  4.935264587402344e-05\n",
            "elapsed time using built-in function:  4.887580871582031e-05\n"
          ],
          "name": "stdout"
        }
      ]
    },
    {
      "metadata": {
        "id": "0F3exd4vSltq",
        "colab_type": "text"
      },
      "cell_type": "markdown",
      "source": [
        "https://docs.python.org/3/library/math.html"
      ]
    },
    {
      "metadata": {
        "id": "4i_TnFC_SkGD",
        "colab_type": "code",
        "colab": {}
      },
      "cell_type": "code",
      "source": [
        "!echo 'def hello():' > my_first_module.py\n",
        "!echo '    print(\"hello\")' >> my_first_module.py"
      ],
      "execution_count": 0,
      "outputs": []
    },
    {
      "metadata": {
        "id": "s62-PNSBTUAR",
        "colab_type": "code",
        "colab": {
          "base_uri": "https://localhost:8080/",
          "height": 51
        },
        "outputId": "3274fcf5-5ac6-4b13-8ce6-5119264c17e3"
      },
      "cell_type": "code",
      "source": [
        "!cat my_first_module.py"
      ],
      "execution_count": 10,
      "outputs": [
        {
          "output_type": "stream",
          "text": [
            "def hello():\n",
            "    print(\"hello\")\n"
          ],
          "name": "stdout"
        }
      ]
    },
    {
      "metadata": {
        "id": "WwNHTj9TTYG-",
        "colab_type": "code",
        "colab": {
          "base_uri": "https://localhost:8080/",
          "height": 34
        },
        "outputId": "c37d309a-73ac-4de8-b337-4e34e1d4e7db"
      },
      "cell_type": "code",
      "source": [
        "from my_first_module import hello\n",
        "hello()"
      ],
      "execution_count": 11,
      "outputs": [
        {
          "output_type": "stream",
          "text": [
            "hello\n"
          ],
          "name": "stdout"
        }
      ]
    }
  ]
}