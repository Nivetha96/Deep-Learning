{
  "nbformat": 4,
  "nbformat_minor": 0,
  "metadata": {
    "colab": {
      "name": "PadhAI-Python Basics Part-1.ipynb",
      "provenance": []
    },
    "kernelspec": {
      "name": "python3",
      "display_name": "Python 3"
    }
  },
  "cells": [
    {
      "cell_type": "markdown",
      "metadata": {
        "id": "djGJRd4siju3",
        "colab_type": "text"
      },
      "source": [
        "## Shell commands"
      ]
    },
    {
      "cell_type": "code",
      "metadata": {
        "id": "5CyxNxvPiQ1m",
        "colab_type": "code",
        "outputId": "30a0b117-7360-4147-e1ed-0e5d8cbd897c",
        "colab": {
          "base_uri": "https://localhost:8080/",
          "height": 35
        }
      },
      "source": [
        "!ls"
      ],
      "execution_count": 1,
      "outputs": [
        {
          "output_type": "stream",
          "text": [
            "sample_data\n"
          ],
          "name": "stdout"
        }
      ]
    },
    {
      "cell_type": "code",
      "metadata": {
        "id": "bGqdV3v2iimI",
        "colab_type": "code",
        "outputId": "c581723e-b980-466e-f839-4a79bc505707",
        "colab": {
          "base_uri": "https://localhost:8080/",
          "height": 973
        }
      },
      "source": [
        "!cat /proc/cpuinfo"
      ],
      "execution_count": 2,
      "outputs": [
        {
          "output_type": "stream",
          "text": [
            "processor\t: 0\n",
            "vendor_id\t: GenuineIntel\n",
            "cpu family\t: 6\n",
            "model\t\t: 63\n",
            "model name\t: Intel(R) Xeon(R) CPU @ 2.30GHz\n",
            "stepping\t: 0\n",
            "microcode\t: 0x1\n",
            "cpu MHz\t\t: 2300.000\n",
            "cache size\t: 46080 KB\n",
            "physical id\t: 0\n",
            "siblings\t: 2\n",
            "core id\t\t: 0\n",
            "cpu cores\t: 1\n",
            "apicid\t\t: 0\n",
            "initial apicid\t: 0\n",
            "fpu\t\t: yes\n",
            "fpu_exception\t: yes\n",
            "cpuid level\t: 13\n",
            "wp\t\t: yes\n",
            "flags\t\t: fpu vme de pse tsc msr pae mce cx8 apic sep mtrr pge mca cmov pat pse36 clflush mmx fxsr sse sse2 ss ht syscall nx pdpe1gb rdtscp lm constant_tsc rep_good nopl xtopology nonstop_tsc cpuid tsc_known_freq pni pclmulqdq ssse3 fma cx16 pcid sse4_1 sse4_2 x2apic movbe popcnt aes xsave avx f16c rdrand hypervisor lahf_lm abm invpcid_single ssbd ibrs ibpb stibp fsgsbase tsc_adjust bmi1 avx2 smep bmi2 erms invpcid xsaveopt arat md_clear arch_capabilities\n",
            "bugs\t\t: cpu_meltdown spectre_v1 spectre_v2 spec_store_bypass l1tf mds swapgs itlb_multihit\n",
            "bogomips\t: 4600.00\n",
            "clflush size\t: 64\n",
            "cache_alignment\t: 64\n",
            "address sizes\t: 46 bits physical, 48 bits virtual\n",
            "power management:\n",
            "\n",
            "processor\t: 1\n",
            "vendor_id\t: GenuineIntel\n",
            "cpu family\t: 6\n",
            "model\t\t: 63\n",
            "model name\t: Intel(R) Xeon(R) CPU @ 2.30GHz\n",
            "stepping\t: 0\n",
            "microcode\t: 0x1\n",
            "cpu MHz\t\t: 2300.000\n",
            "cache size\t: 46080 KB\n",
            "physical id\t: 0\n",
            "siblings\t: 2\n",
            "core id\t\t: 0\n",
            "cpu cores\t: 1\n",
            "apicid\t\t: 1\n",
            "initial apicid\t: 1\n",
            "fpu\t\t: yes\n",
            "fpu_exception\t: yes\n",
            "cpuid level\t: 13\n",
            "wp\t\t: yes\n",
            "flags\t\t: fpu vme de pse tsc msr pae mce cx8 apic sep mtrr pge mca cmov pat pse36 clflush mmx fxsr sse sse2 ss ht syscall nx pdpe1gb rdtscp lm constant_tsc rep_good nopl xtopology nonstop_tsc cpuid tsc_known_freq pni pclmulqdq ssse3 fma cx16 pcid sse4_1 sse4_2 x2apic movbe popcnt aes xsave avx f16c rdrand hypervisor lahf_lm abm invpcid_single ssbd ibrs ibpb stibp fsgsbase tsc_adjust bmi1 avx2 smep bmi2 erms invpcid xsaveopt arat md_clear arch_capabilities\n",
            "bugs\t\t: cpu_meltdown spectre_v1 spectre_v2 spec_store_bypass l1tf mds swapgs itlb_multihit\n",
            "bogomips\t: 4600.00\n",
            "clflush size\t: 64\n",
            "cache_alignment\t: 64\n",
            "address sizes\t: 46 bits physical, 48 bits virtual\n",
            "power management:\n",
            "\n"
          ],
          "name": "stdout"
        }
      ]
    },
    {
      "cell_type": "code",
      "metadata": {
        "id": "5ifVQX7_imbt",
        "colab_type": "code",
        "outputId": "083465b0-2887-4961-d202-4f027ec03995",
        "colab": {
          "base_uri": "https://localhost:8080/",
          "height": 832
        }
      },
      "source": [
        "!cat /proc/meminfo"
      ],
      "execution_count": 3,
      "outputs": [
        {
          "output_type": "stream",
          "text": [
            "MemTotal:       13333556 kB\n",
            "MemFree:        10614004 kB\n",
            "MemAvailable:   12497116 kB\n",
            "Buffers:           69920 kB\n",
            "Cached:          1877272 kB\n",
            "SwapCached:            0 kB\n",
            "Active:           732488 kB\n",
            "Inactive:        1737052 kB\n",
            "Active(anon):     407460 kB\n",
            "Inactive(anon):      316 kB\n",
            "Active(file):     325028 kB\n",
            "Inactive(file):  1736736 kB\n",
            "Unevictable:           0 kB\n",
            "Mlocked:               0 kB\n",
            "SwapTotal:             0 kB\n",
            "SwapFree:              0 kB\n",
            "Dirty:              1008 kB\n",
            "Writeback:             0 kB\n",
            "AnonPages:        522380 kB\n",
            "Mapped:           224800 kB\n",
            "Shmem:               904 kB\n",
            "Slab:             161532 kB\n",
            "SReclaimable:     124484 kB\n",
            "SUnreclaim:        37048 kB\n",
            "KernelStack:        3380 kB\n",
            "PageTables:         5592 kB\n",
            "NFS_Unstable:          0 kB\n",
            "Bounce:                0 kB\n",
            "WritebackTmp:          0 kB\n",
            "CommitLimit:     6666776 kB\n",
            "Committed_AS:    2610808 kB\n",
            "VmallocTotal:   34359738367 kB\n",
            "VmallocUsed:           0 kB\n",
            "VmallocChunk:          0 kB\n",
            "Percpu:              920 kB\n",
            "AnonHugePages:         0 kB\n",
            "ShmemHugePages:        0 kB\n",
            "ShmemPmdMapped:        0 kB\n",
            "HugePages_Total:       0\n",
            "HugePages_Free:        0\n",
            "HugePages_Rsvd:        0\n",
            "HugePages_Surp:        0\n",
            "Hugepagesize:       2048 kB\n",
            "Hugetlb:               0 kB\n",
            "DirectMap4k:       79036 kB\n",
            "DirectMap2M:     5163008 kB\n",
            "DirectMap1G:    10485760 kB\n"
          ],
          "name": "stdout"
        }
      ]
    },
    {
      "cell_type": "markdown",
      "metadata": {
        "id": "_Gd7wKc2k-GT",
        "colab_type": "text"
      },
      "source": [
        "**bold**\n",
        "$\\LaTeX$"
      ]
    },
    {
      "cell_type": "markdown",
      "metadata": {
        "id": "kiIPHXHPlXe2",
        "colab_type": "text"
      },
      "source": [
        "# Basic Data Types"
      ]
    },
    {
      "cell_type": "code",
      "metadata": {
        "id": "s9G6cyN4kcZa",
        "colab_type": "code",
        "outputId": "560749cf-c749-402c-c150-3f7bb34a1872",
        "colab": {
          "base_uri": "https://localhost:8080/",
          "height": 87
        }
      },
      "source": [
        "name = 'iPhone 5s'\n",
        "print(type(name))\n",
        "print(name)\n",
        "screen_size=4.3\n",
        "print(type(screen_size))\n",
        "print(screen_size)"
      ],
      "execution_count": 4,
      "outputs": [
        {
          "output_type": "stream",
          "text": [
            "<class 'str'>\n",
            "iPhone 5s\n",
            "<class 'float'>\n",
            "4.3\n"
          ],
          "name": "stdout"
        }
      ]
    },
    {
      "cell_type": "code",
      "metadata": {
        "id": "i46cocRllm8j",
        "colab_type": "code",
        "outputId": "9d2b33d3-dcd7-4378-f002-8f3e57a1fce6",
        "colab": {
          "base_uri": "https://localhost:8080/",
          "height": 52
        }
      },
      "source": [
        "num_of_speakers = 1\n",
        "print(type(num_of_speakers))\n",
        "print(num_of_speakers)"
      ],
      "execution_count": 5,
      "outputs": [
        {
          "output_type": "stream",
          "text": [
            "<class 'int'>\n",
            "1\n"
          ],
          "name": "stdout"
        }
      ]
    },
    {
      "cell_type": "code",
      "metadata": {
        "id": "nhwPI4z0l4em",
        "colab_type": "code",
        "outputId": "97ad126f-2489-4786-93d6-7b19167e7a00",
        "colab": {
          "base_uri": "https://localhost:8080/",
          "height": 52
        }
      },
      "source": [
        "print('I just bought an '+ name)\n",
        "print('its screen size is ', screen_size)"
      ],
      "execution_count": 6,
      "outputs": [
        {
          "output_type": "stream",
          "text": [
            "I just bought an iPhone 5s\n",
            "its screen size is  4.3\n"
          ],
          "name": "stdout"
        }
      ]
    },
    {
      "cell_type": "code",
      "metadata": {
        "id": "g_qR40KTmFVO",
        "colab_type": "code",
        "outputId": "6771b6f2-8991-4cbf-9950-99868d899e53",
        "colab": {
          "base_uri": "https://localhost:8080/",
          "height": 35
        }
      },
      "source": [
        " a=1\n",
        " b=2\n",
        " print(a*b,a/b,a+b,a-b,a**b,a//b)"
      ],
      "execution_count": 7,
      "outputs": [
        {
          "output_type": "stream",
          "text": [
            "2 0.5 3 -1 1 0\n"
          ],
          "name": "stdout"
        }
      ]
    },
    {
      "cell_type": "code",
      "metadata": {
        "id": "_h-hWfBTqBGr",
        "colab_type": "code",
        "outputId": "f732035e-f5fd-4b70-fd45-2cd49ee07350",
        "colab": {
          "base_uri": "https://localhost:8080/",
          "height": 69
        }
      },
      "source": [
        "is_android=False\n",
        "print(type(is_android))\n",
        "print(is_android == True)\n",
        "print(is_android == False and num_of_speakers>1)"
      ],
      "execution_count": 8,
      "outputs": [
        {
          "output_type": "stream",
          "text": [
            "<class 'bool'>\n",
            "False\n",
            "False\n"
          ],
          "name": "stdout"
        }
      ]
    },
    {
      "cell_type": "code",
      "metadata": {
        "id": "f_wUDUdxqTY3",
        "colab_type": "code",
        "outputId": "bc464050-d873-40e1-ade4-9e615d07e82e",
        "colab": {
          "base_uri": "https://localhost:8080/",
          "height": 35
        }
      },
      "source": [
        "if is_android == True:\n",
        "  print(name + ' supports Android')\n",
        "print('outside if')"
      ],
      "execution_count": 9,
      "outputs": [
        {
          "output_type": "stream",
          "text": [
            "outside if\n"
          ],
          "name": "stdout"
        }
      ]
    },
    {
      "cell_type": "code",
      "metadata": {
        "id": "WGycofvZqjon",
        "colab_type": "code",
        "outputId": "bb913987-b985-45f9-db49-80e5b1059947",
        "colab": {
          "base_uri": "https://localhost:8080/",
          "height": 104
        }
      },
      "source": [
        "for i in range(5):\n",
        "  print(i,i**2)"
      ],
      "execution_count": 10,
      "outputs": [
        {
          "output_type": "stream",
          "text": [
            "0 0\n",
            "1 1\n",
            "2 4\n",
            "3 9\n",
            "4 16\n"
          ],
          "name": "stdout"
        }
      ]
    },
    {
      "cell_type": "code",
      "metadata": {
        "id": "bTFmkOOuqpYi",
        "colab_type": "code",
        "outputId": "687de009-5dec-4b97-a99b-9b7956fe4cf5",
        "colab": {
          "base_uri": "https://localhost:8080/",
          "height": 104
        }
      },
      "source": [
        "i = 0\n",
        "while i<5:\n",
        "  print(i,i**2)\n",
        "  i+=1"
      ],
      "execution_count": 11,
      "outputs": [
        {
          "output_type": "stream",
          "text": [
            "0 0\n",
            "1 1\n",
            "2 4\n",
            "3 9\n",
            "4 16\n"
          ],
          "name": "stdout"
        }
      ]
    },
    {
      "cell_type": "code",
      "metadata": {
        "id": "NHR-2xxfqyYq",
        "colab_type": "code",
        "colab": {}
      },
      "source": [
        "def print_square(stop_val):\n",
        "  for i in range(stop_val):\n",
        "    print(i,i**2)"
      ],
      "execution_count": 0,
      "outputs": []
    },
    {
      "cell_type": "code",
      "metadata": {
        "id": "fGuEF2QJq7zR",
        "colab_type": "code",
        "outputId": "d0d59e47-61ae-414f-d61c-6c94d62f745d",
        "colab": {
          "base_uri": "https://localhost:8080/",
          "height": 191
        }
      },
      "source": [
        "print_square(10)"
      ],
      "execution_count": 13,
      "outputs": [
        {
          "output_type": "stream",
          "text": [
            "0 0\n",
            "1 1\n",
            "2 4\n",
            "3 9\n",
            "4 16\n",
            "5 25\n",
            "6 36\n",
            "7 49\n",
            "8 64\n",
            "9 81\n"
          ],
          "name": "stdout"
        }
      ]
    },
    {
      "cell_type": "code",
      "metadata": {
        "id": "8ZsDcXHGq9iY",
        "colab_type": "code",
        "outputId": "1bc5724b-d61d-401b-fd0a-897756bab6fb",
        "colab": {
          "base_uri": "https://localhost:8080/",
          "height": 35
        }
      },
      "source": [
        "def sum_of_squares(stop_val):\n",
        "  sum = 0\n",
        "  for i in range(stop_val):\n",
        "    sum+=i**2\n",
        "  return sum\n",
        "print(sum_of_squares(5))"
      ],
      "execution_count": 14,
      "outputs": [
        {
          "output_type": "stream",
          "text": [
            "30\n"
          ],
          "name": "stdout"
        }
      ]
    },
    {
      "cell_type": "code",
      "metadata": {
        "id": "PLiFAa42rQUl",
        "colab_type": "code",
        "colab": {}
      },
      "source": [
        "def print_square_with_start_val(stop_val,start_val=0):\n",
        "  \"\"\"\"Prints the squares of numbers between the given range of values\"\"\"\n",
        "  for i in range(start_val,stop_val):\n",
        "    print(i,i**2)"
      ],
      "execution_count": 0,
      "outputs": []
    },
    {
      "cell_type": "code",
      "metadata": {
        "id": "wO3Ki5FJrdRG",
        "colab_type": "code",
        "outputId": "e2a08cce-8587-4251-912f-7ef4fd191e7f",
        "colab": {
          "base_uri": "https://localhost:8080/",
          "height": 104
        }
      },
      "source": [
        "print_square_with_start_val(start_val=5,stop_val=10)"
      ],
      "execution_count": 16,
      "outputs": [
        {
          "output_type": "stream",
          "text": [
            "5 25\n",
            "6 36\n",
            "7 49\n",
            "8 64\n",
            "9 81\n"
          ],
          "name": "stdout"
        }
      ]
    },
    {
      "cell_type": "code",
      "metadata": {
        "id": "yhRY-nVjrgHI",
        "colab_type": "code",
        "outputId": "cb7f4821-6c37-40a4-a681-19c105ab53fe",
        "colab": {
          "base_uri": "https://localhost:8080/",
          "height": 69
        }
      },
      "source": [
        "print_square_with_start_val(5,2)"
      ],
      "execution_count": 17,
      "outputs": [
        {
          "output_type": "stream",
          "text": [
            "2 4\n",
            "3 9\n",
            "4 16\n"
          ],
          "name": "stdout"
        }
      ]
    },
    {
      "cell_type": "code",
      "metadata": {
        "id": "8G8pCwZqrvGP",
        "colab_type": "code",
        "outputId": "2bf2b6e0-0664-49aa-aa5a-ababf9bb5056",
        "colab": {
          "base_uri": "https://localhost:8080/",
          "height": 104
        }
      },
      "source": [
        "help(print_square_with_start_val)"
      ],
      "execution_count": 18,
      "outputs": [
        {
          "output_type": "stream",
          "text": [
            "Help on function print_square_with_start_val in module __main__:\n",
            "\n",
            "print_square_with_start_val(stop_val, start_val=0)\n",
            "    \"Prints the squares of numbers between the given range of values\n",
            "\n"
          ],
          "name": "stdout"
        }
      ]
    },
    {
      "cell_type": "code",
      "metadata": {
        "id": "LLYs1AbIsYON",
        "colab_type": "code",
        "colab": {}
      },
      "source": [
        "print_square_with_start_val?"
      ],
      "execution_count": 0,
      "outputs": []
    },
    {
      "cell_type": "markdown",
      "metadata": {
        "id": "gtyy232espmT",
        "colab_type": "text"
      },
      "source": [
        "# Python List"
      ]
    },
    {
      "cell_type": "code",
      "metadata": {
        "id": "ePWGcETUsa9G",
        "colab_type": "code",
        "colab": {}
      },
      "source": [
        "my_phone=[name,is_android,screen_size]"
      ],
      "execution_count": 0,
      "outputs": []
    },
    {
      "cell_type": "code",
      "metadata": {
        "id": "tbuTC4zZuEpq",
        "colab_type": "code",
        "outputId": "362c4555-06fb-40df-fc2e-ca60ace1be3a",
        "colab": {
          "base_uri": "https://localhost:8080/",
          "height": 104
        }
      },
      "source": [
        "print(type(my_phone))\n",
        "print(my_phone)\n",
        "for i in range(len(my_phone)):\n",
        "  print(my_phone[i] , type(my_phone[i]))"
      ],
      "execution_count": 21,
      "outputs": [
        {
          "output_type": "stream",
          "text": [
            "<class 'list'>\n",
            "['iPhone 5s', False, 4.3]\n",
            "iPhone 5s <class 'str'>\n",
            "False <class 'bool'>\n",
            "4.3 <class 'float'>\n"
          ],
          "name": "stdout"
        }
      ]
    },
    {
      "cell_type": "code",
      "metadata": {
        "id": "h-eUn97ZuJan",
        "colab_type": "code",
        "outputId": "1a0ed931-7529-4263-bd59-c10e63686528",
        "colab": {
          "base_uri": "https://localhost:8080/",
          "height": 35
        }
      },
      "source": [
        "my_dads_phone = my_phone #sharing same refernce\n",
        "print(my_dads_phone)"
      ],
      "execution_count": 22,
      "outputs": [
        {
          "output_type": "stream",
          "text": [
            "['iPhone 5s', False, 4.3]\n"
          ],
          "name": "stdout"
        }
      ]
    },
    {
      "cell_type": "code",
      "metadata": {
        "id": "nvVkVCuivReb",
        "colab_type": "code",
        "outputId": "276fdd12-44d0-4d34-a406-545e13afd098",
        "colab": {
          "base_uri": "https://localhost:8080/",
          "height": 52
        }
      },
      "source": [
        "my_phone[2]=4\n",
        "print(my_phone)\n",
        "print(my_dads_phone)"
      ],
      "execution_count": 23,
      "outputs": [
        {
          "output_type": "stream",
          "text": [
            "['iPhone 5s', False, 4]\n",
            "['iPhone 5s', False, 4]\n"
          ],
          "name": "stdout"
        }
      ]
    },
    {
      "cell_type": "code",
      "metadata": {
        "id": "bFODxwkQvgmT",
        "colab_type": "code",
        "outputId": "8881bc32-6667-4135-9315-d3ba6e5dc6d5",
        "colab": {
          "base_uri": "https://localhost:8080/",
          "height": 69
        }
      },
      "source": [
        "# to avoid sharing refernce\n",
        "my_dads_phone = list(my_phone)\n",
        "print(my_dads_phone)\n",
        "my_phone[2]=4.3\n",
        "print(my_phone)\n",
        "print(my_dads_phone)"
      ],
      "execution_count": 24,
      "outputs": [
        {
          "output_type": "stream",
          "text": [
            "['iPhone 5s', False, 4]\n",
            "['iPhone 5s', False, 4.3]\n",
            "['iPhone 5s', False, 4]\n"
          ],
          "name": "stdout"
        }
      ]
    },
    {
      "cell_type": "code",
      "metadata": {
        "id": "_AWqgrUuwU3i",
        "colab_type": "code",
        "outputId": "c7ae27d2-82dc-4169-a100-0354bd6883ed",
        "colab": {
          "base_uri": "https://localhost:8080/",
          "height": 52
        }
      },
      "source": [
        "my_phone.append('4G')\n",
        "print(my_phone)\n",
        "print(len(my_phone))"
      ],
      "execution_count": 25,
      "outputs": [
        {
          "output_type": "stream",
          "text": [
            "['iPhone 5s', False, 4.3, '4G']\n",
            "4\n"
          ],
          "name": "stdout"
        }
      ]
    },
    {
      "cell_type": "code",
      "metadata": {
        "id": "FVm_hmR_zFMY",
        "colab_type": "code",
        "outputId": "27221720-b62c-4e53-8e3b-8361d3213d88",
        "colab": {
          "base_uri": "https://localhost:8080/",
          "height": 35
        }
      },
      "source": [
        "iphone5s_specs = ['single_size',35000]\n",
        "my_phone+=iphone5s_specs\n",
        "\n",
        "print(my_phone)\n"
      ],
      "execution_count": 26,
      "outputs": [
        {
          "output_type": "stream",
          "text": [
            "['iPhone 5s', False, 4.3, '4G', 'single_size', 35000]\n"
          ],
          "name": "stdout"
        }
      ]
    },
    {
      "cell_type": "code",
      "metadata": {
        "id": "GFBgFlyYzkZ5",
        "colab_type": "code",
        "outputId": "1dcdb8cc-e206-4932-f00a-0cca9c0239bf",
        "colab": {
          "base_uri": "https://localhost:8080/",
          "height": 121
        }
      },
      "source": [
        "for data in my_phone:\n",
        "  print(data)"
      ],
      "execution_count": 27,
      "outputs": [
        {
          "output_type": "stream",
          "text": [
            "iPhone 5s\n",
            "False\n",
            "4.3\n",
            "4G\n",
            "single_size\n",
            "35000\n"
          ],
          "name": "stdout"
        }
      ]
    },
    {
      "cell_type": "code",
      "metadata": {
        "id": "P8pLG_Jlzu3u",
        "colab_type": "code",
        "outputId": "90db8614-8928-45b4-d3d3-bdcc017b461b",
        "colab": {
          "base_uri": "https://localhost:8080/",
          "height": 35
        }
      },
      "source": [
        "print(list(range(5)))"
      ],
      "execution_count": 28,
      "outputs": [
        {
          "output_type": "stream",
          "text": [
            "[0, 1, 2, 3, 4]\n"
          ],
          "name": "stdout"
        }
      ]
    },
    {
      "cell_type": "code",
      "metadata": {
        "id": "6n6JyuQSzy7F",
        "colab_type": "code",
        "outputId": "9110e3e7-4f19-4f8a-c81b-ebcf67fe3132",
        "colab": {
          "base_uri": "https://localhost:8080/",
          "height": 35
        }
      },
      "source": [
        "import numpy as np\n",
        "print(np.arange(5))"
      ],
      "execution_count": 29,
      "outputs": [
        {
          "output_type": "stream",
          "text": [
            "[0 1 2 3 4]\n"
          ],
          "name": "stdout"
        }
      ]
    },
    {
      "cell_type": "code",
      "metadata": {
        "id": "z6NylaEez1Sa",
        "colab_type": "code",
        "outputId": "d85c2f11-51e9-419d-92f3-57c44c61de1e",
        "colab": {
          "base_uri": "https://localhost:8080/",
          "height": 35
        }
      },
      "source": [
        "print(list(map(lambda x:x**2,list(range(5)))))"
      ],
      "execution_count": 30,
      "outputs": [
        {
          "output_type": "stream",
          "text": [
            "[0, 1, 4, 9, 16]\n"
          ],
          "name": "stdout"
        }
      ]
    },
    {
      "cell_type": "code",
      "metadata": {
        "id": "oXpWhBmd0NhL",
        "colab_type": "code",
        "outputId": "f869426a-a400-4526-c6f9-6fadbd30f7e5",
        "colab": {
          "base_uri": "https://localhost:8080/",
          "height": 35
        }
      },
      "source": [
        "print(list(filter(lambda x: x%2==0,list(range(5)))))"
      ],
      "execution_count": 31,
      "outputs": [
        {
          "output_type": "stream",
          "text": [
            "[0, 2, 4]\n"
          ],
          "name": "stdout"
        }
      ]
    },
    {
      "cell_type": "markdown",
      "metadata": {
        "id": "Jr_kj0tBzvVM",
        "colab_type": "text"
      },
      "source": [
        "## Tuples\n",
        " Tuples are immutable, but list are mutable"
      ]
    },
    {
      "cell_type": "code",
      "metadata": {
        "id": "3OTKP5V90kgp",
        "colab_type": "code",
        "colab": {
          "base_uri": "https://localhost:8080/",
          "height": 35
        },
        "outputId": "0f72b1ae-a24c-4046-a5af-7d720b04391d"
      },
      "source": [
        "my_phone_tuple = (\"iphone5s\",False,4.3)\n",
        "print(type(my_phone_tuple))"
      ],
      "execution_count": 32,
      "outputs": [
        {
          "output_type": "stream",
          "text": [
            "<class 'tuple'>\n"
          ],
          "name": "stdout"
        }
      ]
    },
    {
      "cell_type": "code",
      "metadata": {
        "id": "XAibE7Bz0Pdb",
        "colab_type": "code",
        "colab": {
          "base_uri": "https://localhost:8080/",
          "height": 35
        },
        "outputId": "3c1e31f2-dc84-4f23-be51-e4c54ec359fb"
      },
      "source": [
        "my_phone_tuple[0:2]"
      ],
      "execution_count": 33,
      "outputs": [
        {
          "output_type": "execute_result",
          "data": {
            "text/plain": [
              "('iphone5s', False)"
            ]
          },
          "metadata": {
            "tags": []
          },
          "execution_count": 33
        }
      ]
    },
    {
      "cell_type": "code",
      "metadata": {
        "id": "BefyGPXj0TSq",
        "colab_type": "code",
        "colab": {
          "base_uri": "https://localhost:8080/",
          "height": 69
        },
        "outputId": "762743de-9887-4543-be62-6107aec05492"
      },
      "source": [
        "for data in my_phone_tuple:\n",
        "  print(data)"
      ],
      "execution_count": 34,
      "outputs": [
        {
          "output_type": "stream",
          "text": [
            "iphone5s\n",
            "False\n",
            "4.3\n"
          ],
          "name": "stdout"
        }
      ]
    },
    {
      "cell_type": "code",
      "metadata": {
        "id": "V7tRYKta0Xnk",
        "colab_type": "code",
        "colab": {
          "base_uri": "https://localhost:8080/",
          "height": 35
        },
        "outputId": "5050f8cc-9d16-4cfe-8265-e5a17a22bb7f"
      },
      "source": [
        "import time\n",
        "tic = time.time()\n",
        "print(tic)"
      ],
      "execution_count": 35,
      "outputs": [
        {
          "output_type": "stream",
          "text": [
            "1591433773.399703\n"
          ],
          "name": "stdout"
        }
      ]
    },
    {
      "cell_type": "code",
      "metadata": {
        "id": "aRYDIMXB0qg4",
        "colab_type": "code",
        "colab": {
          "base_uri": "https://localhost:8080/",
          "height": 35
        },
        "outputId": "e6fb9667-e80d-4fac-e8b5-b644260e083c"
      },
      "source": [
        "toc = time.time()\n",
        "print(\"elapsed time in seconds = \", toc-tic)"
      ],
      "execution_count": 36,
      "outputs": [
        {
          "output_type": "stream",
          "text": [
            "elapsed time in seconds =  0.009626150131225586\n"
          ],
          "name": "stdout"
        }
      ]
    },
    {
      "cell_type": "code",
      "metadata": {
        "id": "0_RwKoAa0534",
        "colab_type": "code",
        "colab": {
          "base_uri": "https://localhost:8080/",
          "height": 35
        },
        "outputId": "3964565c-5c62-4ace-933d-9f98af8093f9"
      },
      "source": [
        "my_list = list(range(1000000))\n",
        "tic = time.time()\n",
        "my_list_squared = map(lambda i:i**2,my_list)\n",
        "toc = time.time()\n",
        "print(\"elapsed time= \",toc-tic)"
      ],
      "execution_count": 37,
      "outputs": [
        {
          "output_type": "stream",
          "text": [
            "elapsed time=  6.127357482910156e-05\n"
          ],
          "name": "stdout"
        }
      ]
    },
    {
      "cell_type": "code",
      "metadata": {
        "id": "Yh4U-LbE1USn",
        "colab_type": "code",
        "colab": {
          "base_uri": "https://localhost:8080/",
          "height": 35
        },
        "outputId": "9666139a-1491-4d3d-c6ba-31ce24c95871"
      },
      "source": [
        "my_tuple = tuple(my_list)\n",
        "tic = time.time()\n",
        "my_tuple_squared = map(lambda i:i**2,my_tuple)\n",
        "toc = time.time()\n",
        "print(\"elapsed time= \",toc-tic)"
      ],
      "execution_count": 38,
      "outputs": [
        {
          "output_type": "stream",
          "text": [
            "elapsed time=  5.841255187988281e-05\n"
          ],
          "name": "stdout"
        }
      ]
    },
    {
      "cell_type": "markdown",
      "metadata": {
        "id": "Rd1u0jRb1olA",
        "colab_type": "text"
      },
      "source": [
        "List operations take more time than tuple"
      ]
    }
  ]
}