{
 "cells": [
  {
   "cell_type": "code",
   "execution_count": 3,
   "metadata": {},
   "outputs": [
    {
     "name": "stdout",
     "output_type": "stream",
     "text": [
      "hello world\n"
     ]
    }
   ],
   "source": [
    "print(\"hello world\")"
   ]
  },
  {
   "cell_type": "markdown",
   "metadata": {},
   "source": [
    "# Variable types and declaration"
   ]
  },
  {
   "cell_type": "code",
   "execution_count": 6,
   "metadata": {},
   "outputs": [
    {
     "name": "stdout",
     "output_type": "stream",
     "text": [
      "1 <class 'int'>\n",
      "hello <class 'str'>\n",
      "1.9 <class 'float'>\n",
      "False <class 'bool'>\n"
     ]
    }
   ],
   "source": [
    "a=1\n",
    "b=\"hello\"\n",
    "c=1.90\n",
    "d=False\n",
    "print(a,type(a))\n",
    "print(b,type(b))\n",
    "print(c,type(c))\n",
    "print(d,type(d))"
   ]
  },
  {
   "cell_type": "markdown",
   "metadata": {},
   "source": [
    "# Basic Operations"
   ]
  },
  {
   "cell_type": "code",
   "execution_count": 8,
   "metadata": {},
   "outputs": [
    {
     "name": "stdout",
     "output_type": "stream",
     "text": [
      "x= 2 ,y= 3\n",
      "x+y= 5\n",
      "x-y= -1\n",
      "x/y= 0.6666666666666666 <class 'float'>\n",
      "x%y= 2\n",
      "x*y= 6\n",
      "x**y= 8\n"
     ]
    }
   ],
   "source": [
    "x=2\n",
    "y=3\n",
    "print(\"x=\",x,\",y=\",y)\n",
    "print(\"x+y=\",(x+y))\n",
    "print(\"x-y=\",(x-y))\n",
    "print(\"x/y=\",(x/y),type(x/y))\n",
    "print(\"x%y=\",(x%y))\n",
    "print(\"x*y=\",(x*y))\n",
    "print(\"x**y=\",(x**y))"
   ]
  },
  {
   "cell_type": "markdown",
   "metadata": {},
   "source": [
    "# Getting Input\n"
   ]
  },
  {
   "cell_type": "code",
   "execution_count": 11,
   "metadata": {},
   "outputs": [
    {
     "name": "stdout",
     "output_type": "stream",
     "text": [
      "enter a number5\n",
      "entered number is  5 <class 'str'>\n",
      "enter a number3\n",
      "entered number is  3 <class 'int'>\n"
     ]
    }
   ],
   "source": [
    "x=input(\"enter a number\")\n",
    "print(\"entered number is \",x, type(x))\n",
    "y=int(input(\"enter a number\"))\n",
    "print(\"entered number is \",y, type(y))"
   ]
  },
  {
   "cell_type": "markdown",
   "metadata": {},
   "source": [
    "# Datastructure"
   ]
  },
  {
   "cell_type": "markdown",
   "metadata": {},
   "source": [
    "### List -mutable and allows duplicates"
   ]
  },
  {
   "cell_type": "code",
   "execution_count": 67,
   "metadata": {},
   "outputs": [
    {
     "name": "stdout",
     "output_type": "stream",
     "text": [
      "[81, 62, 95, 87, 67]\n",
      "marks[4]= 67\n",
      "87\n",
      "[62, 95]\n",
      "[87, 67]\n",
      "[81, 62]\n",
      "[81, 62, 95, 87, 78]\n",
      "5\n",
      "[81, 62, 95, 87, 78, 100, 71]\n"
     ]
    }
   ],
   "source": [
    "marks=[81,62,95,87,67]\n",
    "print(marks)\n",
    "print(\"marks[4]= %d\" %marks[4])#printing 4th index\n",
    "print(marks[-2]) #printing 1st index from end,last index is -1\n",
    "print(marks[1:3])#printing from 1st and 2nd \n",
    "print(marks[3:])#printing from 3rd index\n",
    "print(marks[:2])#printing till 2nd index\n",
    "marks[4]=78 #mutable\n",
    "print(marks)\n",
    "print(len(marks))\n",
    "#remove(element),pop(position),clear()->deletes all elements of list\n",
    "marks.extend([100,71])\n",
    "print(marks)"
   ]
  },
  {
   "cell_type": "code",
   "execution_count": 24,
   "metadata": {},
   "outputs": [
    {
     "name": "stdout",
     "output_type": "stream",
     "text": [
      "[81, 62, 95, 87, 78, 100]\n",
      "[81, 62, 87, 78, 100]\n",
      "[81, 100, 62, 87, 78, 100]\n",
      "[62, 78, 81, 87, 100, 100]\n",
      "[100, 100, 87, 81, 78, 62]\n"
     ]
    }
   ],
   "source": [
    "#adding,removing,sorting list elements\n",
    "marks.append(100)\n",
    "print(marks)\n",
    "marks.remove(95)\n",
    "print(marks)\n",
    "marks.insert(1,100)\n",
    "print(marks)\n",
    "print(sorted(marks))\n",
    "print(sorted(marks,reverse=True))"
   ]
  },
  {
   "cell_type": "code",
   "execution_count": 29,
   "metadata": {},
   "outputs": [
    {
     "name": "stdout",
     "output_type": "stream",
     "text": [
      "[81, 100, 87, 78, 100]\n",
      "[81, 100, 87, 100]\n"
     ]
    }
   ],
   "source": [
    "#list comprehension\n",
    "pass_mark=65\n",
    "pass_list=[mark for mark in marks if mark > pass_mark]\n",
    "print(pass_list)\n",
    "\n",
    "#this is equivalent to\n",
    "\n",
    "newPassMark=80\n",
    "newPassList=[]\n",
    "for i in marks:\n",
    "    if i>newPassMark:\n",
    "        newPassList.append(i)\n",
    "print(newPassList)        \n"
   ]
  },
  {
   "cell_type": "markdown",
   "metadata": {},
   "source": [
    "### Tuple - immutable but allows duplicates\n"
   ]
  },
  {
   "cell_type": "code",
   "execution_count": 30,
   "metadata": {},
   "outputs": [
    {
     "name": "stdout",
     "output_type": "stream",
     "text": [
      "(81, 62, 95, 87, 67)\n",
      "marks[4]= 67\n",
      "87\n",
      "(62, 95)\n",
      "(87, 67)\n",
      "(81, 62)\n",
      "5\n"
     ]
    }
   ],
   "source": [
    "marks=(81,62,95,87,67)\n",
    "print(marks)\n",
    "print(\"marks[4]= %d\" %marks[4])#printing 4th index\n",
    "print(marks[-2]) #printing 1st index from end,last index is -1\n",
    "print(marks[1:3])#printing from 1st and 2nd \n",
    "print(marks[3:])#printing from 3rd index\n",
    "print(marks[:2])#printing till 2nd index\n",
    "print(len(marks))"
   ]
  },
  {
   "cell_type": "code",
   "execution_count": 33,
   "metadata": {},
   "outputs": [
    {
     "name": "stdout",
     "output_type": "stream",
     "text": [
      "[81, 95, 87, 67]\n",
      "[62, 67, 81, 87, 95]\n",
      "[95, 87, 81, 67, 62]\n"
     ]
    }
   ],
   "source": [
    "#TUPLE comprehension\n",
    "pass_mark=65\n",
    "pass_list=[mark for mark in marks if mark > pass_mark]\n",
    "print(pass_list)\n",
    "##insert,remove are not available\n",
    "print(sorted(marks))\n",
    "print(sorted(marks,reverse=True))"
   ]
  },
  {
   "cell_type": "code",
   "execution_count": 72,
   "metadata": {},
   "outputs": [
    {
     "name": "stdout",
     "output_type": "stream",
     "text": [
      "deque(['Eric', 'John', 'Michael', 'Terry', 'Graham'])\n",
      "deque(['Michael', 'Terry', 'Graham'])\n"
     ]
    }
   ],
   "source": [
    "from collections import deque\n",
    "queue = deque([\"Eric\", \"John\", \"Michael\"])\n",
    "queue.append(\"Terry\")           # Terry arrives\n",
    "queue.append(\"Graham\") # Graham arrives\n",
    "print(queue)\n",
    "queue.popleft()                 # The first to arrive now leaves\n",
    "queue.popleft()                 # The second to arrive now leaves\n",
    "print(queue)                           # Remaining queue in order of arrival"
   ]
  },
  {
   "cell_type": "markdown",
   "metadata": {},
   "source": [
    "### Set - Mutable but no duplictes"
   ]
  },
  {
   "cell_type": "code",
   "execution_count": 36,
   "metadata": {},
   "outputs": [
    {
     "name": "stdout",
     "output_type": "stream",
     "text": [
      "{1, 2, 3, 4}\n",
      "{4, 5, 6}\n",
      "a&b= {4}\n",
      "a|b= {1, 2, 3, 4, 5, 6}\n",
      "a-b= {1, 2, 3}\n",
      "a^b= {1, 2, 3, 5, 6}\n",
      "{1, 2, 3, 4, 5}\n"
     ]
    }
   ],
   "source": [
    "a={1,2,3,4}\n",
    "b={4,5,6}\n",
    "print(a)\n",
    "print(b)\n",
    "print(\"a&b=\",a&b)#intersection\n",
    "print(\"a|b=\",a|b)#union\n",
    "print(\"a-b=\",a-b)#difference\n",
    "print(\"a^b=\",a^b)#symmetric difference\n",
    "#adding and removing elements are possible\n",
    "a.add(5)\n",
    "print(a)"
   ]
  },
  {
   "cell_type": "markdown",
   "metadata": {},
   "source": [
    "### Dictionary - mutable key-value pairs"
   ]
  },
  {
   "cell_type": "code",
   "execution_count": 40,
   "metadata": {},
   "outputs": [
    {
     "name": "stdout",
     "output_type": "stream",
     "text": [
      "{'name': 'nitu', 'degree': 'btech', 'cgpa': '8'}\n",
      "nitu\n",
      "name nitu\n",
      "degree btech\n",
      "cgpa 8\n"
     ]
    }
   ],
   "source": [
    "student1={\"name\":\"nitu\",\"degree\":\"btech\",\"cgpa\":\"8\"}\n",
    "print(student1)\n",
    "print(student1[\"name\"])\n",
    "for key,value in student1.items():\n",
    "    print(key,value)"
   ]
  },
  {
   "cell_type": "markdown",
   "metadata": {},
   "source": [
    "# String - immutable\n"
   ]
  },
  {
   "cell_type": "code",
   "execution_count": 43,
   "metadata": {},
   "outputs": [
    {
     "name": "stdout",
     "output_type": "stream",
     "text": [
      "PYTHON\n",
      "python\n",
      "6\n",
      "True\n",
      "False\n",
      "tho\n",
      "['P', 'y', 't', 'h', 'o', 'n']\n"
     ]
    }
   ],
   "source": [
    "word=\"Python\"\n",
    "print(word.upper())\n",
    "print(word.lower())\n",
    "print(len(word))\n",
    "print(word.startswith(\"P\"))\n",
    "print(word.endswith(\"W\"))\n",
    "print(word[2:5])\n",
    "print(list(word))"
   ]
  },
  {
   "cell_type": "code",
   "execution_count": 45,
   "metadata": {},
   "outputs": [
    {
     "name": "stdout",
     "output_type": "stream",
     "text": [
      "['i', 'love', 'python']\n"
     ]
    }
   ],
   "source": [
    "sentence=\"i love python\"\n",
    "words=sentence.split(\" \")\n",
    "print(words)"
   ]
  },
  {
   "cell_type": "markdown",
   "metadata": {},
   "source": [
    "# Control Structures"
   ]
  },
  {
   "cell_type": "code",
   "execution_count": 46,
   "metadata": {},
   "outputs": [
    {
     "name": "stdout",
     "output_type": "stream",
     "text": [
      "enter a number 0\n",
      "number is 0\n"
     ]
    }
   ],
   "source": [
    "num=int(input(\"enter a number \"))\n",
    "if(num>0):\n",
    "    print(\"positive\")\n",
    "elif(num<0):\n",
    "    print(\"negative\")\n",
    "else:\n",
    "    print(\"number is 0\")\n",
    "    "
   ]
  },
  {
   "cell_type": "code",
   "execution_count": 57,
   "metadata": {},
   "outputs": [
    {
     "name": "stdout",
     "output_type": "stream",
     "text": [
      "nitu@mail.com\n",
      "raji@mail.com\n",
      "balu@mail.com\n"
     ]
    }
   ],
   "source": [
    "names=[\"nitu\",\"raji\",\"balu\"]\n",
    "\n",
    "for i in names:\n",
    "    i+=\"@mail.com\"\n",
    "    print(i)\n"
   ]
  },
  {
   "cell_type": "code",
   "execution_count": 63,
   "metadata": {},
   "outputs": [
    {
     "name": "stdout",
     "output_type": "stream",
     "text": [
      "0\n",
      "1\n",
      "2\n",
      "3\n",
      "4\n"
     ]
    }
   ],
   "source": [
    "for i in range(5):\n",
    "    print(i)"
   ]
  },
  {
   "cell_type": "code",
   "execution_count": 64,
   "metadata": {},
   "outputs": [
    {
     "name": "stdout",
     "output_type": "stream",
     "text": [
      "2\n",
      "3\n",
      "4\n",
      "5\n",
      "6\n",
      "7\n"
     ]
    }
   ],
   "source": [
    "for i in range(2,8):\n",
    "    print(i)"
   ]
  },
  {
   "cell_type": "code",
   "execution_count": 65,
   "metadata": {},
   "outputs": [
    {
     "name": "stdout",
     "output_type": "stream",
     "text": [
      "1\n",
      "3\n"
     ]
    }
   ],
   "source": [
    "for i in range(1,5,2):\n",
    "    print(i)"
   ]
  },
  {
   "cell_type": "code",
   "execution_count": 62,
   "metadata": {},
   "outputs": [
    {
     "name": "stdout",
     "output_type": "stream",
     "text": [
      "enter a number5\n",
      "120\n"
     ]
    }
   ],
   "source": [
    "num=int(input(\"enter a number\"))\n",
    "fact=1\n",
    "while(num>0):\n",
    "    fact=fact*num\n",
    "    num=num-1\n",
    "print(fact)"
   ]
  },
  {
   "cell_type": "markdown",
   "metadata": {},
   "source": [
    "# Functions\n"
   ]
  },
  {
   "cell_type": "code",
   "execution_count": 56,
   "metadata": {},
   "outputs": [
    {
     "data": {
      "text/plain": [
       "9"
      ]
     },
     "execution_count": 56,
     "metadata": {},
     "output_type": "execute_result"
    }
   ],
   "source": [
    "def sum_of_digits(num):\n",
    "    sum=0;\n",
    "    while(num>0):\n",
    "        sum=sum+(num%10)\n",
    "        num=int(num/10)\n",
    "    return sum\n",
    "sum_of_digits(234)"
   ]
  },
  {
   "cell_type": "code",
   "execution_count": 66,
   "metadata": {},
   "outputs": [
    {
     "name": "stdout",
     "output_type": "stream",
     "text": [
      "300\n",
      "9\n",
      "101\n"
     ]
    }
   ],
   "source": [
    "def add(num1, num2=1):\n",
    "    return num1 + num2\n",
    "\n",
    "\n",
    "sum1 = add(100, 200)\n",
    "sum2 = add(8)  # used default argument for second param\n",
    "sum3 = add(100)  # used default argument for second param\n",
    "print(sum1)\n",
    "print(sum2)\n",
    "print(sum3)"
   ]
  },
  {
   "cell_type": "code",
   "execution_count": 74,
   "metadata": {},
   "outputs": [
    {
     "name": "stdout",
     "output_type": "stream",
     "text": [
      "[0, 1, 4, 9, 16, 25, 36, 49, 64, 81]\n"
     ]
    }
   ],
   "source": [
    "squares=[x**2 for x in range(10) ]\n",
    "print(squares)"
   ]
  },
  {
   "cell_type": "code",
   "execution_count": null,
   "metadata": {
    "collapsed": true
   },
   "outputs": [],
   "source": []
  }
 ],
 "metadata": {
  "kernelspec": {
   "display_name": "Python [conda root]",
   "language": "python",
   "name": "conda-root-py"
  },
  "language_info": {
   "codemirror_mode": {
    "name": "ipython",
    "version": 3
   },
   "file_extension": ".py",
   "mimetype": "text/x-python",
   "name": "python",
   "nbconvert_exporter": "python",
   "pygments_lexer": "ipython3",
   "version": "3.6.3"
  }
 },
 "nbformat": 4,
 "nbformat_minor": 2
}
